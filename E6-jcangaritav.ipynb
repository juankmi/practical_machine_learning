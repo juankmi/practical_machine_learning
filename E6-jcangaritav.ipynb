{
 "cells": [
  {
   "cell_type": "markdown",
   "metadata": {},
   "source": [
    "\n",
    "### <span style=\"color:black\"> UNIVERSIDAD DE LOS ANDES\n",
    "\n",
    "Facultad de Ingeniería\n",
    "\n",
    "Departamento de ingeniería Industrial\n",
    "\n",
    "Maestría Inteligencia Analítica para la toma de Decisiones\n",
    "\n",
    "### <span style=\"color:black\">  MIIA4200_01 \n",
    "\n",
    "\n",
    "\n",
    "Juan Camilo Angarita Villamizar      200711784\n",
    "\n",
    "_________________________________"
   ]
  },
  {
   "cell_type": "markdown",
   "metadata": {},
   "source": [
    "# Exercise 6\n",
    "\n",
    "## SVM & Regularization\n",
    "\n",
    "\n",
    "For this homework we consider a set of observations on a number of red and white wine varieties involving their chemical properties and ranking by tasters. Wine industry shows a recent growth spurt as social drinking is on the rise. The price of wine depends on a rather abstract concept of wine appreciation by wine tasters, opinion among whom may have a high degree of variability. Pricing of wine depends on such a volatile factor to some extent. Another key factor in wine certification and quality assessment is physicochemical tests which are laboratory-based and takes into account factors like acidity, pH level, presence of sugar and other chemical properties. For the wine market, it would be of interest if human quality of tasting can be related to the chemical properties of wine so that certification and quality assessment and assurance process is more controlled.\n",
    "\n",
    "Two datasets are available of which one dataset is on red wine and have 1599 different varieties and the other is on white wine and have 4898 varieties. All wines are produced in a particular area of Portugal. Data are collected on 12 different properties of the wines one of which is Quality, based on sensory data, and the rest are on chemical properties of the wines including density, acidity, alcohol content etc. All chemical properties of wines are continuous variables. Quality is an ordinal variable with possible ranking from 1 (worst) to 10 (best). Each variety of wine is tasted by three independent tasters and the final rank assigned is the median rank given by the tasters.\n",
    "\n",
    "A predictive model developed on this data is expected to provide guidance to vineyards regarding quality and price expected on their produce without heavy reliance on volatility of wine tasters."
   ]
  },
  {
   "cell_type": "code",
   "execution_count": 1,
   "metadata": {},
   "outputs": [],
   "source": [
    "import pandas as pd\n",
    "import numpy as np\n",
    "from sklearn.model_selection import train_test_split\n",
    "from sklearn import preprocessing\n",
    "from sklearn.svm import SVC \n",
    "from sklearn.metrics import confusion_matrix\n",
    "from sklearn.metrics import accuracy_score\n",
    "from sklearn.metrics import confusion_matrix\n",
    "from sklearn.metrics import accuracy_score\n"
   ]
  },
  {
   "cell_type": "code",
   "execution_count": 2,
   "metadata": {},
   "outputs": [],
   "source": [
    "data_r = pd.read_csv('https://github.com/albahnsen/PracticalMachineLearningClass/raw/master/datasets/Wine_data_red.csv')\n",
    "data_w = pd.read_csv('https://github.com/albahnsen/PracticalMachineLearningClass/raw/master/datasets/Wine_data_white.csv')"
   ]
  },
  {
   "cell_type": "code",
   "execution_count": 3,
   "metadata": {},
   "outputs": [
    {
     "data": {
      "text/html": [
       "<div>\n",
       "<style scoped>\n",
       "    .dataframe tbody tr th:only-of-type {\n",
       "        vertical-align: middle;\n",
       "    }\n",
       "\n",
       "    .dataframe tbody tr th {\n",
       "        vertical-align: top;\n",
       "    }\n",
       "\n",
       "    .dataframe thead th {\n",
       "        text-align: right;\n",
       "    }\n",
       "</style>\n",
       "<table border=\"1\" class=\"dataframe\">\n",
       "  <thead>\n",
       "    <tr style=\"text-align: right;\">\n",
       "      <th></th>\n",
       "      <th>fixed acidity</th>\n",
       "      <th>volatile acidity</th>\n",
       "      <th>citric acid</th>\n",
       "      <th>residual sugar</th>\n",
       "      <th>chlorides</th>\n",
       "      <th>free sulfur dioxide</th>\n",
       "      <th>total sulfur dioxide</th>\n",
       "      <th>density</th>\n",
       "      <th>pH</th>\n",
       "      <th>sulphates</th>\n",
       "      <th>alcohol</th>\n",
       "      <th>quality</th>\n",
       "      <th>type</th>\n",
       "    </tr>\n",
       "  </thead>\n",
       "  <tbody>\n",
       "    <tr>\n",
       "      <th>4662</th>\n",
       "      <td>7.3</td>\n",
       "      <td>0.17</td>\n",
       "      <td>0.36</td>\n",
       "      <td>8.20</td>\n",
       "      <td>0.028</td>\n",
       "      <td>44.0</td>\n",
       "      <td>111.0</td>\n",
       "      <td>0.99272</td>\n",
       "      <td>3.14</td>\n",
       "      <td>0.41</td>\n",
       "      <td>12.4</td>\n",
       "      <td>6</td>\n",
       "      <td>white</td>\n",
       "    </tr>\n",
       "    <tr>\n",
       "      <th>5873</th>\n",
       "      <td>7.2</td>\n",
       "      <td>0.41</td>\n",
       "      <td>0.30</td>\n",
       "      <td>2.10</td>\n",
       "      <td>0.083</td>\n",
       "      <td>35.0</td>\n",
       "      <td>72.0</td>\n",
       "      <td>0.99700</td>\n",
       "      <td>3.44</td>\n",
       "      <td>0.52</td>\n",
       "      <td>9.4</td>\n",
       "      <td>5</td>\n",
       "      <td>red</td>\n",
       "    </tr>\n",
       "    <tr>\n",
       "      <th>3844</th>\n",
       "      <td>6.7</td>\n",
       "      <td>0.37</td>\n",
       "      <td>0.25</td>\n",
       "      <td>2.50</td>\n",
       "      <td>0.028</td>\n",
       "      <td>24.0</td>\n",
       "      <td>84.0</td>\n",
       "      <td>0.99090</td>\n",
       "      <td>3.14</td>\n",
       "      <td>0.36</td>\n",
       "      <td>11.7</td>\n",
       "      <td>6</td>\n",
       "      <td>white</td>\n",
       "    </tr>\n",
       "    <tr>\n",
       "      <th>4121</th>\n",
       "      <td>6.3</td>\n",
       "      <td>0.23</td>\n",
       "      <td>0.22</td>\n",
       "      <td>17.45</td>\n",
       "      <td>0.054</td>\n",
       "      <td>42.0</td>\n",
       "      <td>151.0</td>\n",
       "      <td>0.99853</td>\n",
       "      <td>3.12</td>\n",
       "      <td>0.60</td>\n",
       "      <td>9.3</td>\n",
       "      <td>6</td>\n",
       "      <td>white</td>\n",
       "    </tr>\n",
       "    <tr>\n",
       "      <th>3695</th>\n",
       "      <td>6.4</td>\n",
       "      <td>0.15</td>\n",
       "      <td>0.40</td>\n",
       "      <td>1.30</td>\n",
       "      <td>0.053</td>\n",
       "      <td>61.0</td>\n",
       "      <td>146.0</td>\n",
       "      <td>0.99112</td>\n",
       "      <td>3.17</td>\n",
       "      <td>0.68</td>\n",
       "      <td>11.0</td>\n",
       "      <td>6</td>\n",
       "      <td>white</td>\n",
       "    </tr>\n",
       "  </tbody>\n",
       "</table>\n",
       "</div>"
      ],
      "text/plain": [
       "      fixed acidity  volatile acidity  citric acid  residual sugar  chlorides  \\\n",
       "4662            7.3              0.17         0.36            8.20      0.028   \n",
       "5873            7.2              0.41         0.30            2.10      0.083   \n",
       "3844            6.7              0.37         0.25            2.50      0.028   \n",
       "4121            6.3              0.23         0.22           17.45      0.054   \n",
       "3695            6.4              0.15         0.40            1.30      0.053   \n",
       "\n",
       "      free sulfur dioxide  total sulfur dioxide  density    pH  sulphates  \\\n",
       "4662                 44.0                 111.0  0.99272  3.14       0.41   \n",
       "5873                 35.0                  72.0  0.99700  3.44       0.52   \n",
       "3844                 24.0                  84.0  0.99090  3.14       0.36   \n",
       "4121                 42.0                 151.0  0.99853  3.12       0.60   \n",
       "3695                 61.0                 146.0  0.99112  3.17       0.68   \n",
       "\n",
       "      alcohol  quality   type  \n",
       "4662     12.4        6  white  \n",
       "5873      9.4        5    red  \n",
       "3844     11.7        6  white  \n",
       "4121      9.3        6  white  \n",
       "3695     11.0        6  white  "
      ]
     },
     "execution_count": 3,
     "metadata": {},
     "output_type": "execute_result"
    }
   ],
   "source": [
    "data = data_w.assign(type = 'white')\n",
    "\n",
    "data = data.append(data_r.assign(type = 'red'), ignore_index=True)\n",
    "data.sample(5)"
   ]
  },
  {
   "cell_type": "markdown",
   "metadata": {},
   "source": [
    "# Exercise 6.1\n",
    "\n",
    "Show the frecuency table of the quality by type of wine"
   ]
  },
  {
   "cell_type": "code",
   "execution_count": 4,
   "metadata": {},
   "outputs": [
    {
     "data": {
      "text/html": [
       "<div>\n",
       "<style scoped>\n",
       "    .dataframe tbody tr th:only-of-type {\n",
       "        vertical-align: middle;\n",
       "    }\n",
       "\n",
       "    .dataframe tbody tr th {\n",
       "        vertical-align: top;\n",
       "    }\n",
       "\n",
       "    .dataframe thead th {\n",
       "        text-align: right;\n",
       "    }\n",
       "</style>\n",
       "<table border=\"1\" class=\"dataframe\">\n",
       "  <thead>\n",
       "    <tr style=\"text-align: right;\">\n",
       "      <th>type</th>\n",
       "      <th>red</th>\n",
       "      <th>white</th>\n",
       "    </tr>\n",
       "    <tr>\n",
       "      <th>quality</th>\n",
       "      <th></th>\n",
       "      <th></th>\n",
       "    </tr>\n",
       "  </thead>\n",
       "  <tbody>\n",
       "    <tr>\n",
       "      <th>3</th>\n",
       "      <td>10.0</td>\n",
       "      <td>20.0</td>\n",
       "    </tr>\n",
       "    <tr>\n",
       "      <th>4</th>\n",
       "      <td>53.0</td>\n",
       "      <td>163.0</td>\n",
       "    </tr>\n",
       "    <tr>\n",
       "      <th>5</th>\n",
       "      <td>681.0</td>\n",
       "      <td>1457.0</td>\n",
       "    </tr>\n",
       "    <tr>\n",
       "      <th>6</th>\n",
       "      <td>638.0</td>\n",
       "      <td>2198.0</td>\n",
       "    </tr>\n",
       "    <tr>\n",
       "      <th>7</th>\n",
       "      <td>199.0</td>\n",
       "      <td>880.0</td>\n",
       "    </tr>\n",
       "    <tr>\n",
       "      <th>8</th>\n",
       "      <td>18.0</td>\n",
       "      <td>175.0</td>\n",
       "    </tr>\n",
       "    <tr>\n",
       "      <th>9</th>\n",
       "      <td>NaN</td>\n",
       "      <td>5.0</td>\n",
       "    </tr>\n",
       "  </tbody>\n",
       "</table>\n",
       "</div>"
      ],
      "text/plain": [
       "type       red   white\n",
       "quality               \n",
       "3         10.0    20.0\n",
       "4         53.0   163.0\n",
       "5        681.0  1457.0\n",
       "6        638.0  2198.0\n",
       "7        199.0   880.0\n",
       "8         18.0   175.0\n",
       "9          NaN     5.0"
      ]
     },
     "execution_count": 4,
     "metadata": {},
     "output_type": "execute_result"
    }
   ],
   "source": [
    "pd.pivot_table(data,index='quality', columns='type', values='fixed acidity' , aggfunc='count')\n",
    "#df2.pivot_table(values='X',rows=['Y','Z'],cols='X',aggfunc='count')"
   ]
  },
  {
   "cell_type": "markdown",
   "metadata": {},
   "source": [
    "# SVM"
   ]
  },
  {
   "cell_type": "markdown",
   "metadata": {},
   "source": [
    "# Exercise 6.2\n",
    "\n",
    "* Standarized the features (not the quality)\n",
    "* Create a binary target for each type of wine\n",
    "* Create two Linear SVM's for the white and red wines, repectively.\n"
   ]
  },
  {
   "cell_type": "code",
   "execution_count": 5,
   "metadata": {},
   "outputs": [
    {
     "data": {
      "text/html": [
       "<div>\n",
       "<style scoped>\n",
       "    .dataframe tbody tr th:only-of-type {\n",
       "        vertical-align: middle;\n",
       "    }\n",
       "\n",
       "    .dataframe tbody tr th {\n",
       "        vertical-align: top;\n",
       "    }\n",
       "\n",
       "    .dataframe thead th {\n",
       "        text-align: right;\n",
       "    }\n",
       "</style>\n",
       "<table border=\"1\" class=\"dataframe\">\n",
       "  <thead>\n",
       "    <tr style=\"text-align: right;\">\n",
       "      <th></th>\n",
       "      <th>fixed acidity</th>\n",
       "      <th>volatile acidity</th>\n",
       "      <th>citric acid</th>\n",
       "      <th>residual sugar</th>\n",
       "      <th>chlorides</th>\n",
       "      <th>free sulfur dioxide</th>\n",
       "      <th>total sulfur dioxide</th>\n",
       "      <th>density</th>\n",
       "      <th>pH</th>\n",
       "      <th>sulphates</th>\n",
       "      <th>alcohol</th>\n",
       "      <th>quality</th>\n",
       "      <th>type</th>\n",
       "    </tr>\n",
       "  </thead>\n",
       "  <tbody>\n",
       "    <tr>\n",
       "      <th>0</th>\n",
       "      <td>7.0</td>\n",
       "      <td>0.27</td>\n",
       "      <td>0.36</td>\n",
       "      <td>20.7</td>\n",
       "      <td>0.045</td>\n",
       "      <td>45.0</td>\n",
       "      <td>170.0</td>\n",
       "      <td>1.0010</td>\n",
       "      <td>3.00</td>\n",
       "      <td>0.45</td>\n",
       "      <td>8.8</td>\n",
       "      <td>6</td>\n",
       "      <td>white</td>\n",
       "    </tr>\n",
       "    <tr>\n",
       "      <th>1</th>\n",
       "      <td>6.3</td>\n",
       "      <td>0.30</td>\n",
       "      <td>0.34</td>\n",
       "      <td>1.6</td>\n",
       "      <td>0.049</td>\n",
       "      <td>14.0</td>\n",
       "      <td>132.0</td>\n",
       "      <td>0.9940</td>\n",
       "      <td>3.30</td>\n",
       "      <td>0.49</td>\n",
       "      <td>9.5</td>\n",
       "      <td>6</td>\n",
       "      <td>white</td>\n",
       "    </tr>\n",
       "    <tr>\n",
       "      <th>2</th>\n",
       "      <td>8.1</td>\n",
       "      <td>0.28</td>\n",
       "      <td>0.40</td>\n",
       "      <td>6.9</td>\n",
       "      <td>0.050</td>\n",
       "      <td>30.0</td>\n",
       "      <td>97.0</td>\n",
       "      <td>0.9951</td>\n",
       "      <td>3.26</td>\n",
       "      <td>0.44</td>\n",
       "      <td>10.1</td>\n",
       "      <td>6</td>\n",
       "      <td>white</td>\n",
       "    </tr>\n",
       "    <tr>\n",
       "      <th>3</th>\n",
       "      <td>7.2</td>\n",
       "      <td>0.23</td>\n",
       "      <td>0.32</td>\n",
       "      <td>8.5</td>\n",
       "      <td>0.058</td>\n",
       "      <td>47.0</td>\n",
       "      <td>186.0</td>\n",
       "      <td>0.9956</td>\n",
       "      <td>3.19</td>\n",
       "      <td>0.40</td>\n",
       "      <td>9.9</td>\n",
       "      <td>6</td>\n",
       "      <td>white</td>\n",
       "    </tr>\n",
       "    <tr>\n",
       "      <th>4</th>\n",
       "      <td>7.2</td>\n",
       "      <td>0.23</td>\n",
       "      <td>0.32</td>\n",
       "      <td>8.5</td>\n",
       "      <td>0.058</td>\n",
       "      <td>47.0</td>\n",
       "      <td>186.0</td>\n",
       "      <td>0.9956</td>\n",
       "      <td>3.19</td>\n",
       "      <td>0.40</td>\n",
       "      <td>9.9</td>\n",
       "      <td>6</td>\n",
       "      <td>white</td>\n",
       "    </tr>\n",
       "  </tbody>\n",
       "</table>\n",
       "</div>"
      ],
      "text/plain": [
       "   fixed acidity  volatile acidity  citric acid  residual sugar  chlorides  \\\n",
       "0            7.0              0.27         0.36            20.7      0.045   \n",
       "1            6.3              0.30         0.34             1.6      0.049   \n",
       "2            8.1              0.28         0.40             6.9      0.050   \n",
       "3            7.2              0.23         0.32             8.5      0.058   \n",
       "4            7.2              0.23         0.32             8.5      0.058   \n",
       "\n",
       "   free sulfur dioxide  total sulfur dioxide  density    pH  sulphates  \\\n",
       "0                 45.0                 170.0   1.0010  3.00       0.45   \n",
       "1                 14.0                 132.0   0.9940  3.30       0.49   \n",
       "2                 30.0                  97.0   0.9951  3.26       0.44   \n",
       "3                 47.0                 186.0   0.9956  3.19       0.40   \n",
       "4                 47.0                 186.0   0.9956  3.19       0.40   \n",
       "\n",
       "   alcohol  quality   type  \n",
       "0      8.8        6  white  \n",
       "1      9.5        6  white  \n",
       "2     10.1        6  white  \n",
       "3      9.9        6  white  \n",
       "4      9.9        6  white  "
      ]
     },
     "execution_count": 5,
     "metadata": {},
     "output_type": "execute_result"
    }
   ],
   "source": [
    "data.head()"
   ]
  },
  {
   "cell_type": "code",
   "execution_count": 6,
   "metadata": {},
   "outputs": [
    {
     "data": {
      "text/plain": [
       "Index(['fixed acidity', 'volatile acidity', 'citric acid', 'residual sugar',\n",
       "       'chlorides', 'free sulfur dioxide', 'total sulfur dioxide', 'density',\n",
       "       'pH', 'sulphates', 'alcohol', 'quality', 'type'],\n",
       "      dtype='object')"
      ]
     },
     "execution_count": 6,
     "metadata": {},
     "output_type": "execute_result"
    }
   ],
   "source": [
    "data.columns"
   ]
  },
  {
   "cell_type": "code",
   "execution_count": 7,
   "metadata": {},
   "outputs": [
    {
     "data": {
      "text/html": [
       "<div>\n",
       "<style scoped>\n",
       "    .dataframe tbody tr th:only-of-type {\n",
       "        vertical-align: middle;\n",
       "    }\n",
       "\n",
       "    .dataframe tbody tr th {\n",
       "        vertical-align: top;\n",
       "    }\n",
       "\n",
       "    .dataframe thead th {\n",
       "        text-align: right;\n",
       "    }\n",
       "</style>\n",
       "<table border=\"1\" class=\"dataframe\">\n",
       "  <thead>\n",
       "    <tr style=\"text-align: right;\">\n",
       "      <th></th>\n",
       "      <th>fixed acidity</th>\n",
       "      <th>volatile acidity</th>\n",
       "      <th>citric acid</th>\n",
       "      <th>residual sugar</th>\n",
       "      <th>chlorides</th>\n",
       "      <th>free sulfur dioxide</th>\n",
       "      <th>total sulfur dioxide</th>\n",
       "      <th>density</th>\n",
       "      <th>pH</th>\n",
       "      <th>sulphates</th>\n",
       "      <th>alcohol</th>\n",
       "    </tr>\n",
       "  </thead>\n",
       "  <tbody>\n",
       "    <tr>\n",
       "      <th>0</th>\n",
       "      <td>-0.166089</td>\n",
       "      <td>-0.423183</td>\n",
       "      <td>0.284686</td>\n",
       "      <td>3.206929</td>\n",
       "      <td>-0.314975</td>\n",
       "      <td>0.815565</td>\n",
       "      <td>0.959976</td>\n",
       "      <td>2.102214</td>\n",
       "      <td>-1.359049</td>\n",
       "      <td>-0.546178</td>\n",
       "      <td>-1.418558</td>\n",
       "    </tr>\n",
       "    <tr>\n",
       "      <th>1</th>\n",
       "      <td>-0.706073</td>\n",
       "      <td>-0.240949</td>\n",
       "      <td>0.147046</td>\n",
       "      <td>-0.807837</td>\n",
       "      <td>-0.200790</td>\n",
       "      <td>-0.931107</td>\n",
       "      <td>0.287618</td>\n",
       "      <td>-0.232332</td>\n",
       "      <td>0.506915</td>\n",
       "      <td>-0.277351</td>\n",
       "      <td>-0.831615</td>\n",
       "    </tr>\n",
       "    <tr>\n",
       "      <th>2</th>\n",
       "      <td>0.682458</td>\n",
       "      <td>-0.362438</td>\n",
       "      <td>0.559966</td>\n",
       "      <td>0.306208</td>\n",
       "      <td>-0.172244</td>\n",
       "      <td>-0.029599</td>\n",
       "      <td>-0.331660</td>\n",
       "      <td>0.134525</td>\n",
       "      <td>0.258120</td>\n",
       "      <td>-0.613385</td>\n",
       "      <td>-0.328521</td>\n",
       "    </tr>\n",
       "    <tr>\n",
       "      <th>3</th>\n",
       "      <td>-0.011808</td>\n",
       "      <td>-0.666161</td>\n",
       "      <td>0.009406</td>\n",
       "      <td>0.642523</td>\n",
       "      <td>0.056126</td>\n",
       "      <td>0.928254</td>\n",
       "      <td>1.243074</td>\n",
       "      <td>0.301278</td>\n",
       "      <td>-0.177272</td>\n",
       "      <td>-0.882212</td>\n",
       "      <td>-0.496219</td>\n",
       "    </tr>\n",
       "    <tr>\n",
       "      <th>4</th>\n",
       "      <td>-0.011808</td>\n",
       "      <td>-0.666161</td>\n",
       "      <td>0.009406</td>\n",
       "      <td>0.642523</td>\n",
       "      <td>0.056126</td>\n",
       "      <td>0.928254</td>\n",
       "      <td>1.243074</td>\n",
       "      <td>0.301278</td>\n",
       "      <td>-0.177272</td>\n",
       "      <td>-0.882212</td>\n",
       "      <td>-0.496219</td>\n",
       "    </tr>\n",
       "  </tbody>\n",
       "</table>\n",
       "</div>"
      ],
      "text/plain": [
       "   fixed acidity  volatile acidity  citric acid  residual sugar  chlorides  \\\n",
       "0      -0.166089         -0.423183     0.284686        3.206929  -0.314975   \n",
       "1      -0.706073         -0.240949     0.147046       -0.807837  -0.200790   \n",
       "2       0.682458         -0.362438     0.559966        0.306208  -0.172244   \n",
       "3      -0.011808         -0.666161     0.009406        0.642523   0.056126   \n",
       "4      -0.011808         -0.666161     0.009406        0.642523   0.056126   \n",
       "\n",
       "   free sulfur dioxide  total sulfur dioxide   density        pH  sulphates  \\\n",
       "0             0.815565              0.959976  2.102214 -1.359049  -0.546178   \n",
       "1            -0.931107              0.287618 -0.232332  0.506915  -0.277351   \n",
       "2            -0.029599             -0.331660  0.134525  0.258120  -0.613385   \n",
       "3             0.928254              1.243074  0.301278 -0.177272  -0.882212   \n",
       "4             0.928254              1.243074  0.301278 -0.177272  -0.882212   \n",
       "\n",
       "    alcohol  \n",
       "0 -1.418558  \n",
       "1 -0.831615  \n",
       "2 -0.328521  \n",
       "3 -0.496219  \n",
       "4 -0.496219  "
      ]
     },
     "execution_count": 7,
     "metadata": {},
     "output_type": "execute_result"
    }
   ],
   "source": [
    "names = ['fixed acidity', 'volatile acidity', 'citric acid', 'residual sugar',\n",
    "       'chlorides', 'free sulfur dioxide', 'total sulfur dioxide', 'density',\n",
    "       'pH', 'sulphates', 'alcohol']\n",
    "\n",
    "scaler = preprocessing.StandardScaler()\n",
    "\n",
    "scaled_df = scaler.fit_transform(data[names])\n",
    "scaled_df = pd.DataFrame(scaled_df, columns=names)\n",
    "scaled_df.head()"
   ]
  },
  {
   "cell_type": "code",
   "execution_count": 44,
   "metadata": {},
   "outputs": [
    {
     "data": {
      "text/html": [
       "<div>\n",
       "<style scoped>\n",
       "    .dataframe tbody tr th:only-of-type {\n",
       "        vertical-align: middle;\n",
       "    }\n",
       "\n",
       "    .dataframe tbody tr th {\n",
       "        vertical-align: top;\n",
       "    }\n",
       "\n",
       "    .dataframe thead th {\n",
       "        text-align: right;\n",
       "    }\n",
       "</style>\n",
       "<table border=\"1\" class=\"dataframe\">\n",
       "  <thead>\n",
       "    <tr style=\"text-align: right;\">\n",
       "      <th></th>\n",
       "      <th>fixed acidity</th>\n",
       "      <th>volatile acidity</th>\n",
       "      <th>citric acid</th>\n",
       "      <th>residual sugar</th>\n",
       "      <th>chlorides</th>\n",
       "      <th>free sulfur dioxide</th>\n",
       "      <th>total sulfur dioxide</th>\n",
       "      <th>density</th>\n",
       "      <th>pH</th>\n",
       "      <th>sulphates</th>\n",
       "      <th>alcohol</th>\n",
       "      <th>quality</th>\n",
       "      <th>type</th>\n",
       "      <th>Calidad2</th>\n",
       "      <th>White_wine</th>\n",
       "      <th>Red_wine</th>\n",
       "      <th>Calidad_2</th>\n",
       "    </tr>\n",
       "  </thead>\n",
       "  <tbody>\n",
       "    <tr>\n",
       "      <th>0</th>\n",
       "      <td>-0.166089</td>\n",
       "      <td>-0.423183</td>\n",
       "      <td>0.284686</td>\n",
       "      <td>3.206929</td>\n",
       "      <td>-0.314975</td>\n",
       "      <td>0.815565</td>\n",
       "      <td>0.959976</td>\n",
       "      <td>2.102214</td>\n",
       "      <td>-1.359049</td>\n",
       "      <td>-0.546178</td>\n",
       "      <td>-1.418558</td>\n",
       "      <td>6</td>\n",
       "      <td>white</td>\n",
       "      <td>1</td>\n",
       "      <td>1</td>\n",
       "      <td>0</td>\n",
       "      <td>1</td>\n",
       "    </tr>\n",
       "    <tr>\n",
       "      <th>1</th>\n",
       "      <td>-0.706073</td>\n",
       "      <td>-0.240949</td>\n",
       "      <td>0.147046</td>\n",
       "      <td>-0.807837</td>\n",
       "      <td>-0.200790</td>\n",
       "      <td>-0.931107</td>\n",
       "      <td>0.287618</td>\n",
       "      <td>-0.232332</td>\n",
       "      <td>0.506915</td>\n",
       "      <td>-0.277351</td>\n",
       "      <td>-0.831615</td>\n",
       "      <td>6</td>\n",
       "      <td>white</td>\n",
       "      <td>1</td>\n",
       "      <td>1</td>\n",
       "      <td>0</td>\n",
       "      <td>1</td>\n",
       "    </tr>\n",
       "    <tr>\n",
       "      <th>2</th>\n",
       "      <td>0.682458</td>\n",
       "      <td>-0.362438</td>\n",
       "      <td>0.559966</td>\n",
       "      <td>0.306208</td>\n",
       "      <td>-0.172244</td>\n",
       "      <td>-0.029599</td>\n",
       "      <td>-0.331660</td>\n",
       "      <td>0.134525</td>\n",
       "      <td>0.258120</td>\n",
       "      <td>-0.613385</td>\n",
       "      <td>-0.328521</td>\n",
       "      <td>6</td>\n",
       "      <td>white</td>\n",
       "      <td>1</td>\n",
       "      <td>1</td>\n",
       "      <td>0</td>\n",
       "      <td>1</td>\n",
       "    </tr>\n",
       "    <tr>\n",
       "      <th>3</th>\n",
       "      <td>-0.011808</td>\n",
       "      <td>-0.666161</td>\n",
       "      <td>0.009406</td>\n",
       "      <td>0.642523</td>\n",
       "      <td>0.056126</td>\n",
       "      <td>0.928254</td>\n",
       "      <td>1.243074</td>\n",
       "      <td>0.301278</td>\n",
       "      <td>-0.177272</td>\n",
       "      <td>-0.882212</td>\n",
       "      <td>-0.496219</td>\n",
       "      <td>6</td>\n",
       "      <td>white</td>\n",
       "      <td>1</td>\n",
       "      <td>1</td>\n",
       "      <td>0</td>\n",
       "      <td>1</td>\n",
       "    </tr>\n",
       "    <tr>\n",
       "      <th>4</th>\n",
       "      <td>-0.011808</td>\n",
       "      <td>-0.666161</td>\n",
       "      <td>0.009406</td>\n",
       "      <td>0.642523</td>\n",
       "      <td>0.056126</td>\n",
       "      <td>0.928254</td>\n",
       "      <td>1.243074</td>\n",
       "      <td>0.301278</td>\n",
       "      <td>-0.177272</td>\n",
       "      <td>-0.882212</td>\n",
       "      <td>-0.496219</td>\n",
       "      <td>6</td>\n",
       "      <td>white</td>\n",
       "      <td>1</td>\n",
       "      <td>1</td>\n",
       "      <td>0</td>\n",
       "      <td>1</td>\n",
       "    </tr>\n",
       "  </tbody>\n",
       "</table>\n",
       "</div>"
      ],
      "text/plain": [
       "   fixed acidity  volatile acidity  citric acid  residual sugar  chlorides  \\\n",
       "0      -0.166089         -0.423183     0.284686        3.206929  -0.314975   \n",
       "1      -0.706073         -0.240949     0.147046       -0.807837  -0.200790   \n",
       "2       0.682458         -0.362438     0.559966        0.306208  -0.172244   \n",
       "3      -0.011808         -0.666161     0.009406        0.642523   0.056126   \n",
       "4      -0.011808         -0.666161     0.009406        0.642523   0.056126   \n",
       "\n",
       "   free sulfur dioxide  total sulfur dioxide   density        pH  sulphates  \\\n",
       "0             0.815565              0.959976  2.102214 -1.359049  -0.546178   \n",
       "1            -0.931107              0.287618 -0.232332  0.506915  -0.277351   \n",
       "2            -0.029599             -0.331660  0.134525  0.258120  -0.613385   \n",
       "3             0.928254              1.243074  0.301278 -0.177272  -0.882212   \n",
       "4             0.928254              1.243074  0.301278 -0.177272  -0.882212   \n",
       "\n",
       "    alcohol  quality   type  Calidad2  White_wine  Red_wine  Calidad_2  \n",
       "0 -1.418558        6  white         1           1         0          1  \n",
       "1 -0.831615        6  white         1           1         0          1  \n",
       "2 -0.328521        6  white         1           1         0          1  \n",
       "3 -0.496219        6  white         1           1         0          1  \n",
       "4 -0.496219        6  white         1           1         0          1  "
      ]
     },
     "execution_count": 44,
     "metadata": {},
     "output_type": "execute_result"
    }
   ],
   "source": [
    "scaled_df['quality']=data['quality']\n",
    "scaled_df['type']=data['type']\n",
    "scaled_df['Calidad_2']=np.where(scaled_df['quality']<=5,0,1) \n",
    "scaled_df['White_wine']=np.where(scaled_df['type']=='white',1,0)\n",
    "scaled_df['Red_wine']=np.where(scaled_df['type']=='red',1,0)\n",
    "scaled_df.head()"
   ]
  },
  {
   "cell_type": "code",
   "execution_count": 46,
   "metadata": {},
   "outputs": [
    {
     "name": "stdout",
     "output_type": "stream",
     "text": [
      "3428\n",
      "1470\n",
      "1119\n",
      "480\n",
      "6497\n"
     ]
    }
   ],
   "source": [
    "train_white, test_white = train_test_split(scaled_df[scaled_df['type']=='white'], test_size=0.3)\n",
    "train_red, test_red = train_test_split(scaled_df[scaled_df['type']=='red'], test_size=0.3)\n",
    "print(len(train_white))\n",
    "print(len(test_white))\n",
    "print(len(train_red))\n",
    "print(len(test_red))\n",
    "print(len(scaled_df))"
   ]
  },
  {
   "cell_type": "code",
   "execution_count": 52,
   "metadata": {},
   "outputs": [],
   "source": [
    "feature_cols = ['fixed acidity', 'volatile acidity', 'citric acid', 'residual sugar',\n",
    "       'chlorides', 'free sulfur dioxide', 'total sulfur dioxide', 'density',\n",
    "       'pH', 'sulphates', 'alcohol']\n",
    "X_W = train_white[feature_cols]\n",
    "\n",
    "y_W = train_white['Calidad_2']\n",
    "\n",
    "SVM_WW = SVC(kernel='linear')\n",
    "SVM_WW.fit(X_W, y_W)\n",
    "test_white['Pred_Calidad_2']=SVM_WW.predict(test_white[feature_cols])"
   ]
  },
  {
   "cell_type": "code",
   "execution_count": 55,
   "metadata": {},
   "outputs": [
    {
     "name": "stdout",
     "output_type": "stream",
     "text": [
      "Matriz de confusión: [[230 276]\n",
      " [ 94 870]]\n",
      "Accuracy del modelo: 0.7482993197278912\n"
     ]
    }
   ],
   "source": [
    "print('Matriz de confusión:',confusion_matrix(test_white['Calidad_2'], test_white['Pred_Calidad_2']))\n",
    "print('Accuracy del modelo:',accuracy_score(test_white['Calidad_2'], test_white['Pred_Calidad_2']))"
   ]
  },
  {
   "cell_type": "code",
   "execution_count": 60,
   "metadata": {},
   "outputs": [],
   "source": [
    "feature_cols = ['fixed acidity', 'volatile acidity', 'citric acid', 'residual sugar',\n",
    "       'chlorides', 'free sulfur dioxide', 'total sulfur dioxide', 'density',\n",
    "       'pH', 'sulphates', 'alcohol']\n",
    "X_R = train_red[feature_cols]\n",
    "\n",
    "y_R = train_red['Calidad_2']\n",
    "\n",
    "SVM_R_W = SVC(kernel='linear')\n",
    "SVM_R_W.fit(X_R, y_R)\n",
    "test_red['Pred_Calidad_2']=SVM_R_W.predict(test_red[feature_cols])"
   ]
  },
  {
   "cell_type": "code",
   "execution_count": 61,
   "metadata": {},
   "outputs": [
    {
     "name": "stdout",
     "output_type": "stream",
     "text": [
      "Matriz de confusión: [[173  54]\n",
      " [ 68 185]]\n",
      "Accuracy del modelo: 0.7458333333333333\n"
     ]
    }
   ],
   "source": [
    "print('Matriz de confusión:',confusion_matrix(test_red['Calidad_2'], test_red['Pred_Calidad_2']))\n",
    "print('Accuracy del modelo:',accuracy_score(test_red['Calidad_2'], test_red['Pred_Calidad_2']))"
   ]
  },
  {
   "cell_type": "markdown",
   "metadata": {},
   "source": [
    "# Exercise 6.3\n",
    "\n",
    "Test the two SVM's using the different kernels (‘poly’, ‘rbf’, ‘sigmoid’)\n"
   ]
  },
  {
   "cell_type": "markdown",
   "metadata": {},
   "source": [
    "## Con el vino rojo los diferentes kernels"
   ]
  },
  {
   "cell_type": "code",
   "execution_count": 70,
   "metadata": {},
   "outputs": [
    {
     "name": "stdout",
     "output_type": "stream",
     "text": [
      "Matriz de confusión: [[187  40]\n",
      " [ 69 184]]\n",
      "Accuracy del modelo - Kernel poly: 0.7729166666666667\n"
     ]
    }
   ],
   "source": [
    "SVM_R_W = SVC(kernel='poly')\n",
    "SVM_R_W.fit(X_R, y_R)\n",
    "test_red['Pred_Calidad_2']=SVM_R_W.predict(test_red[feature_cols])\n",
    "print('Matriz de confusión:',confusion_matrix(test_red['Calidad_2'], test_red['Pred_Calidad_2']))\n",
    "print('Accuracy del modelo - Kernel poly:',accuracy_score(test_red['Calidad_2'], test_red['Pred_Calidad_2']))"
   ]
  },
  {
   "cell_type": "code",
   "execution_count": 72,
   "metadata": {},
   "outputs": [
    {
     "name": "stdout",
     "output_type": "stream",
     "text": [
      "Matriz de confusión: [[170  57]\n",
      " [ 60 193]]\n",
      "Accuracy del modelo - Kernel rbf: 0.75625\n"
     ]
    }
   ],
   "source": [
    "SVM_R_W = SVC(kernel='rbf')\n",
    "SVM_R_W.fit(X_R, y_R)\n",
    "test_red['Pred_Calidad_2']=SVM_R_W.predict(test_red[feature_cols])\n",
    "print('Matriz de confusión:',confusion_matrix(test_red['Calidad_2'], test_red['Pred_Calidad_2']))\n",
    "print('Accuracy del modelo - Kernel rbf:',accuracy_score(test_red['Calidad_2'], test_red['Pred_Calidad_2']))"
   ]
  },
  {
   "cell_type": "code",
   "execution_count": 75,
   "metadata": {},
   "outputs": [
    {
     "name": "stdout",
     "output_type": "stream",
     "text": [
      "Matriz de confusión: [[137  90]\n",
      " [ 97 156]]\n",
      "Accuracy del modelo - Kernel  sigmoid: 0.6104166666666667\n"
     ]
    }
   ],
   "source": [
    "SVM_R_W = SVC(kernel='sigmoid')\n",
    "SVM_R_W.fit(X_R, y_R)\n",
    "test_red['Pred_Calidad_2']=SVM_R_W.predict(test_red[feature_cols])\n",
    "print('Matriz de confusión:',confusion_matrix(test_red['Calidad_2'], test_red['Pred_Calidad_2']))\n",
    "print('Accuracy del modelo - Kernel  sigmoid:',accuracy_score(test_red['Calidad_2'], test_red['Pred_Calidad_2']))"
   ]
  },
  {
   "cell_type": "markdown",
   "metadata": {},
   "source": [
    "## Con el vino blanco los diferentes kernels"
   ]
  },
  {
   "cell_type": "code",
   "execution_count": 79,
   "metadata": {},
   "outputs": [
    {
     "name": "stdout",
     "output_type": "stream",
     "text": [
      "Matriz de confusión: [[158 348]\n",
      " [ 54 910]]\n",
      "Accuracy del modelo - Kernel poly: 0.726530612244898\n"
     ]
    }
   ],
   "source": [
    "SVM_WW = SVC(kernel='poly')\n",
    "SVM_WW.fit(X_W, y_W)\n",
    "test_white['Pred_Calidad_2']=SVM_WW.predict(test_white[feature_cols])\n",
    "print('Matriz de confusión:',confusion_matrix(test_white['Calidad_2'], test_white['Pred_Calidad_2']))\n",
    "print('Accuracy del modelo - Kernel poly:',accuracy_score(test_white['Calidad_2'], test_white['Pred_Calidad_2']))"
   ]
  },
  {
   "cell_type": "code",
   "execution_count": 80,
   "metadata": {},
   "outputs": [
    {
     "name": "stdout",
     "output_type": "stream",
     "text": [
      "Matriz de confusión: [[285 221]\n",
      " [111 853]]\n",
      "Accuracy del modelo - Kernel rbf: 0.7741496598639456\n"
     ]
    }
   ],
   "source": [
    "SVM_WW = SVC(kernel='rbf')\n",
    "SVM_WW.fit(X_W, y_W)\n",
    "test_white['Pred_Calidad_2']=SVM_WW.predict(test_white[feature_cols])\n",
    "print('Matriz de confusión:',confusion_matrix(test_white['Calidad_2'], test_white['Pred_Calidad_2']))\n",
    "print('Accuracy del modelo - Kernel rbf:',accuracy_score(test_white['Calidad_2'], test_white['Pred_Calidad_2']))"
   ]
  },
  {
   "cell_type": "code",
   "execution_count": 83,
   "metadata": {},
   "outputs": [
    {
     "name": "stdout",
     "output_type": "stream",
     "text": [
      "Matriz de confusión: [[219 287]\n",
      " [207 757]]\n",
      "Accuracy del modelo - Kernel sigmoid: 0.6639455782312925\n"
     ]
    }
   ],
   "source": [
    "SVM_WW = SVC(kernel='sigmoid')\n",
    "SVM_WW.fit(X_W, y_W)\n",
    "test_white['Pred_Calidad_2']=SVM_WW.predict(test_white[feature_cols])\n",
    "print('Matriz de confusión:',confusion_matrix(test_white['Calidad_2'], test_white['Pred_Calidad_2']))\n",
    "print('Accuracy del modelo - Kernel sigmoid:',accuracy_score(test_white['Calidad_2'], test_white['Pred_Calidad_2']))"
   ]
  },
  {
   "cell_type": "markdown",
   "metadata": {},
   "source": [
    "# Exercise 6.4\n",
    "Using the best SVM find the parameters that gives the best performance\n",
    "\n",
    "'C': [0.1, 1, 10, 100, 1000], 'gamma': [0.01, 0.001, 0.0001]"
   ]
  },
  {
   "cell_type": "markdown",
   "metadata": {},
   "source": [
    "Se realizarán dos ciclos para recorrer todas las posibilidades de los parámetros"
   ]
  },
  {
   "cell_type": "code",
   "execution_count": 89,
   "metadata": {},
   "outputs": [],
   "source": [
    "salida = []\n",
    "for gamma in [0.01, 0.001, 0.0001]:\n",
    "    for C in [0.1, 1, 10, 100, 1000]:\n",
    "        clf = SVC(C=C, gamma=gamma,kernel='rbf') \n",
    "        clf.fit(X_W, y_W)\n",
    "        test_white['Pred_Calidad_2']=clf.predict(test_white[feature_cols]) \n",
    "        accuracy=accuracy_score(test_white['Calidad_2'], test_white['Pred_Calidad_2']) \n",
    "        salida.append((C, gamma, accuracy))"
   ]
  },
  {
   "cell_type": "code",
   "execution_count": 90,
   "metadata": {},
   "outputs": [
    {
     "data": {
      "text/plain": [
       "[(0.1, 0.01, 0.6727891156462585),\n",
       " (1, 0.01, 0.7612244897959184),\n",
       " (10, 0.01, 0.7707482993197279),\n",
       " (100, 0.01, 0.7795918367346939),\n",
       " (1000, 0.01, 0.7707482993197279),\n",
       " (0.1, 0.001, 0.6557823129251701),\n",
       " (1, 0.001, 0.6768707482993197),\n",
       " (10, 0.001, 0.7435374149659864),\n",
       " (100, 0.001, 0.7612244897959184),\n",
       " (1000, 0.001, 0.7721088435374149),\n",
       " (0.1, 0.0001, 0.6557823129251701),\n",
       " (1, 0.0001, 0.6557823129251701),\n",
       " (10, 0.0001, 0.6775510204081633),\n",
       " (100, 0.0001, 0.7421768707482993),\n",
       " (1000, 0.0001, 0.7482993197278912)]"
      ]
     },
     "execution_count": 90,
     "metadata": {},
     "output_type": "execute_result"
    }
   ],
   "source": [
    "salida"
   ]
  },
  {
   "cell_type": "markdown",
   "metadata": {},
   "source": [
    "Parámetros C=100 Gamma=0.01 con accuracy de 77,9%"
   ]
  },
  {
   "cell_type": "markdown",
   "metadata": {},
   "source": [
    "# Exercise 6.5\n",
    "\n",
    "Compare the results with other methods"
   ]
  },
  {
   "cell_type": "markdown",
   "metadata": {},
   "source": [
    "#### Regresión Logistica"
   ]
  },
  {
   "cell_type": "code",
   "execution_count": 92,
   "metadata": {},
   "outputs": [
    {
     "name": "stdout",
     "output_type": "stream",
     "text": [
      "Matriz de confusión - regresión logistica: [[248 258]\n",
      " [102 862]]\n",
      "Accuracy regresión logistica : 0.7551020408163265\n"
     ]
    }
   ],
   "source": [
    "from sklearn.linear_model import LogisticRegression\n",
    "logreg = LogisticRegression()\n",
    "\n",
    "logreg.fit(X_W, y_W)\n",
    "test_white['Pred_Calidad_2']=logreg.predict(test_white[feature_cols])\n",
    "print('Matriz de confusión - regresión logistica:',confusion_matrix(test_white['Calidad_2'], test_white['Pred_Calidad_2']))\n",
    "print('Accuracy regresión logistica :',accuracy_score(test_white['Calidad_2'], test_white['Pred_Calidad_2']))"
   ]
  },
  {
   "cell_type": "markdown",
   "metadata": {},
   "source": [
    "Accuracy inferior al de la maquina"
   ]
  },
  {
   "cell_type": "markdown",
   "metadata": {},
   "source": [
    "__________________________________________"
   ]
  },
  {
   "cell_type": "markdown",
   "metadata": {},
   "source": [
    "# Regularization"
   ]
  },
  {
   "cell_type": "markdown",
   "metadata": {},
   "source": [
    "# Exercise 6.6\n",
    "\n",
    "\n",
    "* Train a linear regression to predict wine quality (Continous)\n",
    "\n",
    "* Analyze the coefficients\n",
    "\n",
    "* Evaluate the RMSE"
   ]
  },
  {
   "cell_type": "markdown",
   "metadata": {},
   "source": [
    "Entrenar el modelo de regresión lineal"
   ]
  },
  {
   "cell_type": "code",
   "execution_count": 93,
   "metadata": {},
   "outputs": [],
   "source": [
    "import warnings\n",
    "from sklearn.linear_model import LinearRegression\n",
    "from sklearn import metrics\n",
    "from math import sqrt"
   ]
  },
  {
   "cell_type": "code",
   "execution_count": 94,
   "metadata": {},
   "outputs": [],
   "source": [
    "warnings.filterwarnings(\"ignore\")"
   ]
  },
  {
   "cell_type": "code",
   "execution_count": 99,
   "metadata": {},
   "outputs": [],
   "source": [
    "train, test = train_test_split(scaled_df, test_size=0.3)\n",
    "linreg = LinearRegression()\n",
    "X = train[feature_cols]\n",
    "y = train['quality']\n",
    "linreg.fit(X, y)\n",
    "test['Pred_quality_wine']=linreg.predict(test[feature_cols])\n"
   ]
  },
  {
   "cell_type": "markdown",
   "metadata": {},
   "source": [
    "Coeficientes"
   ]
  },
  {
   "cell_type": "code",
   "execution_count": 97,
   "metadata": {},
   "outputs": [
    {
     "data": {
      "text/html": [
       "<div>\n",
       "<style scoped>\n",
       "    .dataframe tbody tr th:only-of-type {\n",
       "        vertical-align: middle;\n",
       "    }\n",
       "\n",
       "    .dataframe tbody tr th {\n",
       "        vertical-align: top;\n",
       "    }\n",
       "\n",
       "    .dataframe thead th {\n",
       "        text-align: right;\n",
       "    }\n",
       "</style>\n",
       "<table border=\"1\" class=\"dataframe\">\n",
       "  <thead>\n",
       "    <tr style=\"text-align: right;\">\n",
       "      <th></th>\n",
       "      <th>0</th>\n",
       "      <th>1</th>\n",
       "    </tr>\n",
       "  </thead>\n",
       "  <tbody>\n",
       "    <tr>\n",
       "      <th>0</th>\n",
       "      <td>fixed acidity</td>\n",
       "      <td>0.086537</td>\n",
       "    </tr>\n",
       "    <tr>\n",
       "      <th>1</th>\n",
       "      <td>volatile acidity</td>\n",
       "      <td>-0.235784</td>\n",
       "    </tr>\n",
       "    <tr>\n",
       "      <th>2</th>\n",
       "      <td>citric acid</td>\n",
       "      <td>-0.031451</td>\n",
       "    </tr>\n",
       "    <tr>\n",
       "      <th>3</th>\n",
       "      <td>residual sugar</td>\n",
       "      <td>0.209269</td>\n",
       "    </tr>\n",
       "    <tr>\n",
       "      <th>4</th>\n",
       "      <td>chlorides</td>\n",
       "      <td>-0.018627</td>\n",
       "    </tr>\n",
       "    <tr>\n",
       "      <th>5</th>\n",
       "      <td>free sulfur dioxide</td>\n",
       "      <td>0.089112</td>\n",
       "    </tr>\n",
       "    <tr>\n",
       "      <th>6</th>\n",
       "      <td>total sulfur dioxide</td>\n",
       "      <td>-0.132205</td>\n",
       "    </tr>\n",
       "    <tr>\n",
       "      <th>7</th>\n",
       "      <td>density</td>\n",
       "      <td>-0.158385</td>\n",
       "    </tr>\n",
       "    <tr>\n",
       "      <th>8</th>\n",
       "      <td>pH</td>\n",
       "      <td>0.062292</td>\n",
       "    </tr>\n",
       "    <tr>\n",
       "      <th>9</th>\n",
       "      <td>sulphates</td>\n",
       "      <td>0.118664</td>\n",
       "    </tr>\n",
       "    <tr>\n",
       "      <th>10</th>\n",
       "      <td>alcohol</td>\n",
       "      <td>0.315303</td>\n",
       "    </tr>\n",
       "  </tbody>\n",
       "</table>\n",
       "</div>"
      ],
      "text/plain": [
       "                       0         1\n",
       "0          fixed acidity  0.086537\n",
       "1       volatile acidity -0.235784\n",
       "2            citric acid -0.031451\n",
       "3         residual sugar  0.209269\n",
       "4              chlorides -0.018627\n",
       "5    free sulfur dioxide  0.089112\n",
       "6   total sulfur dioxide -0.132205\n",
       "7                density -0.158385\n",
       "8                     pH  0.062292\n",
       "9              sulphates  0.118664\n",
       "10               alcohol  0.315303"
      ]
     },
     "execution_count": 97,
     "metadata": {},
     "output_type": "execute_result"
    }
   ],
   "source": [
    "coef_lin=pd.DataFrame(np.transpose(linreg.coef_))\n",
    "cols=pd.DataFrame(np.transpose(feature_cols))\n",
    "coef=pd.concat([cols, coef_lin], axis=1, ignore_index=True)\n",
    "coef"
   ]
  },
  {
   "cell_type": "markdown",
   "metadata": {},
   "source": [
    "Las variables que explican el resultado son alcohol y residual sugar directamente proporcional al resultado y density y volatile acidity de manera inversamente proporcional"
   ]
  },
  {
   "cell_type": "markdown",
   "metadata": {},
   "source": [
    "RMSE"
   ]
  },
  {
   "cell_type": "code",
   "execution_count": 100,
   "metadata": {},
   "outputs": [
    {
     "name": "stdout",
     "output_type": "stream",
     "text": [
      "RMSE: 0.7339982808235654\n"
     ]
    }
   ],
   "source": [
    "MSE_=metrics.mean_squared_error(test['quality'], test['Pred_quality_wine'])\n",
    "RMSE=sqrt(MSE_)\n",
    "print('RMSE:', RMSE)"
   ]
  },
  {
   "cell_type": "markdown",
   "metadata": {},
   "source": [
    "# Exercise 6.7\n",
    "\n",
    "* Estimate a ridge regression with alpha equals 0.1 and 1.\n",
    "* Compare the coefficients with the linear regression\n",
    "* Evaluate the RMSE"
   ]
  },
  {
   "cell_type": "code",
   "execution_count": 101,
   "metadata": {},
   "outputs": [],
   "source": [
    "from sklearn.linear_model import Ridge"
   ]
  },
  {
   "cell_type": "code",
   "execution_count": 109,
   "metadata": {},
   "outputs": [
    {
     "name": "stdout",
     "output_type": "stream",
     "text": [
      "RMSE-ridge alpha 0.1: 0.7339979616912781\n"
     ]
    }
   ],
   "source": [
    "ridge_reg = Ridge(alpha=0.1)\n",
    "ridge_reg.fit(X, y)\n",
    "test['Pred_quality_wine'] = ridge_reg.predict(test[feature_cols])\n",
    "print('RMSE-ridge alpha 0.1:',np.sqrt(metrics.mean_squared_error(test['quality'], test['Pred_quality_wine'])))\n",
    "coef_ridge_01=pd.DataFrame(np.transpose(ridge_reg.coef_))"
   ]
  },
  {
   "cell_type": "code",
   "execution_count": 108,
   "metadata": {},
   "outputs": [
    {
     "name": "stdout",
     "output_type": "stream",
     "text": [
      "RMSE-ridge alpha  1: 0.7339951534023277\n"
     ]
    }
   ],
   "source": [
    "ridge_reg = Ridge(alpha=1)\n",
    "ridge_reg.fit(X, y)\n",
    "test['Pred_quality_wine'] = ridge_reg.predict(test[feature_cols])\n",
    "print('RMSE-ridge alpha  1:',np.sqrt(metrics.mean_squared_error(test['quality'], test['Pred_quality_wine'])))\n",
    "coef_ridge_1=pd.DataFrame(np.transpose(ridge_reg.coef_))"
   ]
  },
  {
   "cell_type": "code",
   "execution_count": 112,
   "metadata": {},
   "outputs": [
    {
     "data": {
      "text/html": [
       "<div>\n",
       "<style scoped>\n",
       "    .dataframe tbody tr th:only-of-type {\n",
       "        vertical-align: middle;\n",
       "    }\n",
       "\n",
       "    .dataframe tbody tr th {\n",
       "        vertical-align: top;\n",
       "    }\n",
       "\n",
       "    .dataframe thead th {\n",
       "        text-align: right;\n",
       "    }\n",
       "</style>\n",
       "<table border=\"1\" class=\"dataframe\">\n",
       "  <thead>\n",
       "    <tr style=\"text-align: right;\">\n",
       "      <th></th>\n",
       "      <th>Columna</th>\n",
       "      <th>Coeficiente lineal</th>\n",
       "      <th>Coeficiente Ridge 0,1</th>\n",
       "      <th>Coeficiente Ridge 0,1</th>\n",
       "    </tr>\n",
       "  </thead>\n",
       "  <tbody>\n",
       "    <tr>\n",
       "      <th>0</th>\n",
       "      <td>fixed acidity</td>\n",
       "      <td>0.086537</td>\n",
       "      <td>0.090593</td>\n",
       "      <td>0.090202</td>\n",
       "    </tr>\n",
       "    <tr>\n",
       "      <th>1</th>\n",
       "      <td>volatile acidity</td>\n",
       "      <td>-0.235784</td>\n",
       "      <td>-0.224120</td>\n",
       "      <td>-0.224116</td>\n",
       "    </tr>\n",
       "    <tr>\n",
       "      <th>2</th>\n",
       "      <td>citric acid</td>\n",
       "      <td>-0.031451</td>\n",
       "      <td>-0.024163</td>\n",
       "      <td>-0.024108</td>\n",
       "    </tr>\n",
       "    <tr>\n",
       "      <th>3</th>\n",
       "      <td>residual sugar</td>\n",
       "      <td>0.209269</td>\n",
       "      <td>0.216539</td>\n",
       "      <td>0.215998</td>\n",
       "    </tr>\n",
       "    <tr>\n",
       "      <th>4</th>\n",
       "      <td>chlorides</td>\n",
       "      <td>-0.018627</td>\n",
       "      <td>-0.020461</td>\n",
       "      <td>-0.020541</td>\n",
       "    </tr>\n",
       "    <tr>\n",
       "      <th>5</th>\n",
       "      <td>free sulfur dioxide</td>\n",
       "      <td>0.089112</td>\n",
       "      <td>0.097000</td>\n",
       "      <td>0.096939</td>\n",
       "    </tr>\n",
       "    <tr>\n",
       "      <th>6</th>\n",
       "      <td>total sulfur dioxide</td>\n",
       "      <td>-0.132205</td>\n",
       "      <td>-0.140177</td>\n",
       "      <td>-0.140034</td>\n",
       "    </tr>\n",
       "    <tr>\n",
       "      <th>7</th>\n",
       "      <td>density</td>\n",
       "      <td>-0.158385</td>\n",
       "      <td>-0.180114</td>\n",
       "      <td>-0.179374</td>\n",
       "    </tr>\n",
       "    <tr>\n",
       "      <th>8</th>\n",
       "      <td>pH</td>\n",
       "      <td>0.062292</td>\n",
       "      <td>0.056851</td>\n",
       "      <td>0.056623</td>\n",
       "    </tr>\n",
       "    <tr>\n",
       "      <th>9</th>\n",
       "      <td>sulphates</td>\n",
       "      <td>0.118664</td>\n",
       "      <td>0.118900</td>\n",
       "      <td>0.118800</td>\n",
       "    </tr>\n",
       "    <tr>\n",
       "      <th>10</th>\n",
       "      <td>alcohol</td>\n",
       "      <td>0.315303</td>\n",
       "      <td>0.310644</td>\n",
       "      <td>0.310892</td>\n",
       "    </tr>\n",
       "  </tbody>\n",
       "</table>\n",
       "</div>"
      ],
      "text/plain": [
       "                 Columna  Coeficiente lineal  Coeficiente Ridge 0,1  \\\n",
       "0          fixed acidity            0.086537               0.090593   \n",
       "1       volatile acidity           -0.235784              -0.224120   \n",
       "2            citric acid           -0.031451              -0.024163   \n",
       "3         residual sugar            0.209269               0.216539   \n",
       "4              chlorides           -0.018627              -0.020461   \n",
       "5    free sulfur dioxide            0.089112               0.097000   \n",
       "6   total sulfur dioxide           -0.132205              -0.140177   \n",
       "7                density           -0.158385              -0.180114   \n",
       "8                     pH            0.062292               0.056851   \n",
       "9              sulphates            0.118664               0.118900   \n",
       "10               alcohol            0.315303               0.310644   \n",
       "\n",
       "    Coeficiente Ridge 0,1  \n",
       "0                0.090202  \n",
       "1               -0.224116  \n",
       "2               -0.024108  \n",
       "3                0.215998  \n",
       "4               -0.020541  \n",
       "5                0.096939  \n",
       "6               -0.140034  \n",
       "7               -0.179374  \n",
       "8                0.056623  \n",
       "9                0.118800  \n",
       "10               0.310892  "
      ]
     },
     "execution_count": 112,
     "metadata": {},
     "output_type": "execute_result"
    }
   ],
   "source": [
    "coef=pd.concat([cols,coef_lin, coef_ridge_01,coef_ridge_1], axis=1, ignore_index=True)\n",
    "coef.columns=(['Columna','Coeficiente lineal','Coeficiente Ridge 0,1','Coeficiente Ridge 0,1'])\n",
    "coef"
   ]
  },
  {
   "cell_type": "markdown",
   "metadata": {},
   "source": [
    "Los coeficientes no sufresn cambios significativos"
   ]
  },
  {
   "cell_type": "markdown",
   "metadata": {},
   "source": [
    "Los coeficientes de La regresión ridge de alpha 0.1 y alpha 1 al igual que con la regresión lineal son muy cercanos"
   ]
  },
  {
   "cell_type": "markdown",
   "metadata": {},
   "source": [
    "# Exercise 6.8\n",
    "\n",
    "* Estimate a lasso regression with alpha equals 0.01, 0.1 and 1.\n",
    "* Compare the coefficients with the linear regression\n",
    "* Evaluate the RMSE"
   ]
  },
  {
   "cell_type": "code",
   "execution_count": 113,
   "metadata": {},
   "outputs": [],
   "source": [
    "from sklearn.linear_model import Lasso"
   ]
  },
  {
   "cell_type": "code",
   "execution_count": 115,
   "metadata": {},
   "outputs": [
    {
     "name": "stdout",
     "output_type": "stream",
     "text": [
      "RMSE-Lasso alpha 0,01: 0.7362052926995535\n"
     ]
    }
   ],
   "source": [
    "lasso_reg = Lasso(alpha=0.01)\n",
    "lasso_reg.fit(X, y)\n",
    "test['Pred_quality_wine'] = lasso_reg.predict(test[feature_cols])\n",
    "print('RMSE-Lasso alpha 0,01:',np.sqrt(metrics.mean_squared_error(test['quality'], test['Pred_quality_wine'])))\n",
    "coef_lasso_001=pd.DataFrame(np.transpose(lasso_reg.coef_))"
   ]
  },
  {
   "cell_type": "code",
   "execution_count": 116,
   "metadata": {},
   "outputs": [
    {
     "name": "stdout",
     "output_type": "stream",
     "text": [
      "RMSE-Lasso alpha 0,1: 0.7594418924222878\n"
     ]
    }
   ],
   "source": [
    "lasso_reg = Lasso(alpha=0.1)\n",
    "lasso_reg.fit(X, y)\n",
    "test['Pred_quality_wine'] = lasso_reg.predict(test[feature_cols])\n",
    "print('RMSE-Lasso alpha 0,1:',np.sqrt(metrics.mean_squared_error(test['quality'], test['Pred_quality_wine'])))\n",
    "coef_lasso_01=pd.DataFrame(np.transpose(lasso_reg.coef_))"
   ]
  },
  {
   "cell_type": "code",
   "execution_count": 117,
   "metadata": {},
   "outputs": [
    {
     "name": "stdout",
     "output_type": "stream",
     "text": [
      "RMSE-Lasso alpha 1: 0.8655736701296507\n"
     ]
    }
   ],
   "source": [
    "lasso_reg = Lasso(alpha=1)\n",
    "lasso_reg.fit(X, y)\n",
    "test['Pred_quality_wine'] = lasso_reg.predict(test[feature_cols])\n",
    "print('RMSE-Lasso alpha 1:',np.sqrt(metrics.mean_squared_error(test['quality'], test['Pred_quality_wine'])))\n",
    "coef_lasso_1=pd.DataFrame(np.transpose(lasso_reg.coef_))"
   ]
  },
  {
   "cell_type": "code",
   "execution_count": 121,
   "metadata": {},
   "outputs": [
    {
     "data": {
      "text/html": [
       "<div>\n",
       "<style scoped>\n",
       "    .dataframe tbody tr th:only-of-type {\n",
       "        vertical-align: middle;\n",
       "    }\n",
       "\n",
       "    .dataframe tbody tr th {\n",
       "        vertical-align: top;\n",
       "    }\n",
       "\n",
       "    .dataframe thead th {\n",
       "        text-align: right;\n",
       "    }\n",
       "</style>\n",
       "<table border=\"1\" class=\"dataframe\">\n",
       "  <thead>\n",
       "    <tr style=\"text-align: right;\">\n",
       "      <th></th>\n",
       "      <th>Columna</th>\n",
       "      <th>Coeficiente lineal</th>\n",
       "      <th>Coeficiente Lasso 0,01</th>\n",
       "      <th>Coeficiente Lasso 0,1</th>\n",
       "      <th>Coeficiente Lasso 1</th>\n",
       "    </tr>\n",
       "  </thead>\n",
       "  <tbody>\n",
       "    <tr>\n",
       "      <th>0</th>\n",
       "      <td>fixed acidity</td>\n",
       "      <td>0.086537</td>\n",
       "      <td>-0.000000</td>\n",
       "      <td>-0.000000</td>\n",
       "      <td>-0.0</td>\n",
       "    </tr>\n",
       "    <tr>\n",
       "      <th>1</th>\n",
       "      <td>volatile acidity</td>\n",
       "      <td>-0.235784</td>\n",
       "      <td>-0.223802</td>\n",
       "      <td>-0.133063</td>\n",
       "      <td>-0.0</td>\n",
       "    </tr>\n",
       "    <tr>\n",
       "      <th>2</th>\n",
       "      <td>citric acid</td>\n",
       "      <td>-0.031451</td>\n",
       "      <td>-0.006263</td>\n",
       "      <td>0.000000</td>\n",
       "      <td>0.0</td>\n",
       "    </tr>\n",
       "    <tr>\n",
       "      <th>3</th>\n",
       "      <td>residual sugar</td>\n",
       "      <td>0.209269</td>\n",
       "      <td>0.086521</td>\n",
       "      <td>0.000000</td>\n",
       "      <td>-0.0</td>\n",
       "    </tr>\n",
       "    <tr>\n",
       "      <th>4</th>\n",
       "      <td>chlorides</td>\n",
       "      <td>-0.018627</td>\n",
       "      <td>-0.023128</td>\n",
       "      <td>-0.000000</td>\n",
       "      <td>-0.0</td>\n",
       "    </tr>\n",
       "    <tr>\n",
       "      <th>5</th>\n",
       "      <td>free sulfur dioxide</td>\n",
       "      <td>0.089112</td>\n",
       "      <td>0.066537</td>\n",
       "      <td>0.000000</td>\n",
       "      <td>0.0</td>\n",
       "    </tr>\n",
       "    <tr>\n",
       "      <th>6</th>\n",
       "      <td>total sulfur dioxide</td>\n",
       "      <td>-0.132205</td>\n",
       "      <td>-0.086330</td>\n",
       "      <td>-0.000000</td>\n",
       "      <td>-0.0</td>\n",
       "    </tr>\n",
       "    <tr>\n",
       "      <th>7</th>\n",
       "      <td>density</td>\n",
       "      <td>-0.158385</td>\n",
       "      <td>-0.000000</td>\n",
       "      <td>-0.000000</td>\n",
       "      <td>-0.0</td>\n",
       "    </tr>\n",
       "    <tr>\n",
       "      <th>8</th>\n",
       "      <td>pH</td>\n",
       "      <td>0.062292</td>\n",
       "      <td>0.000000</td>\n",
       "      <td>0.000000</td>\n",
       "      <td>0.0</td>\n",
       "    </tr>\n",
       "    <tr>\n",
       "      <th>9</th>\n",
       "      <td>sulphates</td>\n",
       "      <td>0.118664</td>\n",
       "      <td>0.085351</td>\n",
       "      <td>0.000000</td>\n",
       "      <td>0.0</td>\n",
       "    </tr>\n",
       "    <tr>\n",
       "      <th>10</th>\n",
       "      <td>alcohol</td>\n",
       "      <td>0.315303</td>\n",
       "      <td>0.383748</td>\n",
       "      <td>0.283020</td>\n",
       "      <td>0.0</td>\n",
       "    </tr>\n",
       "  </tbody>\n",
       "</table>\n",
       "</div>"
      ],
      "text/plain": [
       "                 Columna  Coeficiente lineal  Coeficiente Lasso 0,01  \\\n",
       "0          fixed acidity            0.086537               -0.000000   \n",
       "1       volatile acidity           -0.235784               -0.223802   \n",
       "2            citric acid           -0.031451               -0.006263   \n",
       "3         residual sugar            0.209269                0.086521   \n",
       "4              chlorides           -0.018627               -0.023128   \n",
       "5    free sulfur dioxide            0.089112                0.066537   \n",
       "6   total sulfur dioxide           -0.132205               -0.086330   \n",
       "7                density           -0.158385               -0.000000   \n",
       "8                     pH            0.062292                0.000000   \n",
       "9              sulphates            0.118664                0.085351   \n",
       "10               alcohol            0.315303                0.383748   \n",
       "\n",
       "    Coeficiente Lasso 0,1  Coeficiente Lasso 1  \n",
       "0               -0.000000                 -0.0  \n",
       "1               -0.133063                 -0.0  \n",
       "2                0.000000                  0.0  \n",
       "3                0.000000                 -0.0  \n",
       "4               -0.000000                 -0.0  \n",
       "5                0.000000                  0.0  \n",
       "6               -0.000000                 -0.0  \n",
       "7               -0.000000                 -0.0  \n",
       "8                0.000000                  0.0  \n",
       "9                0.000000                  0.0  \n",
       "10               0.283020                  0.0  "
      ]
     },
     "execution_count": 121,
     "metadata": {},
     "output_type": "execute_result"
    }
   ],
   "source": [
    "coef=pd.concat([cols,coef_lin, coef_lasso_001,coef_lasso_01,coef_lasso_1], axis=1, ignore_index=True)\n",
    "coef.columns=(['Columna','Coeficiente lineal','Coeficiente Lasso 0,01','Coeficiente Lasso 0,1','Coeficiente Lasso 1'])\n",
    "coef"
   ]
  },
  {
   "cell_type": "markdown",
   "metadata": {},
   "source": [
    "Los coeficientes disminuyen paulatinamente conforme aumenta el alpha"
   ]
  },
  {
   "cell_type": "markdown",
   "metadata": {},
   "source": [
    "# Exercise 6.9\n",
    "\n",
    "* Create a binary target\n",
    "\n",
    "* Train a logistic regression to predict wine quality (binary)\n",
    "\n",
    "* Analyze the coefficients\n",
    "\n",
    "* Evaluate the f1score"
   ]
  },
  {
   "cell_type": "code",
   "execution_count": null,
   "metadata": {},
   "outputs": [],
   "source": [
    "from sklearn.linear_model import LogisticRegression"
   ]
  },
  {
   "cell_type": "code",
   "execution_count": 124,
   "metadata": {},
   "outputs": [
    {
     "name": "stdout",
     "output_type": "stream",
     "text": [
      "Matriz de confusión regresión logistica: [[ 414  332]\n",
      " [ 195 1009]]\n",
      "Accuracy regresión logistica: 0.7297435897435898\n"
     ]
    }
   ],
   "source": [
    "log_reg = LogisticRegression()#solver='liblinear',C=1e9)\n",
    "\n",
    "X = train[feature_cols]\n",
    "y = train['Calidad_2']\n",
    "\n",
    "log_reg.fit(X, y)\n",
    "test['Pred_Calidad_2']=log_reg.predict(test[feature_cols])\n",
    "print('Matriz de confusión regresión logistica:',confusion_matrix(test['Calidad_2'], test['Pred_Calidad_2']))\n",
    "print('Accuracy regresión logistica:',accuracy_score(test['Calidad_2'], test['Pred_Calidad_2']))"
   ]
  },
  {
   "cell_type": "code",
   "execution_count": 128,
   "metadata": {},
   "outputs": [
    {
     "data": {
      "text/html": [
       "<div>\n",
       "<style scoped>\n",
       "    .dataframe tbody tr th:only-of-type {\n",
       "        vertical-align: middle;\n",
       "    }\n",
       "\n",
       "    .dataframe tbody tr th {\n",
       "        vertical-align: top;\n",
       "    }\n",
       "\n",
       "    .dataframe thead th {\n",
       "        text-align: right;\n",
       "    }\n",
       "</style>\n",
       "<table border=\"1\" class=\"dataframe\">\n",
       "  <thead>\n",
       "    <tr style=\"text-align: right;\">\n",
       "      <th></th>\n",
       "      <th>0</th>\n",
       "      <th>1</th>\n",
       "    </tr>\n",
       "  </thead>\n",
       "  <tbody>\n",
       "    <tr>\n",
       "      <th>0</th>\n",
       "      <td>fixed acidity</td>\n",
       "      <td>0.104125</td>\n",
       "    </tr>\n",
       "    <tr>\n",
       "      <th>1</th>\n",
       "      <td>volatile acidity</td>\n",
       "      <td>-0.739415</td>\n",
       "    </tr>\n",
       "    <tr>\n",
       "      <th>2</th>\n",
       "      <td>citric acid</td>\n",
       "      <td>-0.116646</td>\n",
       "    </tr>\n",
       "    <tr>\n",
       "      <th>3</th>\n",
       "      <td>residual sugar</td>\n",
       "      <td>0.420976</td>\n",
       "    </tr>\n",
       "    <tr>\n",
       "      <th>4</th>\n",
       "      <td>chlorides</td>\n",
       "      <td>-0.026758</td>\n",
       "    </tr>\n",
       "    <tr>\n",
       "      <th>5</th>\n",
       "      <td>free sulfur dioxide</td>\n",
       "      <td>0.282022</td>\n",
       "    </tr>\n",
       "    <tr>\n",
       "      <th>6</th>\n",
       "      <td>total sulfur dioxide</td>\n",
       "      <td>-0.407331</td>\n",
       "    </tr>\n",
       "    <tr>\n",
       "      <th>7</th>\n",
       "      <td>density</td>\n",
       "      <td>-0.186772</td>\n",
       "    </tr>\n",
       "    <tr>\n",
       "      <th>8</th>\n",
       "      <td>pH</td>\n",
       "      <td>0.076708</td>\n",
       "    </tr>\n",
       "    <tr>\n",
       "      <th>9</th>\n",
       "      <td>sulphates</td>\n",
       "      <td>0.315205</td>\n",
       "    </tr>\n",
       "    <tr>\n",
       "      <th>10</th>\n",
       "      <td>alcohol</td>\n",
       "      <td>1.064732</td>\n",
       "    </tr>\n",
       "  </tbody>\n",
       "</table>\n",
       "</div>"
      ],
      "text/plain": [
       "                       0         1\n",
       "0          fixed acidity  0.104125\n",
       "1       volatile acidity -0.739415\n",
       "2            citric acid -0.116646\n",
       "3         residual sugar  0.420976\n",
       "4              chlorides -0.026758\n",
       "5    free sulfur dioxide  0.282022\n",
       "6   total sulfur dioxide -0.407331\n",
       "7                density -0.186772\n",
       "8                     pH  0.076708\n",
       "9              sulphates  0.315205\n",
       "10               alcohol  1.064732"
      ]
     },
     "execution_count": 128,
     "metadata": {},
     "output_type": "execute_result"
    }
   ],
   "source": [
    "coef_log=pd.DataFrame(np.transpose(log_reg.coef_))\n",
    "cols=pd.DataFrame(np.transpose(feature_cols))\n",
    "coef_log=pd.concat([cols, coef_log], axis=1, ignore_index=True)\n",
    "coef_log"
   ]
  },
  {
   "cell_type": "markdown",
   "metadata": {},
   "source": [
    "Aumenta el coeficiente para el alcohol considerablemente."
   ]
  },
  {
   "cell_type": "code",
   "execution_count": 129,
   "metadata": {},
   "outputs": [
    {
     "name": "stdout",
     "output_type": "stream",
     "text": [
      "F1SCORE regresión logistica: 0.792927308447937\n"
     ]
    }
   ],
   "source": [
    "from sklearn.metrics import f1_score\n",
    "print('F1SCORE regresión logistica:',f1_score(test['Calidad_2'], test['Pred_Calidad_2']))"
   ]
  },
  {
   "cell_type": "markdown",
   "metadata": {},
   "source": [
    "# Exercise 6.10\n",
    "\n",
    "* Estimate a regularized logistic regression using:\n",
    "* C = 0.01, 0.1 & 1.0\n",
    "* penalty = ['l1, 'l2']\n",
    "* Compare the coefficients and the f1score"
   ]
  },
  {
   "cell_type": "code",
   "execution_count": 150,
   "metadata": {},
   "outputs": [],
   "source": [
    "X = train[feature_cols]\n",
    "y = train['Calidad_2']\n",
    "\n",
    "salida = []\n",
    "coef_1 = cols##[]\n",
    "colnames_1 = []\n",
    "for C in [0.01, 0.1, 1]: ####Ciclo para recorrer los diferentes parametros c\n",
    "    for penalty in ['l1', 'l2']: ###Ciclo para recorrer las diferentes penalidades\n",
    "        log_reg = LogisticRegression(C=C, penalty=penalty,solver='liblinear')\n",
    "        log_reg.fit(X, y)###Hacer el .fit\n",
    "        test['Pred_Calidad_2']=log_reg.predict(test[feature_cols]) ##Predecir en la base test\n",
    "        f1=f1_score(test['Calidad_2'], test['Pred_Calidad_2']) ##Obtener el f1score de la predicción\n",
    "        salida.append((C, penalty, f1)) ###Guardar\n",
    "        coef_tmp=pd.DataFrame(np.transpose(log_reg.coef_))\n",
    "        coef_1=np.column_stack([coef_1, coef_tmp])"
   ]
  },
  {
   "cell_type": "code",
   "execution_count": 151,
   "metadata": {
    "scrolled": false
   },
   "outputs": [
    {
     "data": {
      "text/plain": [
       "[(0.01, 'l1', 0.7789142407553107),\n",
       " (0.01, 'l2', 0.7883556254917388),\n",
       " (0.1, 'l1', 0.7911915060951632),\n",
       " (0.1, 'l2', 0.7913555992141454),\n",
       " (1, 'l1', 0.7941869599371564),\n",
       " (1, 'l2', 0.792927308447937)]"
      ]
     },
     "execution_count": 151,
     "metadata": {},
     "output_type": "execute_result"
    }
   ],
   "source": [
    "salida"
   ]
  },
  {
   "cell_type": "code",
   "execution_count": 152,
   "metadata": {},
   "outputs": [
    {
     "data": {
      "text/html": [
       "<div>\n",
       "<style scoped>\n",
       "    .dataframe tbody tr th:only-of-type {\n",
       "        vertical-align: middle;\n",
       "    }\n",
       "\n",
       "    .dataframe tbody tr th {\n",
       "        vertical-align: top;\n",
       "    }\n",
       "\n",
       "    .dataframe thead th {\n",
       "        text-align: right;\n",
       "    }\n",
       "</style>\n",
       "<table border=\"1\" class=\"dataframe\">\n",
       "  <thead>\n",
       "    <tr style=\"text-align: right;\">\n",
       "      <th></th>\n",
       "      <th>Columna</th>\n",
       "      <th>C0.01-l1</th>\n",
       "      <th>C0.01-l2</th>\n",
       "      <th>C0.1-l1</th>\n",
       "      <th>C0.1-l2</th>\n",
       "      <th>C1-l1</th>\n",
       "      <th>C1-l2</th>\n",
       "    </tr>\n",
       "  </thead>\n",
       "  <tbody>\n",
       "    <tr>\n",
       "      <th>0</th>\n",
       "      <td>fixed acidity</td>\n",
       "      <td>0</td>\n",
       "      <td>0.0636383</td>\n",
       "      <td>0</td>\n",
       "      <td>0.100147</td>\n",
       "      <td>0.0827543</td>\n",
       "      <td>0.104125</td>\n",
       "    </tr>\n",
       "    <tr>\n",
       "      <th>1</th>\n",
       "      <td>volatile acidity</td>\n",
       "      <td>-0.497103</td>\n",
       "      <td>-0.572549</td>\n",
       "      <td>-0.72518</td>\n",
       "      <td>-0.717018</td>\n",
       "      <td>-0.743202</td>\n",
       "      <td>-0.739415</td>\n",
       "    </tr>\n",
       "    <tr>\n",
       "      <th>2</th>\n",
       "      <td>citric acid</td>\n",
       "      <td>0</td>\n",
       "      <td>-0.045425</td>\n",
       "      <td>-0.0907778</td>\n",
       "      <td>-0.106846</td>\n",
       "      <td>-0.114673</td>\n",
       "      <td>-0.116646</td>\n",
       "    </tr>\n",
       "    <tr>\n",
       "      <th>3</th>\n",
       "      <td>residual sugar</td>\n",
       "      <td>0.0452129</td>\n",
       "      <td>0.295578</td>\n",
       "      <td>0.281338</td>\n",
       "      <td>0.406617</td>\n",
       "      <td>0.394874</td>\n",
       "      <td>0.420976</td>\n",
       "    </tr>\n",
       "    <tr>\n",
       "      <th>4</th>\n",
       "      <td>chlorides</td>\n",
       "      <td>0</td>\n",
       "      <td>-0.0701623</td>\n",
       "      <td>-0.0259923</td>\n",
       "      <td>-0.0327421</td>\n",
       "      <td>-0.0272979</td>\n",
       "      <td>-0.0267577</td>\n",
       "    </tr>\n",
       "    <tr>\n",
       "      <th>5</th>\n",
       "      <td>free sulfur dioxide</td>\n",
       "      <td>0</td>\n",
       "      <td>0.191752</td>\n",
       "      <td>0.237523</td>\n",
       "      <td>0.269466</td>\n",
       "      <td>0.278572</td>\n",
       "      <td>0.282022</td>\n",
       "    </tr>\n",
       "    <tr>\n",
       "      <th>6</th>\n",
       "      <td>total sulfur dioxide</td>\n",
       "      <td>0</td>\n",
       "      <td>-0.28066</td>\n",
       "      <td>-0.34249</td>\n",
       "      <td>-0.390289</td>\n",
       "      <td>-0.401129</td>\n",
       "      <td>-0.407331</td>\n",
       "    </tr>\n",
       "    <tr>\n",
       "      <th>7</th>\n",
       "      <td>density</td>\n",
       "      <td>0</td>\n",
       "      <td>-0.191914</td>\n",
       "      <td>0</td>\n",
       "      <td>-0.191099</td>\n",
       "      <td>-0.144173</td>\n",
       "      <td>-0.186772</td>\n",
       "    </tr>\n",
       "    <tr>\n",
       "      <th>8</th>\n",
       "      <td>pH</td>\n",
       "      <td>0</td>\n",
       "      <td>0.0660028</td>\n",
       "      <td>0.0137526</td>\n",
       "      <td>0.0764214</td>\n",
       "      <td>0.0640362</td>\n",
       "      <td>0.0767085</td>\n",
       "    </tr>\n",
       "    <tr>\n",
       "      <th>9</th>\n",
       "      <td>sulphates</td>\n",
       "      <td>0.0884986</td>\n",
       "      <td>0.255601</td>\n",
       "      <td>0.272632</td>\n",
       "      <td>0.308398</td>\n",
       "      <td>0.309249</td>\n",
       "      <td>0.315205</td>\n",
       "    </tr>\n",
       "    <tr>\n",
       "      <th>10</th>\n",
       "      <td>alcohol</td>\n",
       "      <td>0.871727</td>\n",
       "      <td>0.823816</td>\n",
       "      <td>1.12091</td>\n",
       "      <td>1.03159</td>\n",
       "      <td>1.08457</td>\n",
       "      <td>1.06473</td>\n",
       "    </tr>\n",
       "  </tbody>\n",
       "</table>\n",
       "</div>"
      ],
      "text/plain": [
       "                 Columna   C0.01-l1   C0.01-l2    C0.1-l1    C0.1-l2  \\\n",
       "0          fixed acidity          0  0.0636383          0   0.100147   \n",
       "1       volatile acidity  -0.497103  -0.572549   -0.72518  -0.717018   \n",
       "2            citric acid          0  -0.045425 -0.0907778  -0.106846   \n",
       "3         residual sugar  0.0452129   0.295578   0.281338   0.406617   \n",
       "4              chlorides          0 -0.0701623 -0.0259923 -0.0327421   \n",
       "5    free sulfur dioxide          0   0.191752   0.237523   0.269466   \n",
       "6   total sulfur dioxide          0   -0.28066   -0.34249  -0.390289   \n",
       "7                density          0  -0.191914          0  -0.191099   \n",
       "8                     pH          0  0.0660028  0.0137526  0.0764214   \n",
       "9              sulphates  0.0884986   0.255601   0.272632   0.308398   \n",
       "10               alcohol   0.871727   0.823816    1.12091    1.03159   \n",
       "\n",
       "        C1-l1      C1-l2  \n",
       "0   0.0827543   0.104125  \n",
       "1   -0.743202  -0.739415  \n",
       "2   -0.114673  -0.116646  \n",
       "3    0.394874   0.420976  \n",
       "4  -0.0272979 -0.0267577  \n",
       "5    0.278572   0.282022  \n",
       "6   -0.401129  -0.407331  \n",
       "7   -0.144173  -0.186772  \n",
       "8   0.0640362  0.0767085  \n",
       "9    0.309249   0.315205  \n",
       "10    1.08457    1.06473  "
      ]
     },
     "execution_count": 152,
     "metadata": {},
     "output_type": "execute_result"
    }
   ],
   "source": [
    "coef_1=pd.DataFrame(coef_1)\n",
    "coef_1.columns=(['Columna','C0.01-l1','C0.01-l2','C0.1-l1','C0.1-l2','C1-l1','C1-l2'])\n",
    "coef_1"
   ]
  }
 ],
 "metadata": {
  "kernelspec": {
   "display_name": "Python 3",
   "language": "python",
   "name": "python3"
  },
  "language_info": {
   "codemirror_mode": {
    "name": "ipython",
    "version": 3
   },
   "file_extension": ".py",
   "mimetype": "text/x-python",
   "name": "python",
   "nbconvert_exporter": "python",
   "pygments_lexer": "ipython3",
   "version": "3.6.5"
  }
 },
 "nbformat": 4,
 "nbformat_minor": 1
}
