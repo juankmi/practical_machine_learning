{
 "cells": [
  {
   "cell_type": "markdown",
   "metadata": {},
   "source": [
    "# Exercise 7\n",
    "\n",
    "# Capital Bikeshare data"
   ]
  },
  {
   "cell_type": "markdown",
   "metadata": {},
   "source": [
    "## Introduction\n",
    "\n",
    "- Capital Bikeshare dataset from Kaggle: [data](https://github.com/justmarkham/DAT8/blob/master/data/bikeshare.csv), [data dictionary](https://www.kaggle.com/c/bike-sharing-demand/data)\n",
    "- Each observation represents the bikeshare rentals initiated during a given hour of a given day"
   ]
  },
  {
   "cell_type": "code",
   "execution_count": 1,
   "metadata": {},
   "outputs": [
    {
     "name": "stderr",
     "output_type": "stream",
     "text": [
      "C:\\Users\\c_pal\\Anaconda3\\lib\\site-packages\\sklearn\\cross_validation.py:41: DeprecationWarning: This module was deprecated in version 0.18 in favor of the model_selection module into which all the refactored classes and functions are moved. Also note that the interface of the new CV iterators are different from that of this module. This module will be removed in 0.20.\n",
      "  \"This module will be removed in 0.20.\", DeprecationWarning)\n"
     ]
    }
   ],
   "source": [
    "%matplotlib inline\n",
    "import pandas as pd\n",
    "import numpy as np\n",
    "from sklearn.cross_validation import cross_val_score\n",
    "from sklearn.linear_model import LinearRegression\n",
    "from sklearn.tree import DecisionTreeRegressor, export_graphviz"
   ]
  },
  {
   "cell_type": "code",
   "execution_count": 2,
   "metadata": {},
   "outputs": [],
   "source": [
    "# read the data and set \"datetime\" as the index\n",
    "url = 'https://raw.githubusercontent.com/justmarkham/DAT8/master/data/bikeshare.csv'\n",
    "bikes = pd.read_csv(url, index_col='datetime', parse_dates=True)"
   ]
  },
  {
   "cell_type": "code",
   "execution_count": 3,
   "metadata": {},
   "outputs": [],
   "source": [
    "# \"count\" is a method, so it's best to rename that column\n",
    "bikes.rename(columns={'count':'total'}, inplace=True)"
   ]
  },
  {
   "cell_type": "code",
   "execution_count": 4,
   "metadata": {},
   "outputs": [],
   "source": [
    "# create \"hour\" as its own feature\n",
    "bikes['hour'] = bikes.index.hour"
   ]
  },
  {
   "cell_type": "code",
   "execution_count": 5,
   "metadata": {},
   "outputs": [
    {
     "data": {
      "text/html": [
       "<div>\n",
       "<style scoped>\n",
       "    .dataframe tbody tr th:only-of-type {\n",
       "        vertical-align: middle;\n",
       "    }\n",
       "\n",
       "    .dataframe tbody tr th {\n",
       "        vertical-align: top;\n",
       "    }\n",
       "\n",
       "    .dataframe thead th {\n",
       "        text-align: right;\n",
       "    }\n",
       "</style>\n",
       "<table border=\"1\" class=\"dataframe\">\n",
       "  <thead>\n",
       "    <tr style=\"text-align: right;\">\n",
       "      <th></th>\n",
       "      <th>season</th>\n",
       "      <th>holiday</th>\n",
       "      <th>workingday</th>\n",
       "      <th>weather</th>\n",
       "      <th>temp</th>\n",
       "      <th>atemp</th>\n",
       "      <th>humidity</th>\n",
       "      <th>windspeed</th>\n",
       "      <th>casual</th>\n",
       "      <th>registered</th>\n",
       "      <th>total</th>\n",
       "      <th>hour</th>\n",
       "    </tr>\n",
       "    <tr>\n",
       "      <th>datetime</th>\n",
       "      <th></th>\n",
       "      <th></th>\n",
       "      <th></th>\n",
       "      <th></th>\n",
       "      <th></th>\n",
       "      <th></th>\n",
       "      <th></th>\n",
       "      <th></th>\n",
       "      <th></th>\n",
       "      <th></th>\n",
       "      <th></th>\n",
       "      <th></th>\n",
       "    </tr>\n",
       "  </thead>\n",
       "  <tbody>\n",
       "    <tr>\n",
       "      <th>2011-01-01 00:00:00</th>\n",
       "      <td>1</td>\n",
       "      <td>0</td>\n",
       "      <td>0</td>\n",
       "      <td>1</td>\n",
       "      <td>9.84</td>\n",
       "      <td>14.395</td>\n",
       "      <td>81</td>\n",
       "      <td>0.0</td>\n",
       "      <td>3</td>\n",
       "      <td>13</td>\n",
       "      <td>16</td>\n",
       "      <td>0</td>\n",
       "    </tr>\n",
       "    <tr>\n",
       "      <th>2011-01-01 01:00:00</th>\n",
       "      <td>1</td>\n",
       "      <td>0</td>\n",
       "      <td>0</td>\n",
       "      <td>1</td>\n",
       "      <td>9.02</td>\n",
       "      <td>13.635</td>\n",
       "      <td>80</td>\n",
       "      <td>0.0</td>\n",
       "      <td>8</td>\n",
       "      <td>32</td>\n",
       "      <td>40</td>\n",
       "      <td>1</td>\n",
       "    </tr>\n",
       "    <tr>\n",
       "      <th>2011-01-01 02:00:00</th>\n",
       "      <td>1</td>\n",
       "      <td>0</td>\n",
       "      <td>0</td>\n",
       "      <td>1</td>\n",
       "      <td>9.02</td>\n",
       "      <td>13.635</td>\n",
       "      <td>80</td>\n",
       "      <td>0.0</td>\n",
       "      <td>5</td>\n",
       "      <td>27</td>\n",
       "      <td>32</td>\n",
       "      <td>2</td>\n",
       "    </tr>\n",
       "    <tr>\n",
       "      <th>2011-01-01 03:00:00</th>\n",
       "      <td>1</td>\n",
       "      <td>0</td>\n",
       "      <td>0</td>\n",
       "      <td>1</td>\n",
       "      <td>9.84</td>\n",
       "      <td>14.395</td>\n",
       "      <td>75</td>\n",
       "      <td>0.0</td>\n",
       "      <td>3</td>\n",
       "      <td>10</td>\n",
       "      <td>13</td>\n",
       "      <td>3</td>\n",
       "    </tr>\n",
       "    <tr>\n",
       "      <th>2011-01-01 04:00:00</th>\n",
       "      <td>1</td>\n",
       "      <td>0</td>\n",
       "      <td>0</td>\n",
       "      <td>1</td>\n",
       "      <td>9.84</td>\n",
       "      <td>14.395</td>\n",
       "      <td>75</td>\n",
       "      <td>0.0</td>\n",
       "      <td>0</td>\n",
       "      <td>1</td>\n",
       "      <td>1</td>\n",
       "      <td>4</td>\n",
       "    </tr>\n",
       "  </tbody>\n",
       "</table>\n",
       "</div>"
      ],
      "text/plain": [
       "                     season  holiday  workingday  weather  temp   atemp  \\\n",
       "datetime                                                                  \n",
       "2011-01-01 00:00:00       1        0           0        1  9.84  14.395   \n",
       "2011-01-01 01:00:00       1        0           0        1  9.02  13.635   \n",
       "2011-01-01 02:00:00       1        0           0        1  9.02  13.635   \n",
       "2011-01-01 03:00:00       1        0           0        1  9.84  14.395   \n",
       "2011-01-01 04:00:00       1        0           0        1  9.84  14.395   \n",
       "\n",
       "                     humidity  windspeed  casual  registered  total  hour  \n",
       "datetime                                                                   \n",
       "2011-01-01 00:00:00        81        0.0       3          13     16     0  \n",
       "2011-01-01 01:00:00        80        0.0       8          32     40     1  \n",
       "2011-01-01 02:00:00        80        0.0       5          27     32     2  \n",
       "2011-01-01 03:00:00        75        0.0       3          10     13     3  \n",
       "2011-01-01 04:00:00        75        0.0       0           1      1     4  "
      ]
     },
     "execution_count": 5,
     "metadata": {},
     "output_type": "execute_result"
    }
   ],
   "source": [
    "bikes.head()"
   ]
  },
  {
   "cell_type": "code",
   "execution_count": 6,
   "metadata": {},
   "outputs": [
    {
     "data": {
      "text/html": [
       "<div>\n",
       "<style scoped>\n",
       "    .dataframe tbody tr th:only-of-type {\n",
       "        vertical-align: middle;\n",
       "    }\n",
       "\n",
       "    .dataframe tbody tr th {\n",
       "        vertical-align: top;\n",
       "    }\n",
       "\n",
       "    .dataframe thead th {\n",
       "        text-align: right;\n",
       "    }\n",
       "</style>\n",
       "<table border=\"1\" class=\"dataframe\">\n",
       "  <thead>\n",
       "    <tr style=\"text-align: right;\">\n",
       "      <th></th>\n",
       "      <th>season</th>\n",
       "      <th>holiday</th>\n",
       "      <th>workingday</th>\n",
       "      <th>weather</th>\n",
       "      <th>temp</th>\n",
       "      <th>atemp</th>\n",
       "      <th>humidity</th>\n",
       "      <th>windspeed</th>\n",
       "      <th>casual</th>\n",
       "      <th>registered</th>\n",
       "      <th>total</th>\n",
       "      <th>hour</th>\n",
       "    </tr>\n",
       "    <tr>\n",
       "      <th>datetime</th>\n",
       "      <th></th>\n",
       "      <th></th>\n",
       "      <th></th>\n",
       "      <th></th>\n",
       "      <th></th>\n",
       "      <th></th>\n",
       "      <th></th>\n",
       "      <th></th>\n",
       "      <th></th>\n",
       "      <th></th>\n",
       "      <th></th>\n",
       "      <th></th>\n",
       "    </tr>\n",
       "  </thead>\n",
       "  <tbody>\n",
       "    <tr>\n",
       "      <th>2012-12-19 19:00:00</th>\n",
       "      <td>4</td>\n",
       "      <td>0</td>\n",
       "      <td>1</td>\n",
       "      <td>1</td>\n",
       "      <td>15.58</td>\n",
       "      <td>19.695</td>\n",
       "      <td>50</td>\n",
       "      <td>26.0027</td>\n",
       "      <td>7</td>\n",
       "      <td>329</td>\n",
       "      <td>336</td>\n",
       "      <td>19</td>\n",
       "    </tr>\n",
       "    <tr>\n",
       "      <th>2012-12-19 20:00:00</th>\n",
       "      <td>4</td>\n",
       "      <td>0</td>\n",
       "      <td>1</td>\n",
       "      <td>1</td>\n",
       "      <td>14.76</td>\n",
       "      <td>17.425</td>\n",
       "      <td>57</td>\n",
       "      <td>15.0013</td>\n",
       "      <td>10</td>\n",
       "      <td>231</td>\n",
       "      <td>241</td>\n",
       "      <td>20</td>\n",
       "    </tr>\n",
       "    <tr>\n",
       "      <th>2012-12-19 21:00:00</th>\n",
       "      <td>4</td>\n",
       "      <td>0</td>\n",
       "      <td>1</td>\n",
       "      <td>1</td>\n",
       "      <td>13.94</td>\n",
       "      <td>15.910</td>\n",
       "      <td>61</td>\n",
       "      <td>15.0013</td>\n",
       "      <td>4</td>\n",
       "      <td>164</td>\n",
       "      <td>168</td>\n",
       "      <td>21</td>\n",
       "    </tr>\n",
       "    <tr>\n",
       "      <th>2012-12-19 22:00:00</th>\n",
       "      <td>4</td>\n",
       "      <td>0</td>\n",
       "      <td>1</td>\n",
       "      <td>1</td>\n",
       "      <td>13.94</td>\n",
       "      <td>17.425</td>\n",
       "      <td>61</td>\n",
       "      <td>6.0032</td>\n",
       "      <td>12</td>\n",
       "      <td>117</td>\n",
       "      <td>129</td>\n",
       "      <td>22</td>\n",
       "    </tr>\n",
       "    <tr>\n",
       "      <th>2012-12-19 23:00:00</th>\n",
       "      <td>4</td>\n",
       "      <td>0</td>\n",
       "      <td>1</td>\n",
       "      <td>1</td>\n",
       "      <td>13.12</td>\n",
       "      <td>16.665</td>\n",
       "      <td>66</td>\n",
       "      <td>8.9981</td>\n",
       "      <td>4</td>\n",
       "      <td>84</td>\n",
       "      <td>88</td>\n",
       "      <td>23</td>\n",
       "    </tr>\n",
       "  </tbody>\n",
       "</table>\n",
       "</div>"
      ],
      "text/plain": [
       "                     season  holiday  workingday  weather   temp   atemp  \\\n",
       "datetime                                                                   \n",
       "2012-12-19 19:00:00       4        0           1        1  15.58  19.695   \n",
       "2012-12-19 20:00:00       4        0           1        1  14.76  17.425   \n",
       "2012-12-19 21:00:00       4        0           1        1  13.94  15.910   \n",
       "2012-12-19 22:00:00       4        0           1        1  13.94  17.425   \n",
       "2012-12-19 23:00:00       4        0           1        1  13.12  16.665   \n",
       "\n",
       "                     humidity  windspeed  casual  registered  total  hour  \n",
       "datetime                                                                   \n",
       "2012-12-19 19:00:00        50    26.0027       7         329    336    19  \n",
       "2012-12-19 20:00:00        57    15.0013      10         231    241    20  \n",
       "2012-12-19 21:00:00        61    15.0013       4         164    168    21  \n",
       "2012-12-19 22:00:00        61     6.0032      12         117    129    22  \n",
       "2012-12-19 23:00:00        66     8.9981       4          84     88    23  "
      ]
     },
     "execution_count": 6,
     "metadata": {},
     "output_type": "execute_result"
    }
   ],
   "source": [
    "bikes.tail()"
   ]
  },
  {
   "cell_type": "markdown",
   "metadata": {},
   "source": [
    "- **hour** ranges from 0 (midnight) through 23 (11pm)\n",
    "- **workingday** is either 0 (weekend or holiday) or 1 (non-holiday weekday)"
   ]
  },
  {
   "cell_type": "markdown",
   "metadata": {},
   "source": [
    "# Exercise 7.1\n",
    "\n",
    "Run these two `groupby` statements and figure out what they tell you about the data."
   ]
  },
  {
   "cell_type": "code",
   "execution_count": 7,
   "metadata": {},
   "outputs": [
    {
     "data": {
      "text/plain": [
       "workingday\n",
       "0    188.506621\n",
       "1    193.011873\n",
       "Name: total, dtype: float64"
      ]
     },
     "execution_count": 7,
     "metadata": {},
     "output_type": "execute_result"
    }
   ],
   "source": [
    "# mean rentals for each value of \"workingday\"\n",
    "bikes.groupby('workingday').total.mean()"
   ]
  },
  {
   "cell_type": "markdown",
   "metadata": {},
   "source": [
    "Hay simetria entre la renta entre semana que los fines de semana, ahora bien teniendo en cuenta que el fin de semana son solo 2 días, la concentración por hora puede ser más alta."
   ]
  },
  {
   "cell_type": "code",
   "execution_count": 8,
   "metadata": {},
   "outputs": [
    {
     "data": {
      "text/plain": [
       "hour\n",
       "0      55.138462\n",
       "1      33.859031\n",
       "2      22.899554\n",
       "3      11.757506\n",
       "4       6.407240\n",
       "5      19.767699\n",
       "6      76.259341\n",
       "7     213.116484\n",
       "8     362.769231\n",
       "9     221.780220\n",
       "10    175.092308\n",
       "11    210.674725\n",
       "12    256.508772\n",
       "13    257.787281\n",
       "14    243.442982\n",
       "15    254.298246\n",
       "16    316.372807\n",
       "17    468.765351\n",
       "18    430.859649\n",
       "19    315.278509\n",
       "20    228.517544\n",
       "21    173.370614\n",
       "22    133.576754\n",
       "23     89.508772\n",
       "Name: total, dtype: float64"
      ]
     },
     "execution_count": 8,
     "metadata": {},
     "output_type": "execute_result"
    }
   ],
   "source": [
    "# mean rentals for each value of \"hour\"\n",
    "bikes.groupby('hour').total.mean()"
   ]
  },
  {
   "cell_type": "markdown",
   "metadata": {},
   "source": [
    "Entre las 5 y las 6 de la tarde son las horas donde más se rentan bicicletas"
   ]
  },
  {
   "cell_type": "markdown",
   "metadata": {},
   "source": [
    "# Exercise 7.2\n",
    "\n",
    "Run this plotting code, and make sure you understand the output. Then, separate this plot into two separate plots conditioned on \"workingday\". (In other words, one plot should display the hourly trend for \"workingday=0\", and the other should display the hourly trend for \"workingday=1\".)"
   ]
  },
  {
   "cell_type": "code",
   "execution_count": 9,
   "metadata": {},
   "outputs": [
    {
     "data": {
      "text/plain": [
       "<matplotlib.axes._subplots.AxesSubplot at 0x1bfceeac2e8>"
      ]
     },
     "execution_count": 9,
     "metadata": {},
     "output_type": "execute_result"
    },
    {
     "data": {
      "image/png": "[encoded data removed]",
      "text/plain": [
       "<Figure size 432x288 with 1 Axes>"
      ]
     },
     "metadata": {},
     "output_type": "display_data"
    }
   ],
   "source": [
    "# mean rentals for each value of \"hour\"\n",
    "bikes.groupby('hour').total.mean().plot()"
   ]
  },
  {
   "cell_type": "code",
   "execution_count": 11,
   "metadata": {},
   "outputs": [],
   "source": [
    "bikes_1= bikes[bikes['workingday']==1]\n",
    "bikes_0= bikes[bikes['workingday']==0]"
   ]
  },
  {
   "cell_type": "code",
   "execution_count": 12,
   "metadata": {},
   "outputs": [
    {
     "data": {
      "text/plain": [
       "<matplotlib.axes._subplots.AxesSubplot at 0x1bfd0234710>"
      ]
     },
     "execution_count": 12,
     "metadata": {},
     "output_type": "execute_result"
    },
    {
     "data": {
      "image/png": "[encoded data removed]",
      "text/plain": [
       "<Figure size 432x288 with 1 Axes>"
      ]
     },
     "metadata": {},
     "output_type": "display_data"
    }
   ],
   "source": [
    "# mean rentals for each value of \"hour\"\n",
    "bikes_1.groupby('hour').total.mean().plot()"
   ]
  },
  {
   "cell_type": "code",
   "execution_count": 13,
   "metadata": {},
   "outputs": [
    {
     "data": {
      "text/plain": [
       "<matplotlib.axes._subplots.AxesSubplot at 0x1bfd028a748>"
      ]
     },
     "execution_count": 13,
     "metadata": {},
     "output_type": "execute_result"
    },
    {
     "data": {
      "image/png": "[encoded data removed]",
      "text/plain": [
       "<Figure size 432x288 with 1 Axes>"
      ]
     },
     "metadata": {},
     "output_type": "display_data"
    }
   ],
   "source": [
    "bikes_0.groupby('hour').total.mean().plot()"
   ]
  },
  {
   "cell_type": "markdown",
   "metadata": {},
   "source": [
    "Plot for workingday == 0 and workingday == 1"
   ]
  },
  {
   "cell_type": "code",
   "execution_count": 14,
   "metadata": {},
   "outputs": [
    {
     "data": {
      "text/plain": [
       "<matplotlib.axes._subplots.AxesSubplot at 0x1bfd02e9be0>"
      ]
     },
     "execution_count": 14,
     "metadata": {},
     "output_type": "execute_result"
    },
    {
     "data": {
      "image/png": "[encoded data removed]",
      "text/plain": [
       "<Figure size 432x288 with 1 Axes>"
      ]
     },
     "metadata": {},
     "output_type": "display_data"
    }
   ],
   "source": [
    "# hourly rental trend for \"workingday=0\"\n",
    "bikes[bikes.workingday==0].groupby('hour').total.mean().plot()"
   ]
  },
  {
   "cell_type": "code",
   "execution_count": 15,
   "metadata": {},
   "outputs": [
    {
     "data": {
      "text/plain": [
       "<matplotlib.axes._subplots.AxesSubplot at 0x1bfd02e1a58>"
      ]
     },
     "execution_count": 15,
     "metadata": {},
     "output_type": "execute_result"
    },
    {
     "data": {
      "image/png": "[encoded data removed]",
      "text/plain": [
       "<Figure size 432x288 with 1 Axes>"
      ]
     },
     "metadata": {},
     "output_type": "display_data"
    }
   ],
   "source": [
    "# hourly rental trend for \"workingday=1\"\n",
    "bikes[bikes.workingday==1].groupby('hour').total.mean().plot()"
   ]
  },
  {
   "cell_type": "code",
   "execution_count": 16,
   "metadata": {},
   "outputs": [
    {
     "data": {
      "text/plain": [
       "<matplotlib.axes._subplots.AxesSubplot at 0x1bfd03a1dd8>"
      ]
     },
     "execution_count": 16,
     "metadata": {},
     "output_type": "execute_result"
    },
    {
     "data": {
      "image/png": "[encoded data removed]",
      "text/plain": [
       "<Figure size 432x288 with 1 Axes>"
      ]
     },
     "metadata": {},
     "output_type": "display_data"
    }
   ],
   "source": [
    "# combine the two plots\n",
    "bikes.groupby(['hour', 'workingday']).total.mean().unstack().plot()"
   ]
  },
  {
   "cell_type": "markdown",
   "metadata": {},
   "source": [
    "Write about your findings"
   ]
  },
  {
   "cell_type": "markdown",
   "metadata": {},
   "source": [
    "Las horas pico en los día laborales suelen ser las horas de salida de la casa (5 y 10 am) y salida del trabajo (3-8 pm), lo que tiene todo el sentido del mundo. mient5ras que los fines de semana, se invierte la curva hacia horas medias del día."
   ]
  },
  {
   "cell_type": "markdown",
   "metadata": {},
   "source": [
    "# Exercise 7.3\n",
    "\n",
    "Fit a linear regression model to the entire dataset, using \"total\" as the response and \"hour\" and \"workingday\" as the only features. Then, print the coefficients and interpret them. What are the limitations of linear regression in this instance?"
   ]
  },
  {
   "cell_type": "code",
   "execution_count": 17,
   "metadata": {},
   "outputs": [],
   "source": [
    "from sklearn.linear_model import LinearRegression"
   ]
  },
  {
   "cell_type": "code",
   "execution_count": 18,
   "metadata": {},
   "outputs": [],
   "source": [
    "# Initialize\n",
    "linreg = LinearRegression(fit_intercept=False)"
   ]
  },
  {
   "cell_type": "code",
   "execution_count": 19,
   "metadata": {},
   "outputs": [],
   "source": [
    "from sklearn.linear_model import SGDRegressor\n",
    "from sklearn.linear_model import LinearRegression\n",
    "\n",
    "clf1 = LinearRegression()"
   ]
  },
  {
   "cell_type": "code",
   "execution_count": 20,
   "metadata": {
    "scrolled": true
   },
   "outputs": [
    {
     "data": {
      "text/plain": [
       "LinearRegression(copy_X=True, fit_intercept=True, n_jobs=1, normalize=False)"
      ]
     },
     "execution_count": 20,
     "metadata": {},
     "output_type": "execute_result"
    }
   ],
   "source": [
    "clf1.fit(bikes[['hour', 'workingday']], bikes['total'])"
   ]
  },
  {
   "cell_type": "code",
   "execution_count": 21,
   "metadata": {},
   "outputs": [
    {
     "data": {
      "text/plain": [
       "array([10.49206282,  4.07248627])"
      ]
     },
     "execution_count": 21,
     "metadata": {},
     "output_type": "execute_result"
    }
   ],
   "source": [
    "clf1.coef_"
   ]
  },
  {
   "cell_type": "markdown",
   "metadata": {},
   "source": [
    "Al estudiar una variable dicotomica, categoria, el resultado de la regresión va a ser una variable continua y no nos va a permitir segmentar la base, sino asignar una probabilidad. El entendimiento de que horas y que dias son aquellos que explican el total de horas no es claro ni contundente"
   ]
  },
  {
   "cell_type": "markdown",
   "metadata": {},
   "source": [
    "# Exercice 7.4\n",
    "\n",
    "Create a Decision Tree to forecast \"total\" by manually iterating over the features \"hour\" and \"workingday\". The algorithm must at least have 6 end nodes."
   ]
  },
  {
   "cell_type": "code",
   "execution_count": 22,
   "metadata": {},
   "outputs": [],
   "source": [
    "bikes_izq = bikes.loc[bikes.hour>=0].copy()"
   ]
  },
  {
   "cell_type": "code",
   "execution_count": 23,
   "metadata": {},
   "outputs": [
    {
     "data": {
      "text/plain": [
       "array([ 0,  1,  2,  3,  4,  5,  6,  7,  8,  9, 10, 11, 12, 13, 14, 15, 16,\n",
       "       17, 18, 19, 20, 21, 22, 23], dtype=int64)"
      ]
     },
     "execution_count": 23,
     "metadata": {},
     "output_type": "execute_result"
    }
   ],
   "source": [
    "bikes_izq.hour.unique()"
   ]
  },
  {
   "cell_type": "code",
   "execution_count": 24,
   "metadata": {},
   "outputs": [],
   "source": [
    "def error_año(bikes, hour):\n",
    "    bikes['pred'] = bikes.loc[bikes.hour<hour, 'total'].mean()\n",
    "    bikes.loc[bikes.hour>=hour, 'pred'] = bikes.loc[bikes.hour>=hour, 'total'].mean()\n",
    "    print ((((bikes['total'] - bikes['pred'])**2).mean()) ** 0.5)\n",
    "    \n",
    "    "
   ]
  },
  {
   "cell_type": "code",
   "execution_count": 25,
   "metadata": {
    "scrolled": true
   },
   "outputs": [
    {
     "name": "stdout",
     "output_type": "stream",
     "text": [
      "hour  0\n",
      "181.13613357426559\n",
      "hour  1\n",
      "178.88076030483188\n",
      "hour  2\n",
      "175.61266024769844\n",
      "hour  3\n",
      "171.5350162975495\n",
      "hour  4\n",
      "166.57596568309665\n",
      "hour  5\n",
      "160.50832916137819\n",
      "hour  6\n",
      "154.10979930228774\n",
      "hour  7\n",
      "150.22560060405686\n",
      "hour  8\n",
      "153.86972728404965\n",
      "hour  9\n",
      "163.39221989024873\n",
      "hour  10\n",
      "165.25615391972227\n",
      "hour  11\n",
      "165.00286510437286\n",
      "hour  12\n",
      "165.84659205524616\n",
      "hour  13\n",
      "168.04756019190663\n",
      "hour  14\n",
      "169.94604099621912\n",
      "hour  15\n",
      "171.14521362143498\n",
      "hour  16\n",
      "172.47403631919644\n",
      "hour  17\n",
      "175.2235068708682\n",
      "hour  18\n",
      "179.8668827954335\n",
      "hour  19\n",
      "181.12705316323988\n",
      "hour  20\n",
      "180.44126246625746\n",
      "hour  21\n",
      "179.7297936918192\n",
      "hour  22\n",
      "179.51222338944388\n",
      "hour  23\n",
      "179.87454650980683\n"
     ]
    }
   ],
   "source": [
    "for hour in bikes_izq.hour.unique():\n",
    "    print('hour ',hour)\n",
    "    error_año(bikes_izq, hour)\n"
   ]
  },
  {
   "cell_type": "code",
   "execution_count": 27,
   "metadata": {},
   "outputs": [],
   "source": [
    "def error_workingday(bikes, workingday):\n",
    "    bikes['pred'] = bikes.loc[bikes.workingday<workingday, 'total'].mean()\n",
    "    bikes.loc[bikes.workingday>=workingday, 'pred'] = bikes.loc[bikes.workingday>=workingday, 'total'].mean()\n",
    "    print ((((bikes['total'] - bikes['pred'])**2).mean()) ** 0.5)"
   ]
  },
  {
   "cell_type": "code",
   "execution_count": 28,
   "metadata": {},
   "outputs": [
    {
     "name": "stdout",
     "output_type": "stream",
     "text": [
      "workingday  1\n",
      "181.12395921110544\n",
      "workingday  0\n",
      "181.13613357426559\n"
     ]
    }
   ],
   "source": [
    "for workingday in [1, 0]:\n",
    "    print('workingday ',workingday)\n",
    "    error_workingday(bikes_izq, workingday)"
   ]
  },
  {
   "cell_type": "code",
   "execution_count": 29,
   "metadata": {},
   "outputs": [],
   "source": [
    "bikes_izq_1 = bikes.loc[bikes.hour<7].copy()\n",
    "bikes_izq_1_1 = bikes.loc[bikes.hour>=7].copy()"
   ]
  },
  {
   "cell_type": "code",
   "execution_count": 30,
   "metadata": {},
   "outputs": [
    {
     "data": {
      "text/plain": [
       "array([0, 1, 2, 3, 4, 5, 6], dtype=int64)"
      ]
     },
     "execution_count": 30,
     "metadata": {},
     "output_type": "execute_result"
    }
   ],
   "source": [
    "bikes_izq_1.hour.unique()"
   ]
  },
  {
   "cell_type": "code",
   "execution_count": 31,
   "metadata": {},
   "outputs": [
    {
     "data": {
      "text/plain": [
       "array([ 7,  8,  9, 10, 11, 12, 13, 14, 15, 16, 17, 18, 19, 20, 21, 22, 23],\n",
       "      dtype=int64)"
      ]
     },
     "execution_count": 31,
     "metadata": {},
     "output_type": "execute_result"
    }
   ],
   "source": [
    "bikes_izq_1_1.hour.unique()"
   ]
  },
  {
   "cell_type": "code",
   "execution_count": 32,
   "metadata": {},
   "outputs": [
    {
     "name": "stdout",
     "output_type": "stream",
     "text": [
      "hour  0\n",
      "39.56714516247788\n",
      "hour  1\n",
      "38.46175887834954\n",
      "hour  2\n",
      "38.827302356307555\n",
      "hour  3\n",
      "39.34538405588436\n",
      "hour  4\n",
      "39.534113157382144\n",
      "hour  5\n",
      "38.30948200125475\n",
      "hour  6\n",
      "35.24426946227024\n"
     ]
    }
   ],
   "source": [
    "for hour in bikes_izq_1.hour.unique():\n",
    "    print('hour ',hour)\n",
    "    error_año(bikes_izq_1, hour)    "
   ]
  },
  {
   "cell_type": "code",
   "execution_count": 33,
   "metadata": {},
   "outputs": [
    {
     "name": "stdout",
     "output_type": "stream",
     "text": [
      "workingday  1\n",
      "39.18093811435608\n",
      "workingday  0\n",
      "39.56714516247788\n"
     ]
    }
   ],
   "source": [
    "for workingday in [1, 0]:\n",
    "    print('workingday ',workingday)\n",
    "    error_workingday(bikes_izq_1, workingday)"
   ]
  },
  {
   "cell_type": "code",
   "execution_count": 34,
   "metadata": {
    "scrolled": true
   },
   "outputs": [
    {
     "name": "stdout",
     "output_type": "stream",
     "text": [
      "hour  7\n",
      "176.28835016242152\n",
      "hour  8\n",
      "175.9626543129351\n",
      "hour  9\n",
      "175.9026463917815\n",
      "hour  10\n",
      "176.22897287604295\n",
      "hour  11\n",
      "176.1454556323947\n",
      "hour  12\n",
      "175.84813796801208\n",
      "hour  13\n",
      "175.89260116453647\n",
      "hour  14\n",
      "175.92916682007098\n",
      "hour  15\n",
      "175.83965773793437\n",
      "hour  16\n",
      "175.82530141788737\n",
      "hour  17\n",
      "176.19523832330185\n",
      "hour  18\n",
      "175.115249088561\n",
      "hour  19\n",
      "170.74027110094912\n",
      "hour  20\n",
      "167.37168785994314\n",
      "hour  21\n",
      "166.69864069956597\n",
      "hour  22\n",
      "168.20616961120874\n",
      "hour  23\n",
      "171.30096203191567\n"
     ]
    }
   ],
   "source": [
    "for hour in bikes_izq_1_1.hour.unique():\n",
    "    print('hour ',hour)\n",
    "    error_año(bikes_izq_1_1, hour)  "
   ]
  },
  {
   "cell_type": "code",
   "execution_count": 35,
   "metadata": {},
   "outputs": [
    {
     "name": "stdout",
     "output_type": "stream",
     "text": [
      "workingday  1\n",
      "176.2245057824691\n",
      "workingday  0\n",
      "176.28835016242152\n"
     ]
    }
   ],
   "source": [
    "for workingday in [1, 0]:\n",
    "    print('workingday ',workingday)\n",
    "    error_workingday(bikes_izq_1_1, workingday)"
   ]
  },
  {
   "cell_type": "code",
   "execution_count": 36,
   "metadata": {},
   "outputs": [],
   "source": [
    "bikes_izq_1_2 = bikes_izq_1.loc[bikes_izq_1.hour<6].copy()\n",
    "bikes_izq_1_2_1 = bikes_izq_1.loc[bikes_izq_1.hour>=6].copy()"
   ]
  },
  {
   "cell_type": "code",
   "execution_count": 37,
   "metadata": {},
   "outputs": [
    {
     "data": {
      "text/plain": [
       "array([6], dtype=int64)"
      ]
     },
     "execution_count": 37,
     "metadata": {},
     "output_type": "execute_result"
    }
   ],
   "source": [
    "bikes_izq_1_2.hour.unique()\n",
    "bikes_izq_1_2_1.hour.unique()"
   ]
  },
  {
   "cell_type": "code",
   "execution_count": 38,
   "metadata": {},
   "outputs": [
    {
     "name": "stdout",
     "output_type": "stream",
     "text": [
      "hour  0\n",
      "30.753540668567577\n",
      "hour  1\n",
      "27.614237275202125\n",
      "hour  2\n",
      "27.46590337533093\n",
      "hour  3\n",
      "28.171307299972213\n",
      "hour  4\n",
      "29.557984864071205\n",
      "hour  5\n",
      "30.657024737799514\n"
     ]
    }
   ],
   "source": [
    "for hour in bikes_izq_1_2.hour.unique():\n",
    "    print('hour ',hour)\n",
    "    error_año(bikes_izq_1_2, hour)   "
   ]
  },
  {
   "cell_type": "code",
   "execution_count": 39,
   "metadata": {},
   "outputs": [
    {
     "name": "stdout",
     "output_type": "stream",
     "text": [
      "workingday  1\n",
      "27.86868086542797\n",
      "workingday  0\n",
      "30.753540668567577\n"
     ]
    }
   ],
   "source": [
    "for workingday in [1, 0]:\n",
    "    print('workingday ',workingday)\n",
    "    error_workingday(bikes_izq_1_2, workingday)"
   ]
  },
  {
   "cell_type": "code",
   "execution_count": 40,
   "metadata": {},
   "outputs": [
    {
     "name": "stdout",
     "output_type": "stream",
     "text": [
      "hour  6\n",
      "54.68514067417475\n"
     ]
    }
   ],
   "source": [
    "for hour in bikes_izq_1_2_1.hour.unique():\n",
    "    print('hour ',hour)\n",
    "    error_año(bikes_izq_1_2_1, hour)   "
   ]
  },
  {
   "cell_type": "code",
   "execution_count": 41,
   "metadata": {},
   "outputs": [
    {
     "name": "stdout",
     "output_type": "stream",
     "text": [
      "workingday  1\n",
      "38.85415488379482\n",
      "workingday  0\n",
      "54.68514067417475\n"
     ]
    }
   ],
   "source": [
    "for workingday in [1, 0]:\n",
    "    print('workingday ',workingday)\n",
    "    error_workingday(bikes_izq_1_2_1, workingday)"
   ]
  },
  {
   "cell_type": "code",
   "execution_count": 42,
   "metadata": {},
   "outputs": [],
   "source": [
    "bikes_izq_1_2_1 = bikes_izq_1_2.loc[bikes_izq_1_2.hour<2].copy()\n",
    "bikes_izq_1_2_2 = bikes_izq_1_2.loc[bikes_izq_1_2.hour>=2].copy()"
   ]
  },
  {
   "cell_type": "code",
   "execution_count": 43,
   "metadata": {},
   "outputs": [
    {
     "name": "stdout",
     "output_type": "stream",
     "text": [
      "hour  0\n",
      "40.538959119681785\n",
      "hour  1\n",
      "39.117819478677326\n"
     ]
    }
   ],
   "source": [
    "for hour in bikes_izq_1_2_1.hour.unique():\n",
    "    print('hour ',hour)\n",
    "    error_año(bikes_izq_1_2_1, hour)  "
   ]
  },
  {
   "cell_type": "code",
   "execution_count": 44,
   "metadata": {},
   "outputs": [
    {
     "name": "stdout",
     "output_type": "stream",
     "text": [
      "workingday  1\n",
      "30.694005806108365\n",
      "workingday  0\n",
      "40.538959119681785\n"
     ]
    }
   ],
   "source": [
    "for workingday in [1, 0]:\n",
    "    print('workingday ',workingday)\n",
    "    error_workingday(bikes_izq_1_2_1, workingday)"
   ]
  },
  {
   "cell_type": "code",
   "execution_count": 45,
   "metadata": {},
   "outputs": [],
   "source": [
    "bikes_izq_1_1_1 = bikes_izq_1_1.loc[bikes_izq_1_1.hour<21].copy()\n",
    "bikes_izq_1_1_2 = bikes_izq_1_1.loc[bikes_izq_1_1.hour>=21].copy()"
   ]
  },
  {
   "cell_type": "code",
   "execution_count": 46,
   "metadata": {},
   "outputs": [
    {
     "data": {
      "text/plain": [
       "array([21, 22, 23], dtype=int64)"
      ]
     },
     "execution_count": 46,
     "metadata": {},
     "output_type": "execute_result"
    }
   ],
   "source": [
    "bikes_izq_1_1_1.hour.unique()\n",
    "bikes_izq_1_1_2.hour.unique()"
   ]
  },
  {
   "cell_type": "code",
   "execution_count": 47,
   "metadata": {
    "scrolled": true
   },
   "outputs": [
    {
     "name": "stdout",
     "output_type": "stream",
     "text": [
      "hour  7\n",
      "180.02864972098826\n",
      "hour  8\n",
      "178.99715046718114\n",
      "hour  9\n",
      "180.0152330686221\n",
      "hour  10\n",
      "179.8185136914361\n",
      "hour  11\n",
      "178.3022430628963\n",
      "hour  12\n",
      "176.75986364527014\n",
      "hour  13\n",
      "176.22253234052977\n",
      "hour  14\n",
      "175.53287560508187\n",
      "hour  15\n",
      "174.04175510396522\n",
      "hour  16\n",
      "172.4267605458089\n",
      "hour  17\n",
      "173.07581303410245\n",
      "hour  18\n",
      "178.6648712641945\n",
      "hour  19\n",
      "179.97602519154125\n",
      "hour  20\n",
      "179.4031992036802\n"
     ]
    }
   ],
   "source": [
    "for hour in bikes_izq_1_1_1.hour.unique():\n",
    "    print('hour ',hour)\n",
    "    error_año(bikes_izq_1_1_1, hour)   "
   ]
  },
  {
   "cell_type": "code",
   "execution_count": 48,
   "metadata": {},
   "outputs": [
    {
     "name": "stdout",
     "output_type": "stream",
     "text": [
      "workingday  1\n",
      "179.9813181571363\n",
      "workingday  0\n",
      "180.02864972098826\n"
     ]
    }
   ],
   "source": [
    "for workingday in [1, 0]:\n",
    "    print('workingday ',workingday)\n",
    "    error_workingday(bikes_izq_1_1_1, workingday)"
   ]
  },
  {
   "cell_type": "code",
   "execution_count": 49,
   "metadata": {},
   "outputs": [
    {
     "name": "stdout",
     "output_type": "stream",
     "text": [
      "hour  21\n",
      "78.9719321218757\n",
      "hour  22\n",
      "73.39673643923476\n",
      "hour  23\n",
      "72.98864033487493\n"
     ]
    }
   ],
   "source": [
    "for hour in bikes_izq_1_1_2.hour.unique():\n",
    "    print('hour ',hour)\n",
    "    error_año(bikes_izq_1_1_2, hour) "
   ]
  },
  {
   "cell_type": "code",
   "execution_count": 50,
   "metadata": {},
   "outputs": [
    {
     "name": "stdout",
     "output_type": "stream",
     "text": [
      "workingday  1\n",
      "78.59722825511945\n",
      "workingday  0\n",
      "78.9719321218757\n"
     ]
    }
   ],
   "source": [
    "for workingday in [1, 0]:\n",
    "    print('workingday ',workingday)\n",
    "    error_workingday(bikes_izq_1_1_2, workingday)"
   ]
  },
  {
   "cell_type": "code",
   "execution_count": 51,
   "metadata": {},
   "outputs": [],
   "source": [
    "bikes_izq_1_1_1_23 = bikes_izq_1_1_2.loc[bikes_izq_1_1_2.hour<23].copy()\n",
    "bikes_izq_1_1_2_23 = bikes_izq_1_1_2.loc[bikes_izq_1_1_2.hour>=23].copy()"
   ]
  },
  {
   "cell_type": "code",
   "execution_count": 52,
   "metadata": {},
   "outputs": [
    {
     "data": {
      "text/plain": [
       "array([21, 22], dtype=int64)"
      ]
     },
     "execution_count": 52,
     "metadata": {},
     "output_type": "execute_result"
    }
   ],
   "source": [
    "bikes_izq_1_1_1_23.hour.unique()\n",
    "bikes_izq_1_1_1_23.hour.unique()"
   ]
  },
  {
   "cell_type": "code",
   "execution_count": 53,
   "metadata": {},
   "outputs": [
    {
     "name": "stdout",
     "output_type": "stream",
     "text": [
      "hour  21\n",
      "81.61307789146191\n",
      "hour  22\n",
      "79.15053168788128\n"
     ]
    }
   ],
   "source": [
    "for hour in bikes_izq_1_1_1_23.hour.unique():\n",
    "    print('hour ',hour)\n",
    "    error_año(bikes_izq_1_1_1_23, hour) "
   ]
  },
  {
   "cell_type": "code",
   "execution_count": 54,
   "metadata": {},
   "outputs": [
    {
     "name": "stdout",
     "output_type": "stream",
     "text": [
      "workingday  1\n",
      "80.74074370646522\n",
      "workingday  0\n",
      "81.61307789146191\n"
     ]
    }
   ],
   "source": [
    "for workingday in [1, 0]:\n",
    "    print('workingday ',workingday)\n",
    "    error_workingday(bikes_izq_1_1_1_23, workingday)"
   ]
  },
  {
   "cell_type": "code",
   "execution_count": 55,
   "metadata": {},
   "outputs": [
    {
     "name": "stdout",
     "output_type": "stream",
     "text": [
      "hour  23\n",
      "51.5813521339401\n"
     ]
    }
   ],
   "source": [
    "for hour in bikes_izq_1_1_2_23.hour.unique():\n",
    "    print('hour ',hour)\n",
    "    error_año(bikes_izq_1_1_2_23, hour) "
   ]
  },
  {
   "cell_type": "code",
   "execution_count": 56,
   "metadata": {},
   "outputs": [
    {
     "name": "stdout",
     "output_type": "stream",
     "text": [
      "workingday  1\n",
      "51.57590195076688\n",
      "workingday  0\n",
      "51.5813521339401\n"
     ]
    }
   ],
   "source": [
    "for workingday in [1, 0]:\n",
    "    print('workingday ',workingday)\n",
    "    error_workingday(bikes_izq_1_1_2_23, workingday)"
   ]
  },
  {
   "cell_type": "code",
   "execution_count": 57,
   "metadata": {},
   "outputs": [],
   "source": [
    "bikes_izq_1_1_16 = bikes_izq_1_1_1.loc[bikes_izq_1_1_1.hour<16].copy()\n",
    "bikes_izq_1_1_2_16 = bikes_izq_1_1_1.loc[bikes_izq_1_1_1.hour>=16].copy()"
   ]
  },
  {
   "cell_type": "code",
   "execution_count": 58,
   "metadata": {},
   "outputs": [
    {
     "data": {
      "text/plain": [
       "array([16, 17, 18, 19, 20], dtype=int64)"
      ]
     },
     "execution_count": 58,
     "metadata": {},
     "output_type": "execute_result"
    }
   ],
   "source": [
    "bikes_izq_1_1_16.hour.unique()\n",
    "bikes_izq_1_1_2_16.hour.unique()"
   ]
  },
  {
   "cell_type": "code",
   "execution_count": 59,
   "metadata": {},
   "outputs": [
    {
     "name": "stdout",
     "output_type": "stream",
     "text": [
      "hour  16\n",
      "197.5420520682468\n",
      "hour  17\n",
      "196.7390965483207\n",
      "hour  18\n",
      "194.73930688134794\n",
      "hour  19\n",
      "186.41275084200575\n",
      "hour  20\n",
      "187.65241308990824\n"
     ]
    }
   ],
   "source": [
    "for hour in bikes_izq_1_1_2_16.hour.unique():\n",
    "    print('hour ',hour)\n",
    "    error_año(bikes_izq_1_1_2_16, hour)"
   ]
  },
  {
   "cell_type": "code",
   "execution_count": 60,
   "metadata": {},
   "outputs": [
    {
     "name": "stdout",
     "output_type": "stream",
     "text": [
      "workingday  1\n",
      "192.18389017185376\n",
      "workingday  0\n",
      "197.5420520682468\n"
     ]
    }
   ],
   "source": [
    "for workingday in [1, 0]:\n",
    "    print('workingday ',workingday)\n",
    "    error_workingday(bikes_izq_1_1_2_16, workingday)"
   ]
  },
  {
   "cell_type": "code",
   "execution_count": 61,
   "metadata": {},
   "outputs": [
    {
     "name": "stdout",
     "output_type": "stream",
     "text": [
      "hour  7\n",
      "156.72440257472772\n",
      "hour  8\n",
      "156.34522917916382\n",
      "hour  9\n",
      "154.95247130836913\n",
      "hour  10\n",
      "155.9558851652572\n",
      "hour  11\n",
      "156.72292931961604\n",
      "hour  12\n",
      "156.51433435445483\n",
      "hour  13\n",
      "156.62481542315632\n",
      "hour  14\n",
      "156.70229619927898\n",
      "hour  15\n",
      "156.68163321041817\n"
     ]
    }
   ],
   "source": [
    "for hour in bikes_izq_1_1_16.hour.unique():\n",
    "    print('hour ',hour)\n",
    "    error_año(bikes_izq_1_1_16, hour)"
   ]
  },
  {
   "cell_type": "code",
   "execution_count": 62,
   "metadata": {},
   "outputs": [
    {
     "name": "stdout",
     "output_type": "stream",
     "text": [
      "workingday  1\n",
      "155.56614105625243\n",
      "workingday  0\n",
      "156.72440257472772\n"
     ]
    }
   ],
   "source": [
    "for workingday in [1, 0]:\n",
    "    print('workingday ',workingday)\n",
    "    error_workingday(bikes_izq_1_1_16, workingday)"
   ]
  },
  {
   "cell_type": "markdown",
   "metadata": {},
   "source": [
    "### Nodos terminales:"
   ]
  },
  {
   "cell_type": "code",
   "execution_count": 63,
   "metadata": {},
   "outputs": [
    {
     "name": "stdout",
     "output_type": "stream",
     "text": [
      "1) Hour <7- hour >6 - workday 1 =  38.85415488379482\n"
     ]
    }
   ],
   "source": [
    "print(\"1) Hour <7- hour >6 - workday 1 =  38.85415488379482\")"
   ]
  },
  {
   "cell_type": "code",
   "execution_count": 64,
   "metadata": {},
   "outputs": [
    {
     "name": "stdout",
     "output_type": "stream",
     "text": [
      "2) Hour <7- hour >6 - workday 0 =  54.68514067417475\n"
     ]
    }
   ],
   "source": [
    "print(\"2) Hour <7- hour >6 - workday 0 =  54.68514067417475\")"
   ]
  },
  {
   "cell_type": "code",
   "execution_count": 65,
   "metadata": {},
   "outputs": [
    {
     "name": "stdout",
     "output_type": "stream",
     "text": [
      "3) Hour <7- hour <6 - hour <2 - workday 1 = 30.694005806108365\n"
     ]
    }
   ],
   "source": [
    "print(\"3) Hour <7- hour <6 - hour <2 - workday 1 = 30.694005806108365\")"
   ]
  },
  {
   "cell_type": "code",
   "execution_count": 66,
   "metadata": {},
   "outputs": [
    {
     "name": "stdout",
     "output_type": "stream",
     "text": [
      "4) Hour <7- hour <6 - hour <2 - workday 0 = 40.538959119681785\n"
     ]
    }
   ],
   "source": [
    "print(\"4) Hour <7- hour <6 - hour <2 - workday 0 = 40.538959119681785\")"
   ]
  },
  {
   "cell_type": "code",
   "execution_count": 67,
   "metadata": {},
   "outputs": [
    {
     "name": "stdout",
     "output_type": "stream",
     "text": [
      "5) Hour >7- hour >21 - hour >=23 = 51.5813521339401\n"
     ]
    }
   ],
   "source": [
    "print(\"5) Hour >7- hour >21 - hour >=23 = 51.5813521339401\")"
   ]
  },
  {
   "cell_type": "code",
   "execution_count": 68,
   "metadata": {},
   "outputs": [
    {
     "name": "stdout",
     "output_type": "stream",
     "text": [
      "6) Hour >7- hour >21 - hour <23 - hour 22 = 79.15053168788128\n"
     ]
    }
   ],
   "source": [
    "print(\"6) Hour >7- hour >21 - hour <23 - hour 22 = 79.15053168788128\")"
   ]
  },
  {
   "cell_type": "markdown",
   "metadata": {},
   "source": [
    "# Exercise 7.5\n",
    "\n",
    "Train a Decision Tree using scikit-learn. Comment about the performance of the models."
   ]
  },
  {
   "cell_type": "code",
   "execution_count": 69,
   "metadata": {},
   "outputs": [],
   "source": [
    "# define X and y\n",
    "feature_cols = ['hour', 'workingday']\n",
    "X = bikes[feature_cols]\n",
    "y = bikes.total"
   ]
  },
  {
   "cell_type": "code",
   "execution_count": 70,
   "metadata": {},
   "outputs": [
    {
     "data": {
      "text/plain": [
       "DecisionTreeRegressor(criterion='mse', max_depth=None, max_features=None,\n",
       "           max_leaf_nodes=None, min_impurity_decrease=0.0,\n",
       "           min_impurity_split=None, min_samples_leaf=1,\n",
       "           min_samples_split=2, min_weight_fraction_leaf=0.0,\n",
       "           presort=False, random_state=1, splitter='best')"
      ]
     },
     "execution_count": 70,
     "metadata": {},
     "output_type": "execute_result"
    }
   ],
   "source": [
    "from sklearn.tree import DecisionTreeRegressor\n",
    "treereg = DecisionTreeRegressor(random_state=1)\n",
    "treereg"
   ]
  },
  {
   "cell_type": "code",
   "execution_count": 71,
   "metadata": {},
   "outputs": [
    {
     "data": {
      "text/plain": [
       "105.19244713068338"
      ]
     },
     "execution_count": 71,
     "metadata": {},
     "output_type": "execute_result"
    }
   ],
   "source": [
    "import numpy as np\n",
    "from sklearn.model_selection import cross_val_score\n",
    "scores = cross_val_score(treereg, X, y, cv=14, scoring='neg_mean_squared_error')\n",
    "np.mean(np.sqrt(-scores))"
   ]
  },
  {
   "cell_type": "code",
   "execution_count": 72,
   "metadata": {},
   "outputs": [],
   "source": [
    "\n",
    "# list of values to try\n",
    "max_depth_range = range(1, 8)\n",
    "\n",
    "# list to store the average RMSE for each value of max_depth\n",
    "RMSE_scores = []\n",
    "\n",
    "# use LOOCV with each value of max_depth\n",
    "for depth in max_depth_range:\n",
    "    treereg = DecisionTreeRegressor(max_depth=depth, random_state=1)\n",
    "    MSE_scores = cross_val_score(treereg, X, y, cv=14, scoring='neg_mean_squared_error')\n",
    "    RMSE_scores.append(np.mean(np.sqrt(-MSE_scores)))"
   ]
  },
  {
   "cell_type": "code",
   "execution_count": 73,
   "metadata": {},
   "outputs": [
    {
     "data": {
      "text/plain": [
       "Text(0,0.5,'RMSE (lower is better)')"
      ]
     },
     "execution_count": 73,
     "metadata": {},
     "output_type": "execute_result"
    },
    {
     "data": {
      "image/png": "[encoded data removed]",
      "text/plain": [
       "<Figure size 432x288 with 1 Axes>"
      ]
     },
     "metadata": {},
     "output_type": "display_data"
    }
   ],
   "source": [
    "%matplotlib inline\n",
    "import matplotlib.pyplot as plt\n",
    "# plot max_depth (x-axis) versus RMSE (y-axis)\n",
    "plt.plot(max_depth_range, RMSE_scores)\n",
    "plt.xlabel('max_depth')\n",
    "plt.ylabel('RMSE (lower is better)')"
   ]
  },
  {
   "cell_type": "code",
   "execution_count": 74,
   "metadata": {},
   "outputs": [
    {
     "data": {
      "text/plain": [
       "DecisionTreeRegressor(criterion='mse', max_depth=7, max_features=None,\n",
       "           max_leaf_nodes=None, min_impurity_decrease=0.0,\n",
       "           min_impurity_split=None, min_samples_leaf=1,\n",
       "           min_samples_split=2, min_weight_fraction_leaf=0.0,\n",
       "           presort=False, random_state=1, splitter='best')"
      ]
     },
     "execution_count": 74,
     "metadata": {},
     "output_type": "execute_result"
    }
   ],
   "source": [
    "reereg = DecisionTreeRegressor(max_depth=7,random_state=1)\n",
    "treereg.fit(X, y)"
   ]
  },
  {
   "cell_type": "code",
   "execution_count": 75,
   "metadata": {},
   "outputs": [
    {
     "data": {
      "image/svg+xml": [
       "<?xml version=\"1.0\" encoding=\"UTF-8\" standalone=\"no\"?>\r\n",
       "<!DOCTYPE svg PUBLIC \"-//W3C//DTD SVG 1.1//EN\"\r\n",
       " \"http://www.w3.org/Graphics/SVG/1.1/DTD/svg11.dtd\">\r\n",
       "<!-- Generated by graphviz version 2.38.0 (20140413.2041)\r\n",
       " -->\r\n",
       "<!-- Title: Tree Pages: 1 -->\r\n",
       "<svg width=\"3890pt\" height=\"789pt\"\r\n",
       " viewBox=\"0.00 0.00 3890.00 789.00\" xmlns=\"http://www.w3.org/2000/svg\" xmlns:xlink=\"http://www.w3.org/1999/xlink\">\r\n",
       "<g id=\"graph0\" class=\"graph\" transform=\"scale(1 1) rotate(0) translate(4 785)\">\r\n",
       "<title>Tree</title>\r\n",
       "<polygon fill=\"white\" stroke=\"none\" points=\"-4,4 -4,-785 3886,-785 3886,4 -4,4\"/>\r\n",
       "<!-- 0 -->\r\n",
       "<g id=\"node1\" class=\"node\"><title>0</title>\r\n",
       "<path fill=\"#e58139\" fill-opacity=\"0.356863\" stroke=\"black\" d=\"M1868,-781C1868,-781 1762,-781 1762,-781 1756,-781 1750,-775 1750,-769 1750,-769 1750,-725 1750,-725 1750,-719 1756,-713 1762,-713 1762,-713 1868,-713 1868,-713 1874,-713 1880,-719 1880,-725 1880,-725 1880,-769 1880,-769 1880,-775 1874,-781 1868,-781\"/>\r\n",
       "<text text-anchor=\"start\" x=\"1783\" y=\"-765.8\" font-family=\"Helvetica,sans-Serif\" font-size=\"14.00\">hour ≤ 6.5</text>\r\n",
       "<text text-anchor=\"start\" x=\"1758\" y=\"-750.8\" font-family=\"Helvetica,sans-Serif\" font-size=\"14.00\">mse = 32810.299</text>\r\n",
       "<text text-anchor=\"start\" x=\"1759\" y=\"-735.8\" font-family=\"Helvetica,sans-Serif\" font-size=\"14.00\">samples = 10886</text>\r\n",
       "<text text-anchor=\"start\" x=\"1763.5\" y=\"-720.8\" font-family=\"Helvetica,sans-Serif\" font-size=\"14.00\">value = 191.574</text>\r\n",
       "</g>\r\n",
       "<!-- 1 -->\r\n",
       "<g id=\"node2\" class=\"node\"><title>1</title>\r\n",
       "<path fill=\"#e58139\" fill-opacity=\"0.050980\" stroke=\"black\" d=\"M1758,-677C1758,-677 1660,-677 1660,-677 1654,-677 1648,-671 1648,-665 1648,-665 1648,-621 1648,-621 1648,-615 1654,-609 1660,-609 1660,-609 1758,-609 1758,-609 1764,-609 1770,-615 1770,-621 1770,-621 1770,-665 1770,-665 1770,-671 1764,-677 1758,-677\"/>\r\n",
       "<text text-anchor=\"start\" x=\"1677\" y=\"-661.8\" font-family=\"Helvetica,sans-Serif\" font-size=\"14.00\">hour ≤ 5.5</text>\r\n",
       "<text text-anchor=\"start\" x=\"1656\" y=\"-646.8\" font-family=\"Helvetica,sans-Serif\" font-size=\"14.00\">mse = 1565.559</text>\r\n",
       "<text text-anchor=\"start\" x=\"1657.5\" y=\"-631.8\" font-family=\"Helvetica,sans-Serif\" font-size=\"14.00\">samples = 3139</text>\r\n",
       "<text text-anchor=\"start\" x=\"1662\" y=\"-616.8\" font-family=\"Helvetica,sans-Serif\" font-size=\"14.00\">value = 32.582</text>\r\n",
       "</g>\r\n",
       "<!-- 0&#45;&gt;1 -->\r\n",
       "<g id=\"edge1\" class=\"edge\"><title>0&#45;&gt;1</title>\r\n",
       "<path fill=\"none\" stroke=\"black\" d=\"M1780.58,-712.884C1771.14,-703.798 1760.8,-693.845 1750.98,-684.4\"/>\r\n",
       "<polygon fill=\"black\" stroke=\"black\" points=\"1753.24,-681.711 1743.61,-677.299 1748.38,-686.755 1753.24,-681.711\"/>\r\n",
       "<text text-anchor=\"middle\" x=\"1744.09\" y=\"-698.595\" font-family=\"Helvetica,sans-Serif\" font-size=\"14.00\">True</text>\r\n",
       "</g>\r\n",
       "<!-- 28 -->\r\n",
       "<g id=\"node29\" class=\"node\"><title>28</title>\r\n",
       "<path fill=\"#e58139\" fill-opacity=\"0.478431\" stroke=\"black\" d=\"M1974,-677C1974,-677 1868,-677 1868,-677 1862,-677 1856,-671 1856,-665 1856,-665 1856,-621 1856,-621 1856,-615 1862,-609 1868,-609 1868,-609 1974,-609 1974,-609 1980,-609 1986,-615 1986,-621 1986,-621 1986,-665 1986,-665 1986,-671 1980,-677 1974,-677\"/>\r\n",
       "<text text-anchor=\"start\" x=\"1885\" y=\"-661.8\" font-family=\"Helvetica,sans-Serif\" font-size=\"14.00\">hour ≤ 20.5</text>\r\n",
       "<text text-anchor=\"start\" x=\"1864\" y=\"-646.8\" font-family=\"Helvetica,sans-Serif\" font-size=\"14.00\">mse = 31077.582</text>\r\n",
       "<text text-anchor=\"start\" x=\"1869.5\" y=\"-631.8\" font-family=\"Helvetica,sans-Serif\" font-size=\"14.00\">samples = 7747</text>\r\n",
       "<text text-anchor=\"start\" x=\"1869.5\" y=\"-616.8\" font-family=\"Helvetica,sans-Serif\" font-size=\"14.00\">value = 255.996</text>\r\n",
       "</g>\r\n",
       "<!-- 0&#45;&gt;28 -->\r\n",
       "<g id=\"edge28\" class=\"edge\"><title>0&#45;&gt;28</title>\r\n",
       "<path fill=\"none\" stroke=\"black\" d=\"M1849.42,-712.884C1858.86,-703.798 1869.2,-693.845 1879.02,-684.4\"/>\r\n",
       "<polygon fill=\"black\" stroke=\"black\" points=\"1881.62,-686.755 1886.39,-677.299 1876.76,-681.711 1881.62,-686.755\"/>\r\n",
       "<text text-anchor=\"middle\" x=\"1885.91\" y=\"-698.595\" font-family=\"Helvetica,sans-Serif\" font-size=\"14.00\">False</text>\r\n",
       "</g>\r\n",
       "<!-- 2 -->\r\n",
       "<g id=\"node3\" class=\"node\"><title>2</title>\r\n",
       "<path fill=\"#e58139\" fill-opacity=\"0.039216\" stroke=\"black\" d=\"M840.5,-573C840.5,-573 745.5,-573 745.5,-573 739.5,-573 733.5,-567 733.5,-561 733.5,-561 733.5,-517 733.5,-517 733.5,-511 739.5,-505 745.5,-505 745.5,-505 840.5,-505 840.5,-505 846.5,-505 852.5,-511 852.5,-517 852.5,-517 852.5,-561 852.5,-561 852.5,-567 846.5,-573 840.5,-573\"/>\r\n",
       "<text text-anchor=\"start\" x=\"761\" y=\"-557.8\" font-family=\"Helvetica,sans-Serif\" font-size=\"14.00\">hour ≤ 1.5</text>\r\n",
       "<text text-anchor=\"start\" x=\"748.5\" y=\"-542.8\" font-family=\"Helvetica,sans-Serif\" font-size=\"14.00\">mse = 945.78</text>\r\n",
       "<text text-anchor=\"start\" x=\"741.5\" y=\"-527.8\" font-family=\"Helvetica,sans-Serif\" font-size=\"14.00\">samples = 2684</text>\r\n",
       "<text text-anchor=\"start\" x=\"746\" y=\"-512.8\" font-family=\"Helvetica,sans-Serif\" font-size=\"14.00\">value = 25.178</text>\r\n",
       "</g>\r\n",
       "<!-- 1&#45;&gt;2 -->\r\n",
       "<g id=\"edge2\" class=\"edge\"><title>1&#45;&gt;2</title>\r\n",
       "<path fill=\"none\" stroke=\"black\" d=\"M1647.83,-635.189C1483.95,-616.94 1035.7,-567.026 862.547,-547.744\"/>\r\n",
       "<polygon fill=\"black\" stroke=\"black\" points=\"862.857,-544.257 852.531,-546.629 862.082,-551.214 862.857,-544.257\"/>\r\n",
       "</g>\r\n",
       "<!-- 25 -->\r\n",
       "<g id=\"node26\" class=\"node\"><title>25</title>\r\n",
       "<path fill=\"#e58139\" fill-opacity=\"0.137255\" stroke=\"black\" d=\"M1758,-573C1758,-573 1660,-573 1660,-573 1654,-573 1648,-567 1648,-561 1648,-561 1648,-517 1648,-517 1648,-511 1654,-505 1660,-505 1660,-505 1758,-505 1758,-505 1764,-505 1770,-511 1770,-517 1770,-517 1770,-561 1770,-561 1770,-567 1764,-573 1758,-573\"/>\r\n",
       "<text text-anchor=\"start\" x=\"1656\" y=\"-557.8\" font-family=\"Helvetica,sans-Serif\" font-size=\"14.00\">workingday ≤ 0.5</text>\r\n",
       "<text text-anchor=\"start\" x=\"1656\" y=\"-542.8\" font-family=\"Helvetica,sans-Serif\" font-size=\"14.00\">mse = 2990.465</text>\r\n",
       "<text text-anchor=\"start\" x=\"1661.5\" y=\"-527.8\" font-family=\"Helvetica,sans-Serif\" font-size=\"14.00\">samples = 455</text>\r\n",
       "<text text-anchor=\"start\" x=\"1662\" y=\"-512.8\" font-family=\"Helvetica,sans-Serif\" font-size=\"14.00\">value = 76.259</text>\r\n",
       "</g>\r\n",
       "<!-- 1&#45;&gt;25 -->\r\n",
       "<g id=\"edge25\" class=\"edge\"><title>1&#45;&gt;25</title>\r\n",
       "<path fill=\"none\" stroke=\"black\" d=\"M1709,-608.884C1709,-600.778 1709,-591.982 1709,-583.472\"/>\r\n",
       "<polygon fill=\"black\" stroke=\"black\" points=\"1712.5,-583.299 1709,-573.299 1705.5,-583.299 1712.5,-583.299\"/>\r\n",
       "</g>\r\n",
       "<!-- 3 -->\r\n",
       "<g id=\"node4\" class=\"node\"><title>3</title>\r\n",
       "<path fill=\"#e58139\" fill-opacity=\"0.074510\" stroke=\"black\" d=\"M451,-469C451,-469 353,-469 353,-469 347,-469 341,-463 341,-457 341,-457 341,-413 341,-413 341,-407 347,-401 353,-401 353,-401 451,-401 451,-401 457,-401 463,-407 463,-413 463,-413 463,-457 463,-457 463,-463 457,-469 451,-469\"/>\r\n",
       "<text text-anchor=\"start\" x=\"349\" y=\"-453.8\" font-family=\"Helvetica,sans-Serif\" font-size=\"14.00\">workingday ≤ 0.5</text>\r\n",
       "<text text-anchor=\"start\" x=\"349\" y=\"-438.8\" font-family=\"Helvetica,sans-Serif\" font-size=\"14.00\">mse = 1643.407</text>\r\n",
       "<text text-anchor=\"start\" x=\"354.5\" y=\"-423.8\" font-family=\"Helvetica,sans-Serif\" font-size=\"14.00\">samples = 909</text>\r\n",
       "<text text-anchor=\"start\" x=\"359\" y=\"-408.8\" font-family=\"Helvetica,sans-Serif\" font-size=\"14.00\">value = 44.51</text>\r\n",
       "</g>\r\n",
       "<!-- 2&#45;&gt;3 -->\r\n",
       "<g id=\"edge3\" class=\"edge\"><title>2&#45;&gt;3</title>\r\n",
       "<path fill=\"none\" stroke=\"black\" d=\"M733.19,-522.397C663.17,-504.131 547.328,-473.912 472.864,-454.486\"/>\r\n",
       "<polygon fill=\"black\" stroke=\"black\" points=\"473.652,-451.075 463.092,-451.937 471.885,-457.848 473.652,-451.075\"/>\r\n",
       "</g>\r\n",
       "<!-- 10 -->\r\n",
       "<g id=\"node11\" class=\"node\"><title>10</title>\r\n",
       "<path fill=\"#e58139\" fill-opacity=\"0.019608\" stroke=\"black\" d=\"M842,-469C842,-469 744,-469 744,-469 738,-469 732,-463 732,-457 732,-457 732,-413 732,-413 732,-407 738,-401 744,-401 744,-401 842,-401 842,-401 848,-401 854,-407 854,-413 854,-413 854,-457 854,-457 854,-463 848,-469 842,-469\"/>\r\n",
       "<text text-anchor=\"start\" x=\"740\" y=\"-453.8\" font-family=\"Helvetica,sans-Serif\" font-size=\"14.00\">workingday ≤ 0.5</text>\r\n",
       "<text text-anchor=\"start\" x=\"744.5\" y=\"-438.8\" font-family=\"Helvetica,sans-Serif\" font-size=\"14.00\">mse = 299.092</text>\r\n",
       "<text text-anchor=\"start\" x=\"741.5\" y=\"-423.8\" font-family=\"Helvetica,sans-Serif\" font-size=\"14.00\">samples = 1775</text>\r\n",
       "<text text-anchor=\"start\" x=\"746\" y=\"-408.8\" font-family=\"Helvetica,sans-Serif\" font-size=\"14.00\">value = 15.277</text>\r\n",
       "</g>\r\n",
       "<!-- 2&#45;&gt;10 -->\r\n",
       "<g id=\"edge10\" class=\"edge\"><title>2&#45;&gt;10</title>\r\n",
       "<path fill=\"none\" stroke=\"black\" d=\"M793,-504.884C793,-496.778 793,-487.982 793,-479.472\"/>\r\n",
       "<polygon fill=\"black\" stroke=\"black\" points=\"796.5,-479.299 793,-469.299 789.5,-479.299 796.5,-479.299\"/>\r\n",
       "</g>\r\n",
       "<!-- 4 -->\r\n",
       "<g id=\"node5\" class=\"node\"><title>4</title>\r\n",
       "<path fill=\"#e58139\" fill-opacity=\"0.149020\" stroke=\"black\" d=\"M250,-365C250,-365 152,-365 152,-365 146,-365 140,-359 140,-353 140,-353 140,-309 140,-309 140,-303 146,-297 152,-297 152,-297 250,-297 250,-297 256,-297 262,-303 262,-309 262,-309 262,-353 262,-353 262,-359 256,-365 250,-365\"/>\r\n",
       "<text text-anchor=\"start\" x=\"169\" y=\"-349.8\" font-family=\"Helvetica,sans-Serif\" font-size=\"14.00\">hour ≤ 0.5</text>\r\n",
       "<text text-anchor=\"start\" x=\"148\" y=\"-334.8\" font-family=\"Helvetica,sans-Serif\" font-size=\"14.00\">mse = 1822.063</text>\r\n",
       "<text text-anchor=\"start\" x=\"153.5\" y=\"-319.8\" font-family=\"Helvetica,sans-Serif\" font-size=\"14.00\">samples = 290</text>\r\n",
       "<text text-anchor=\"start\" x=\"162\" y=\"-304.8\" font-family=\"Helvetica,sans-Serif\" font-size=\"14.00\">value = 83.2</text>\r\n",
       "</g>\r\n",
       "<!-- 3&#45;&gt;4 -->\r\n",
       "<g id=\"edge4\" class=\"edge\"><title>3&#45;&gt;4</title>\r\n",
       "<path fill=\"none\" stroke=\"black\" d=\"M340.875,-402.981C318.851,-391.805 293.83,-379.108 271.099,-367.573\"/>\r\n",
       "<polygon fill=\"black\" stroke=\"black\" points=\"272.682,-364.451 262.181,-363.047 269.514,-370.693 272.682,-364.451\"/>\r\n",
       "</g>\r\n",
       "<!-- 7 -->\r\n",
       "<g id=\"node8\" class=\"node\"><title>7</title>\r\n",
       "<path fill=\"#e58139\" fill-opacity=\"0.039216\" stroke=\"black\" d=\"M446.5,-365C446.5,-365 357.5,-365 357.5,-365 351.5,-365 345.5,-359 345.5,-353 345.5,-353 345.5,-309 345.5,-309 345.5,-303 351.5,-297 357.5,-297 357.5,-297 446.5,-297 446.5,-297 452.5,-297 458.5,-303 458.5,-309 458.5,-309 458.5,-353 458.5,-353 458.5,-359 452.5,-365 446.5,-365\"/>\r\n",
       "<text text-anchor=\"start\" x=\"370\" y=\"-349.8\" font-family=\"Helvetica,sans-Serif\" font-size=\"14.00\">hour ≤ 0.5</text>\r\n",
       "<text text-anchor=\"start\" x=\"353.5\" y=\"-334.8\" font-family=\"Helvetica,sans-Serif\" font-size=\"14.00\">mse = 529.872</text>\r\n",
       "<text text-anchor=\"start\" x=\"354.5\" y=\"-319.8\" font-family=\"Helvetica,sans-Serif\" font-size=\"14.00\">samples = 619</text>\r\n",
       "<text text-anchor=\"start\" x=\"355\" y=\"-304.8\" font-family=\"Helvetica,sans-Serif\" font-size=\"14.00\">value = 26.384</text>\r\n",
       "</g>\r\n",
       "<!-- 3&#45;&gt;7 -->\r\n",
       "<g id=\"edge7\" class=\"edge\"><title>3&#45;&gt;7</title>\r\n",
       "<path fill=\"none\" stroke=\"black\" d=\"M402,-400.884C402,-392.778 402,-383.982 402,-375.472\"/>\r\n",
       "<polygon fill=\"black\" stroke=\"black\" points=\"405.5,-375.299 402,-365.299 398.5,-375.299 405.5,-375.299\"/>\r\n",
       "</g>\r\n",
       "<!-- 5 -->\r\n",
       "<g id=\"node6\" class=\"node\"><title>5</title>\r\n",
       "<path fill=\"#e58139\" fill-opacity=\"0.172549\" stroke=\"black\" d=\"M110,-253.5C110,-253.5 12,-253.5 12,-253.5 6,-253.5 7.10543e-015,-247.5 7.10543e-015,-241.5 7.10543e-015,-241.5 7.10543e-015,-212.5 7.10543e-015,-212.5 7.10543e-015,-206.5 6,-200.5 12,-200.5 12,-200.5 110,-200.5 110,-200.5 116,-200.5 122,-206.5 122,-212.5 122,-212.5 122,-241.5 122,-241.5 122,-247.5 116,-253.5 110,-253.5\"/>\r\n",
       "<text text-anchor=\"start\" x=\"8\" y=\"-238.3\" font-family=\"Helvetica,sans-Serif\" font-size=\"14.00\">mse = 2208.057</text>\r\n",
       "<text text-anchor=\"start\" x=\"13.5\" y=\"-223.3\" font-family=\"Helvetica,sans-Serif\" font-size=\"14.00\">samples = 145</text>\r\n",
       "<text text-anchor=\"start\" x=\"18\" y=\"-208.3\" font-family=\"Helvetica,sans-Serif\" font-size=\"14.00\">value = 94.49</text>\r\n",
       "</g>\r\n",
       "<!-- 4&#45;&gt;5 -->\r\n",
       "<g id=\"edge5\" class=\"edge\"><title>4&#45;&gt;5</title>\r\n",
       "<path fill=\"none\" stroke=\"black\" d=\"M155.546,-296.884C139.092,-284.896 120.567,-271.399 104.303,-259.549\"/>\r\n",
       "<polygon fill=\"black\" stroke=\"black\" points=\"106.171,-256.58 96.0274,-253.52 102.049,-262.237 106.171,-256.58\"/>\r\n",
       "</g>\r\n",
       "<!-- 6 -->\r\n",
       "<g id=\"node7\" class=\"node\"><title>6</title>\r\n",
       "<path fill=\"#e58139\" fill-opacity=\"0.129412\" stroke=\"black\" d=\"M250,-253.5C250,-253.5 152,-253.5 152,-253.5 146,-253.5 140,-247.5 140,-241.5 140,-241.5 140,-212.5 140,-212.5 140,-206.5 146,-200.5 152,-200.5 152,-200.5 250,-200.5 250,-200.5 256,-200.5 262,-206.5 262,-212.5 262,-212.5 262,-241.5 262,-241.5 262,-247.5 256,-253.5 250,-253.5\"/>\r\n",
       "<text text-anchor=\"start\" x=\"148\" y=\"-238.3\" font-family=\"Helvetica,sans-Serif\" font-size=\"14.00\">mse = 1181.157</text>\r\n",
       "<text text-anchor=\"start\" x=\"153.5\" y=\"-223.3\" font-family=\"Helvetica,sans-Serif\" font-size=\"14.00\">samples = 145</text>\r\n",
       "<text text-anchor=\"start\" x=\"158\" y=\"-208.3\" font-family=\"Helvetica,sans-Serif\" font-size=\"14.00\">value = 71.91</text>\r\n",
       "</g>\r\n",
       "<!-- 4&#45;&gt;6 -->\r\n",
       "<g id=\"edge6\" class=\"edge\"><title>4&#45;&gt;6</title>\r\n",
       "<path fill=\"none\" stroke=\"black\" d=\"M201,-296.884C201,-286.326 201,-274.597 201,-263.854\"/>\r\n",
       "<polygon fill=\"black\" stroke=\"black\" points=\"204.5,-263.52 201,-253.52 197.5,-263.52 204.5,-263.52\"/>\r\n",
       "</g>\r\n",
       "<!-- 8 -->\r\n",
       "<g id=\"node9\" class=\"node\"><title>8</title>\r\n",
       "<path fill=\"#e58139\" fill-opacity=\"0.058824\" stroke=\"black\" d=\"M381.5,-253.5C381.5,-253.5 292.5,-253.5 292.5,-253.5 286.5,-253.5 280.5,-247.5 280.5,-241.5 280.5,-241.5 280.5,-212.5 280.5,-212.5 280.5,-206.5 286.5,-200.5 292.5,-200.5 292.5,-200.5 381.5,-200.5 381.5,-200.5 387.5,-200.5 393.5,-206.5 393.5,-212.5 393.5,-212.5 393.5,-241.5 393.5,-241.5 393.5,-247.5 387.5,-253.5 381.5,-253.5\"/>\r\n",
       "<text text-anchor=\"start\" x=\"288.5\" y=\"-238.3\" font-family=\"Helvetica,sans-Serif\" font-size=\"14.00\">mse = 690.648</text>\r\n",
       "<text text-anchor=\"start\" x=\"289.5\" y=\"-223.3\" font-family=\"Helvetica,sans-Serif\" font-size=\"14.00\">samples = 310</text>\r\n",
       "<text text-anchor=\"start\" x=\"290\" y=\"-208.3\" font-family=\"Helvetica,sans-Serif\" font-size=\"14.00\">value = 36.732</text>\r\n",
       "</g>\r\n",
       "<!-- 7&#45;&gt;8 -->\r\n",
       "<g id=\"edge8\" class=\"edge\"><title>7&#45;&gt;8</title>\r\n",
       "<path fill=\"none\" stroke=\"black\" d=\"M380.896,-296.884C373.818,-285.776 365.913,-273.372 358.784,-262.184\"/>\r\n",
       "<polygon fill=\"black\" stroke=\"black\" points=\"361.588,-260.072 353.263,-253.52 355.685,-263.834 361.588,-260.072\"/>\r\n",
       "</g>\r\n",
       "<!-- 9 -->\r\n",
       "<g id=\"node10\" class=\"node\"><title>9</title>\r\n",
       "<path fill=\"#e58139\" fill-opacity=\"0.019608\" stroke=\"black\" d=\"M512.5,-253.5C512.5,-253.5 423.5,-253.5 423.5,-253.5 417.5,-253.5 411.5,-247.5 411.5,-241.5 411.5,-241.5 411.5,-212.5 411.5,-212.5 411.5,-206.5 417.5,-200.5 423.5,-200.5 423.5,-200.5 512.5,-200.5 512.5,-200.5 518.5,-200.5 524.5,-206.5 524.5,-212.5 524.5,-212.5 524.5,-241.5 524.5,-241.5 524.5,-247.5 518.5,-253.5 512.5,-253.5\"/>\r\n",
       "<text text-anchor=\"start\" x=\"419.5\" y=\"-238.3\" font-family=\"Helvetica,sans-Serif\" font-size=\"14.00\">mse = 153.382</text>\r\n",
       "<text text-anchor=\"start\" x=\"420.5\" y=\"-223.3\" font-family=\"Helvetica,sans-Serif\" font-size=\"14.00\">samples = 309</text>\r\n",
       "<text text-anchor=\"start\" x=\"421\" y=\"-208.3\" font-family=\"Helvetica,sans-Serif\" font-size=\"14.00\">value = 16.003</text>\r\n",
       "</g>\r\n",
       "<!-- 7&#45;&gt;9 -->\r\n",
       "<g id=\"edge9\" class=\"edge\"><title>7&#45;&gt;9</title>\r\n",
       "<path fill=\"none\" stroke=\"black\" d=\"M423.428,-296.884C430.616,-285.776 438.642,-273.372 445.881,-262.184\"/>\r\n",
       "<polygon fill=\"black\" stroke=\"black\" points=\"448.993,-263.817 451.487,-253.52 443.116,-260.014 448.993,-263.817\"/>\r\n",
       "</g>\r\n",
       "<!-- 11 -->\r\n",
       "<g id=\"node12\" class=\"node\"><title>11</title>\r\n",
       "<path fill=\"#e58139\" fill-opacity=\"0.035294\" stroke=\"black\" d=\"M770.5,-365C770.5,-365 681.5,-365 681.5,-365 675.5,-365 669.5,-359 669.5,-353 669.5,-353 669.5,-309 669.5,-309 669.5,-303 675.5,-297 681.5,-297 681.5,-297 770.5,-297 770.5,-297 776.5,-297 782.5,-303 782.5,-309 782.5,-309 782.5,-353 782.5,-353 782.5,-359 776.5,-365 770.5,-365\"/>\r\n",
       "<text text-anchor=\"start\" x=\"694\" y=\"-349.8\" font-family=\"Helvetica,sans-Serif\" font-size=\"14.00\">hour ≤ 2.5</text>\r\n",
       "<text text-anchor=\"start\" x=\"677.5\" y=\"-334.8\" font-family=\"Helvetica,sans-Serif\" font-size=\"14.00\">mse = 556.467</text>\r\n",
       "<text text-anchor=\"start\" x=\"678.5\" y=\"-319.8\" font-family=\"Helvetica,sans-Serif\" font-size=\"14.00\">samples = 574</text>\r\n",
       "<text text-anchor=\"start\" x=\"679\" y=\"-304.8\" font-family=\"Helvetica,sans-Serif\" font-size=\"14.00\">value = 24.274</text>\r\n",
       "</g>\r\n",
       "<!-- 10&#45;&gt;11 -->\r\n",
       "<g id=\"edge11\" class=\"edge\"><title>10&#45;&gt;11</title>\r\n",
       "<path fill=\"none\" stroke=\"black\" d=\"M771.247,-400.884C765.572,-392.243 759.381,-382.819 753.452,-373.793\"/>\r\n",
       "<polygon fill=\"black\" stroke=\"black\" points=\"756.289,-371.736 747.873,-365.299 750.438,-375.579 756.289,-371.736\"/>\r\n",
       "</g>\r\n",
       "<!-- 18 -->\r\n",
       "<g id=\"node19\" class=\"node\"><title>18</title>\r\n",
       "<path fill=\"#e58139\" fill-opacity=\"0.011765\" stroke=\"black\" d=\"M907.5,-365C907.5,-365 812.5,-365 812.5,-365 806.5,-365 800.5,-359 800.5,-353 800.5,-353 800.5,-309 800.5,-309 800.5,-303 806.5,-297 812.5,-297 812.5,-297 907.5,-297 907.5,-297 913.5,-297 919.5,-303 919.5,-309 919.5,-309 919.5,-353 919.5,-353 919.5,-359 913.5,-365 907.5,-365\"/>\r\n",
       "<text text-anchor=\"start\" x=\"828\" y=\"-349.8\" font-family=\"Helvetica,sans-Serif\" font-size=\"14.00\">hour ≤ 4.5</text>\r\n",
       "<text text-anchor=\"start\" x=\"811.5\" y=\"-334.8\" font-family=\"Helvetica,sans-Serif\" font-size=\"14.00\">mse = 118.915</text>\r\n",
       "<text text-anchor=\"start\" x=\"808.5\" y=\"-319.8\" font-family=\"Helvetica,sans-Serif\" font-size=\"14.00\">samples = 1201</text>\r\n",
       "<text text-anchor=\"start\" x=\"813\" y=\"-304.8\" font-family=\"Helvetica,sans-Serif\" font-size=\"14.00\">value = 10.978</text>\r\n",
       "</g>\r\n",
       "<!-- 10&#45;&gt;18 -->\r\n",
       "<g id=\"edge18\" class=\"edge\"><title>10&#45;&gt;18</title>\r\n",
       "<path fill=\"none\" stroke=\"black\" d=\"M814.753,-400.884C820.428,-392.243 826.619,-382.819 832.548,-373.793\"/>\r\n",
       "<polygon fill=\"black\" stroke=\"black\" points=\"835.562,-375.579 838.127,-365.299 829.711,-371.736 835.562,-375.579\"/>\r\n",
       "</g>\r\n",
       "<!-- 12 -->\r\n",
       "<g id=\"node13\" class=\"node\"><title>12</title>\r\n",
       "<path fill=\"#e58139\" fill-opacity=\"0.094118\" stroke=\"black\" d=\"M641.5,-253.5C641.5,-253.5 554.5,-253.5 554.5,-253.5 548.5,-253.5 542.5,-247.5 542.5,-241.5 542.5,-241.5 542.5,-212.5 542.5,-212.5 542.5,-206.5 548.5,-200.5 554.5,-200.5 554.5,-200.5 641.5,-200.5 641.5,-200.5 647.5,-200.5 653.5,-206.5 653.5,-212.5 653.5,-212.5 653.5,-241.5 653.5,-241.5 653.5,-247.5 647.5,-253.5 641.5,-253.5\"/>\r\n",
       "<text text-anchor=\"start\" x=\"557.5\" y=\"-238.3\" font-family=\"Helvetica,sans-Serif\" font-size=\"14.00\">mse = 630.3</text>\r\n",
       "<text text-anchor=\"start\" x=\"550.5\" y=\"-223.3\" font-family=\"Helvetica,sans-Serif\" font-size=\"14.00\">samples = 143</text>\r\n",
       "<text text-anchor=\"start\" x=\"551\" y=\"-208.3\" font-family=\"Helvetica,sans-Serif\" font-size=\"14.00\">value = 53.748</text>\r\n",
       "</g>\r\n",
       "<!-- 11&#45;&gt;12 -->\r\n",
       "<g id=\"edge12\" class=\"edge\"><title>11&#45;&gt;12</title>\r\n",
       "<path fill=\"none\" stroke=\"black\" d=\"M684.442,-296.884C669.537,-285.006 652.772,-271.646 638.001,-259.876\"/>\r\n",
       "<polygon fill=\"black\" stroke=\"black\" points=\"640.027,-257.015 630.025,-253.52 635.664,-262.489 640.027,-257.015\"/>\r\n",
       "</g>\r\n",
       "<!-- 13 -->\r\n",
       "<g id=\"node14\" class=\"node\"><title>13</title>\r\n",
       "<path fill=\"#e58139\" fill-opacity=\"0.019608\" stroke=\"black\" d=\"M772.5,-261C772.5,-261 683.5,-261 683.5,-261 677.5,-261 671.5,-255 671.5,-249 671.5,-249 671.5,-205 671.5,-205 671.5,-199 677.5,-193 683.5,-193 683.5,-193 772.5,-193 772.5,-193 778.5,-193 784.5,-199 784.5,-205 784.5,-205 784.5,-249 784.5,-249 784.5,-255 778.5,-261 772.5,-261\"/>\r\n",
       "<text text-anchor=\"start\" x=\"696\" y=\"-245.8\" font-family=\"Helvetica,sans-Serif\" font-size=\"14.00\">hour ≤ 3.5</text>\r\n",
       "<text text-anchor=\"start\" x=\"679.5\" y=\"-230.8\" font-family=\"Helvetica,sans-Serif\" font-size=\"14.00\">mse = 148.092</text>\r\n",
       "<text text-anchor=\"start\" x=\"680.5\" y=\"-215.8\" font-family=\"Helvetica,sans-Serif\" font-size=\"14.00\">samples = 431</text>\r\n",
       "<text text-anchor=\"start\" x=\"681\" y=\"-200.8\" font-family=\"Helvetica,sans-Serif\" font-size=\"14.00\">value = 14.494</text>\r\n",
       "</g>\r\n",
       "<!-- 11&#45;&gt;13 -->\r\n",
       "<g id=\"edge13\" class=\"edge\"><title>11&#45;&gt;13</title>\r\n",
       "<path fill=\"none\" stroke=\"black\" d=\"M726.649,-296.884C726.808,-288.778 726.981,-279.982 727.148,-271.472\"/>\r\n",
       "<polygon fill=\"black\" stroke=\"black\" points=\"730.65,-271.366 727.347,-261.299 723.652,-271.229 730.65,-271.366\"/>\r\n",
       "</g>\r\n",
       "<!-- 14 -->\r\n",
       "<g id=\"node15\" class=\"node\"><title>14</title>\r\n",
       "<path fill=\"#e58139\" fill-opacity=\"0.039216\" stroke=\"black\" d=\"M642.5,-149.5C642.5,-149.5 553.5,-149.5 553.5,-149.5 547.5,-149.5 541.5,-143.5 541.5,-137.5 541.5,-137.5 541.5,-108.5 541.5,-108.5 541.5,-102.5 547.5,-96.5 553.5,-96.5 553.5,-96.5 642.5,-96.5 642.5,-96.5 648.5,-96.5 654.5,-102.5 654.5,-108.5 654.5,-108.5 654.5,-137.5 654.5,-137.5 654.5,-143.5 648.5,-149.5 642.5,-149.5\"/>\r\n",
       "<text text-anchor=\"start\" x=\"549.5\" y=\"-134.3\" font-family=\"Helvetica,sans-Serif\" font-size=\"14.00\">mse = 178.485</text>\r\n",
       "<text text-anchor=\"start\" x=\"550.5\" y=\"-119.3\" font-family=\"Helvetica,sans-Serif\" font-size=\"14.00\">samples = 144</text>\r\n",
       "<text text-anchor=\"start\" x=\"551\" y=\"-104.3\" font-family=\"Helvetica,sans-Serif\" font-size=\"14.00\">value = 25.535</text>\r\n",
       "</g>\r\n",
       "<!-- 13&#45;&gt;14 -->\r\n",
       "<g id=\"edge14\" class=\"edge\"><title>13&#45;&gt;14</title>\r\n",
       "<path fill=\"none\" stroke=\"black\" d=\"M685.793,-192.884C670.654,-181.006 653.628,-167.646 638.626,-155.876\"/>\r\n",
       "<polygon fill=\"black\" stroke=\"black\" points=\"640.553,-152.939 630.525,-149.52 636.232,-158.446 640.553,-152.939\"/>\r\n",
       "</g>\r\n",
       "<!-- 15 -->\r\n",
       "<g id=\"node16\" class=\"node\"><title>15</title>\r\n",
       "<path fill=\"#e58139\" fill-opacity=\"0.007843\" stroke=\"black\" d=\"M771.5,-157C771.5,-157 684.5,-157 684.5,-157 678.5,-157 672.5,-151 672.5,-145 672.5,-145 672.5,-101 672.5,-101 672.5,-95 678.5,-89 684.5,-89 684.5,-89 771.5,-89 771.5,-89 777.5,-89 783.5,-95 783.5,-101 783.5,-101 783.5,-145 783.5,-145 783.5,-151 777.5,-157 771.5,-157\"/>\r\n",
       "<text text-anchor=\"start\" x=\"696\" y=\"-141.8\" font-family=\"Helvetica,sans-Serif\" font-size=\"14.00\">hour ≤ 4.5</text>\r\n",
       "<text text-anchor=\"start\" x=\"683.5\" y=\"-126.8\" font-family=\"Helvetica,sans-Serif\" font-size=\"14.00\">mse = 40.998</text>\r\n",
       "<text text-anchor=\"start\" x=\"680.5\" y=\"-111.8\" font-family=\"Helvetica,sans-Serif\" font-size=\"14.00\">samples = 287</text>\r\n",
       "<text text-anchor=\"start\" x=\"685\" y=\"-96.8\" font-family=\"Helvetica,sans-Serif\" font-size=\"14.00\">value = 8.955</text>\r\n",
       "</g>\r\n",
       "<!-- 13&#45;&gt;15 -->\r\n",
       "<g id=\"edge15\" class=\"edge\"><title>13&#45;&gt;15</title>\r\n",
       "<path fill=\"none\" stroke=\"black\" d=\"M728,-192.884C728,-184.778 728,-175.982 728,-167.472\"/>\r\n",
       "<polygon fill=\"black\" stroke=\"black\" points=\"731.5,-167.299 728,-157.299 724.5,-167.299 731.5,-167.299\"/>\r\n",
       "</g>\r\n",
       "<!-- 16 -->\r\n",
       "<g id=\"node17\" class=\"node\"><title>16</title>\r\n",
       "<path fill=\"#e58139\" fill-opacity=\"0.007843\" stroke=\"black\" d=\"M707.5,-53C707.5,-53 620.5,-53 620.5,-53 614.5,-53 608.5,-47 608.5,-41 608.5,-41 608.5,-12 608.5,-12 608.5,-6 614.5,-0 620.5,-0 620.5,-0 707.5,-0 707.5,-0 713.5,-0 719.5,-6 719.5,-12 719.5,-12 719.5,-41 719.5,-41 719.5,-47 713.5,-53 707.5,-53\"/>\r\n",
       "<text text-anchor=\"start\" x=\"619.5\" y=\"-37.8\" font-family=\"Helvetica,sans-Serif\" font-size=\"14.00\">mse = 25.724</text>\r\n",
       "<text text-anchor=\"start\" x=\"616.5\" y=\"-22.8\" font-family=\"Helvetica,sans-Serif\" font-size=\"14.00\">samples = 145</text>\r\n",
       "<text text-anchor=\"start\" x=\"621\" y=\"-7.8\" font-family=\"Helvetica,sans-Serif\" font-size=\"14.00\">value = 8.545</text>\r\n",
       "</g>\r\n",
       "<!-- 15&#45;&gt;16 -->\r\n",
       "<g id=\"edge16\" class=\"edge\"><title>15&#45;&gt;16</title>\r\n",
       "<path fill=\"none\" stroke=\"black\" d=\"M705.616,-88.9485C699.606,-80.0749 693.098,-70.4648 687.053,-61.5388\"/>\r\n",
       "<polygon fill=\"black\" stroke=\"black\" points=\"689.936,-59.5539 681.43,-53.2367 684.14,-63.4792 689.936,-59.5539\"/>\r\n",
       "</g>\r\n",
       "<!-- 17 -->\r\n",
       "<g id=\"node18\" class=\"node\"><title>17</title>\r\n",
       "<path fill=\"#e58139\" fill-opacity=\"0.007843\" stroke=\"black\" d=\"M836.5,-53C836.5,-53 749.5,-53 749.5,-53 743.5,-53 737.5,-47 737.5,-41 737.5,-41 737.5,-12 737.5,-12 737.5,-6 743.5,-0 749.5,-0 749.5,-0 836.5,-0 836.5,-0 842.5,-0 848.5,-6 848.5,-12 848.5,-12 848.5,-41 848.5,-41 848.5,-47 842.5,-53 836.5,-53\"/>\r\n",
       "<text text-anchor=\"start\" x=\"748.5\" y=\"-37.8\" font-family=\"Helvetica,sans-Serif\" font-size=\"14.00\">mse = 56.248</text>\r\n",
       "<text text-anchor=\"start\" x=\"745.5\" y=\"-22.8\" font-family=\"Helvetica,sans-Serif\" font-size=\"14.00\">samples = 142</text>\r\n",
       "<text text-anchor=\"start\" x=\"750\" y=\"-7.8\" font-family=\"Helvetica,sans-Serif\" font-size=\"14.00\">value = 9.373</text>\r\n",
       "</g>\r\n",
       "<!-- 15&#45;&gt;17 -->\r\n",
       "<g id=\"edge17\" class=\"edge\"><title>15&#45;&gt;17</title>\r\n",
       "<path fill=\"none\" stroke=\"black\" d=\"M750.734,-88.9485C756.837,-80.0749 763.447,-70.4648 769.587,-61.5388\"/>\r\n",
       "<polygon fill=\"black\" stroke=\"black\" points=\"772.514,-63.4594 775.298,-53.2367 766.747,-59.4924 772.514,-63.4594\"/>\r\n",
       "</g>\r\n",
       "<!-- 19 -->\r\n",
       "<g id=\"node20\" class=\"node\"><title>19</title>\r\n",
       "<path fill=\"#e58139\" fill-opacity=\"0.003922\" stroke=\"black\" d=\"M902.5,-261C902.5,-261 815.5,-261 815.5,-261 809.5,-261 803.5,-255 803.5,-249 803.5,-249 803.5,-205 803.5,-205 803.5,-199 809.5,-193 815.5,-193 815.5,-193 902.5,-193 902.5,-193 908.5,-193 914.5,-199 914.5,-205 914.5,-205 914.5,-249 914.5,-249 914.5,-255 908.5,-261 902.5,-261\"/>\r\n",
       "<text text-anchor=\"start\" x=\"827\" y=\"-245.8\" font-family=\"Helvetica,sans-Serif\" font-size=\"14.00\">hour ≤ 2.5</text>\r\n",
       "<text text-anchor=\"start\" x=\"814.5\" y=\"-230.8\" font-family=\"Helvetica,sans-Serif\" font-size=\"14.00\">mse = 25.507</text>\r\n",
       "<text text-anchor=\"start\" x=\"811.5\" y=\"-215.8\" font-family=\"Helvetica,sans-Serif\" font-size=\"14.00\">samples = 891</text>\r\n",
       "<text text-anchor=\"start\" x=\"816\" y=\"-200.8\" font-family=\"Helvetica,sans-Serif\" font-size=\"14.00\">value = 6.263</text>\r\n",
       "</g>\r\n",
       "<!-- 18&#45;&gt;19 -->\r\n",
       "<g id=\"edge19\" class=\"edge\"><title>18&#45;&gt;19</title>\r\n",
       "<path fill=\"none\" stroke=\"black\" d=\"M859.675,-296.884C859.596,-288.778 859.51,-279.982 859.426,-271.472\"/>\r\n",
       "<polygon fill=\"black\" stroke=\"black\" points=\"862.924,-271.265 859.326,-261.299 855.925,-271.333 862.924,-271.265\"/>\r\n",
       "</g>\r\n",
       "<!-- 24 -->\r\n",
       "<g id=\"node25\" class=\"node\"><title>24</title>\r\n",
       "<path fill=\"#e58139\" fill-opacity=\"0.039216\" stroke=\"black\" d=\"M1033.5,-253.5C1033.5,-253.5 944.5,-253.5 944.5,-253.5 938.5,-253.5 932.5,-247.5 932.5,-241.5 932.5,-241.5 932.5,-212.5 932.5,-212.5 932.5,-206.5 938.5,-200.5 944.5,-200.5 944.5,-200.5 1033.5,-200.5 1033.5,-200.5 1039.5,-200.5 1045.5,-206.5 1045.5,-212.5 1045.5,-212.5 1045.5,-241.5 1045.5,-241.5 1045.5,-247.5 1039.5,-253.5 1033.5,-253.5\"/>\r\n",
       "<text text-anchor=\"start\" x=\"940.5\" y=\"-238.3\" font-family=\"Helvetica,sans-Serif\" font-size=\"14.00\">mse = 139.849</text>\r\n",
       "<text text-anchor=\"start\" x=\"941.5\" y=\"-223.3\" font-family=\"Helvetica,sans-Serif\" font-size=\"14.00\">samples = 310</text>\r\n",
       "<text text-anchor=\"start\" x=\"942\" y=\"-208.3\" font-family=\"Helvetica,sans-Serif\" font-size=\"14.00\">value = 24.529</text>\r\n",
       "</g>\r\n",
       "<!-- 18&#45;&gt;24 -->\r\n",
       "<g id=\"edge24\" class=\"edge\"><title>18&#45;&gt;24</title>\r\n",
       "<path fill=\"none\" stroke=\"black\" d=\"M901.883,-296.884C916.904,-285.006 933.8,-271.646 948.686,-259.876\"/>\r\n",
       "<polygon fill=\"black\" stroke=\"black\" points=\"951.051,-262.468 956.725,-253.52 946.71,-256.977 951.051,-262.468\"/>\r\n",
       "</g>\r\n",
       "<!-- 20 -->\r\n",
       "<g id=\"node21\" class=\"node\"><title>20</title>\r\n",
       "<path fill=\"#e58139\" fill-opacity=\"0.007843\" stroke=\"black\" d=\"M900.5,-149.5C900.5,-149.5 813.5,-149.5 813.5,-149.5 807.5,-149.5 801.5,-143.5 801.5,-137.5 801.5,-137.5 801.5,-108.5 801.5,-108.5 801.5,-102.5 807.5,-96.5 813.5,-96.5 813.5,-96.5 900.5,-96.5 900.5,-96.5 906.5,-96.5 912.5,-102.5 912.5,-108.5 912.5,-108.5 912.5,-137.5 912.5,-137.5 912.5,-143.5 906.5,-149.5 900.5,-149.5\"/>\r\n",
       "<text text-anchor=\"start\" x=\"812.5\" y=\"-134.3\" font-family=\"Helvetica,sans-Serif\" font-size=\"14.00\">mse = 48.259</text>\r\n",
       "<text text-anchor=\"start\" x=\"809.5\" y=\"-119.3\" font-family=\"Helvetica,sans-Serif\" font-size=\"14.00\">samples = 305</text>\r\n",
       "<text text-anchor=\"start\" x=\"814\" y=\"-104.3\" font-family=\"Helvetica,sans-Serif\" font-size=\"14.00\">value = 8.436</text>\r\n",
       "</g>\r\n",
       "<!-- 19&#45;&gt;20 -->\r\n",
       "<g id=\"edge20\" class=\"edge\"><title>19&#45;&gt;20</title>\r\n",
       "<path fill=\"none\" stroke=\"black\" d=\"M858.351,-192.884C858.141,-182.216 857.909,-170.352 857.696,-159.519\"/>\r\n",
       "<polygon fill=\"black\" stroke=\"black\" points=\"861.196,-159.449 857.5,-149.52 854.197,-159.587 861.196,-159.449\"/>\r\n",
       "</g>\r\n",
       "<!-- 21 -->\r\n",
       "<g id=\"node22\" class=\"node\"><title>21</title>\r\n",
       "<path fill=\"none\" stroke=\"black\" d=\"M1029.5,-157C1029.5,-157 942.5,-157 942.5,-157 936.5,-157 930.5,-151 930.5,-145 930.5,-145 930.5,-101 930.5,-101 930.5,-95 936.5,-89 942.5,-89 942.5,-89 1029.5,-89 1029.5,-89 1035.5,-89 1041.5,-95 1041.5,-101 1041.5,-101 1041.5,-145 1041.5,-145 1041.5,-151 1035.5,-157 1029.5,-157\"/>\r\n",
       "<text text-anchor=\"start\" x=\"954\" y=\"-141.8\" font-family=\"Helvetica,sans-Serif\" font-size=\"14.00\">hour ≤ 3.5</text>\r\n",
       "<text text-anchor=\"start\" x=\"945.5\" y=\"-126.8\" font-family=\"Helvetica,sans-Serif\" font-size=\"14.00\">mse = 9.926</text>\r\n",
       "<text text-anchor=\"start\" x=\"938.5\" y=\"-111.8\" font-family=\"Helvetica,sans-Serif\" font-size=\"14.00\">samples = 586</text>\r\n",
       "<text text-anchor=\"start\" x=\"943\" y=\"-96.8\" font-family=\"Helvetica,sans-Serif\" font-size=\"14.00\">value = 5.131</text>\r\n",
       "</g>\r\n",
       "<!-- 19&#45;&gt;21 -->\r\n",
       "<g id=\"edge21\" class=\"edge\"><title>19&#45;&gt;21</title>\r\n",
       "<path fill=\"none\" stroke=\"black\" d=\"M900.233,-192.884C911.878,-183.531 924.667,-173.259 936.734,-163.568\"/>\r\n",
       "<polygon fill=\"black\" stroke=\"black\" points=\"938.934,-166.29 944.539,-157.299 934.551,-160.832 938.934,-166.29\"/>\r\n",
       "</g>\r\n",
       "<!-- 22 -->\r\n",
       "<g id=\"node23\" class=\"node\"><title>22</title>\r\n",
       "<path fill=\"none\" stroke=\"black\" d=\"M965.5,-53C965.5,-53 878.5,-53 878.5,-53 872.5,-53 866.5,-47 866.5,-41 866.5,-41 866.5,-12 866.5,-12 866.5,-6 872.5,-0 878.5,-0 878.5,-0 965.5,-0 965.5,-0 971.5,-0 977.5,-6 977.5,-12 977.5,-12 977.5,-41 977.5,-41 977.5,-47 971.5,-53 965.5,-53\"/>\r\n",
       "<text text-anchor=\"start\" x=\"881.5\" y=\"-37.8\" font-family=\"Helvetica,sans-Serif\" font-size=\"14.00\">mse = 9.189</text>\r\n",
       "<text text-anchor=\"start\" x=\"874.5\" y=\"-22.8\" font-family=\"Helvetica,sans-Serif\" font-size=\"14.00\">samples = 289</text>\r\n",
       "<text text-anchor=\"start\" x=\"879\" y=\"-7.8\" font-family=\"Helvetica,sans-Serif\" font-size=\"14.00\">value = 4.893</text>\r\n",
       "</g>\r\n",
       "<!-- 21&#45;&gt;22 -->\r\n",
       "<g id=\"edge22\" class=\"edge\"><title>21&#45;&gt;22</title>\r\n",
       "<path fill=\"none\" stroke=\"black\" d=\"M963.616,-88.9485C957.606,-80.0749 951.098,-70.4648 945.053,-61.5388\"/>\r\n",
       "<polygon fill=\"black\" stroke=\"black\" points=\"947.936,-59.5539 939.43,-53.2367 942.14,-63.4792 947.936,-59.5539\"/>\r\n",
       "</g>\r\n",
       "<!-- 23 -->\r\n",
       "<g id=\"node24\" class=\"node\"><title>23</title>\r\n",
       "<path fill=\"none\" stroke=\"black\" d=\"M1094.5,-53C1094.5,-53 1007.5,-53 1007.5,-53 1001.5,-53 995.5,-47 995.5,-41 995.5,-41 995.5,-12 995.5,-12 995.5,-6 1001.5,-0 1007.5,-0 1007.5,-0 1094.5,-0 1094.5,-0 1100.5,-0 1106.5,-6 1106.5,-12 1106.5,-12 1106.5,-41 1106.5,-41 1106.5,-47 1100.5,-53 1094.5,-53\"/>\r\n",
       "<text text-anchor=\"start\" x=\"1006.5\" y=\"-37.8\" font-family=\"Helvetica,sans-Serif\" font-size=\"14.00\">mse = 10.534</text>\r\n",
       "<text text-anchor=\"start\" x=\"1003.5\" y=\"-22.8\" font-family=\"Helvetica,sans-Serif\" font-size=\"14.00\">samples = 297</text>\r\n",
       "<text text-anchor=\"start\" x=\"1008\" y=\"-7.8\" font-family=\"Helvetica,sans-Serif\" font-size=\"14.00\">value = 5.364</text>\r\n",
       "</g>\r\n",
       "<!-- 21&#45;&gt;23 -->\r\n",
       "<g id=\"edge23\" class=\"edge\"><title>21&#45;&gt;23</title>\r\n",
       "<path fill=\"none\" stroke=\"black\" d=\"M1008.73,-88.9485C1014.84,-80.0749 1021.45,-70.4648 1027.59,-61.5388\"/>\r\n",
       "<polygon fill=\"black\" stroke=\"black\" points=\"1030.51,-63.4594 1033.3,-53.2367 1024.75,-59.4924 1030.51,-63.4594\"/>\r\n",
       "</g>\r\n",
       "<!-- 26 -->\r\n",
       "<g id=\"node27\" class=\"node\"><title>26</title>\r\n",
       "<path fill=\"#e58139\" fill-opacity=\"0.027451\" stroke=\"black\" d=\"M1685.5,-461.5C1685.5,-461.5 1596.5,-461.5 1596.5,-461.5 1590.5,-461.5 1584.5,-455.5 1584.5,-449.5 1584.5,-449.5 1584.5,-420.5 1584.5,-420.5 1584.5,-414.5 1590.5,-408.5 1596.5,-408.5 1596.5,-408.5 1685.5,-408.5 1685.5,-408.5 1691.5,-408.5 1697.5,-414.5 1697.5,-420.5 1697.5,-420.5 1697.5,-449.5 1697.5,-449.5 1697.5,-455.5 1691.5,-461.5 1685.5,-461.5\"/>\r\n",
       "<text text-anchor=\"start\" x=\"1592.5\" y=\"-446.3\" font-family=\"Helvetica,sans-Serif\" font-size=\"14.00\">mse = 329.469</text>\r\n",
       "<text text-anchor=\"start\" x=\"1593.5\" y=\"-431.3\" font-family=\"Helvetica,sans-Serif\" font-size=\"14.00\">samples = 145</text>\r\n",
       "<text text-anchor=\"start\" x=\"1594\" y=\"-416.3\" font-family=\"Helvetica,sans-Serif\" font-size=\"14.00\">value = 19.993</text>\r\n",
       "</g>\r\n",
       "<!-- 25&#45;&gt;26 -->\r\n",
       "<g id=\"edge26\" class=\"edge\"><title>25&#45;&gt;26</title>\r\n",
       "<path fill=\"none\" stroke=\"black\" d=\"M1686.92,-504.884C1679.44,-493.666 1671.08,-481.126 1663.57,-469.852\"/>\r\n",
       "<polygon fill=\"black\" stroke=\"black\" points=\"1666.47,-467.899 1658.01,-461.52 1660.65,-471.782 1666.47,-467.899\"/>\r\n",
       "</g>\r\n",
       "<!-- 27 -->\r\n",
       "<g id=\"node28\" class=\"node\"><title>27</title>\r\n",
       "<path fill=\"#e58139\" fill-opacity=\"0.188235\" stroke=\"black\" d=\"M1826,-461.5C1826,-461.5 1728,-461.5 1728,-461.5 1722,-461.5 1716,-455.5 1716,-449.5 1716,-449.5 1716,-420.5 1716,-420.5 1716,-414.5 1722,-408.5 1728,-408.5 1728,-408.5 1826,-408.5 1826,-408.5 1832,-408.5 1838,-414.5 1838,-420.5 1838,-420.5 1838,-449.5 1838,-449.5 1838,-455.5 1832,-461.5 1826,-461.5\"/>\r\n",
       "<text text-anchor=\"start\" x=\"1724\" y=\"-446.3\" font-family=\"Helvetica,sans-Serif\" font-size=\"14.00\">mse = 2061.663</text>\r\n",
       "<text text-anchor=\"start\" x=\"1729.5\" y=\"-431.3\" font-family=\"Helvetica,sans-Serif\" font-size=\"14.00\">samples = 310</text>\r\n",
       "<text text-anchor=\"start\" x=\"1725.5\" y=\"-416.3\" font-family=\"Helvetica,sans-Serif\" font-size=\"14.00\">value = 102.577</text>\r\n",
       "</g>\r\n",
       "<!-- 25&#45;&gt;27 -->\r\n",
       "<g id=\"edge27\" class=\"edge\"><title>25&#45;&gt;27</title>\r\n",
       "<path fill=\"none\" stroke=\"black\" d=\"M1731.08,-504.884C1738.56,-493.666 1746.92,-481.126 1754.43,-469.852\"/>\r\n",
       "<polygon fill=\"black\" stroke=\"black\" points=\"1757.35,-471.782 1759.99,-461.52 1751.53,-467.899 1757.35,-471.782\"/>\r\n",
       "</g>\r\n",
       "<!-- 29 -->\r\n",
       "<g id=\"node30\" class=\"node\"><title>29</title>\r\n",
       "<path fill=\"#e58139\" fill-opacity=\"0.529412\" stroke=\"black\" d=\"M1974,-573C1974,-573 1868,-573 1868,-573 1862,-573 1856,-567 1856,-561 1856,-561 1856,-517 1856,-517 1856,-511 1862,-505 1868,-505 1868,-505 1974,-505 1974,-505 1980,-505 1986,-511 1986,-517 1986,-517 1986,-561 1986,-561 1986,-567 1980,-573 1974,-573\"/>\r\n",
       "<text text-anchor=\"start\" x=\"1885\" y=\"-557.8\" font-family=\"Helvetica,sans-Serif\" font-size=\"14.00\">hour ≤ 15.5</text>\r\n",
       "<text text-anchor=\"start\" x=\"1864\" y=\"-542.8\" font-family=\"Helvetica,sans-Serif\" font-size=\"14.00\">mse = 32410.315</text>\r\n",
       "<text text-anchor=\"start\" x=\"1869.5\" y=\"-527.8\" font-family=\"Helvetica,sans-Serif\" font-size=\"14.00\">samples = 6379</text>\r\n",
       "<text text-anchor=\"start\" x=\"1869.5\" y=\"-512.8\" font-family=\"Helvetica,sans-Serif\" font-size=\"14.00\">value = 282.555</text>\r\n",
       "</g>\r\n",
       "<!-- 28&#45;&gt;29 -->\r\n",
       "<g id=\"edge29\" class=\"edge\"><title>28&#45;&gt;29</title>\r\n",
       "<path fill=\"none\" stroke=\"black\" d=\"M1921,-608.884C1921,-600.778 1921,-591.982 1921,-583.472\"/>\r\n",
       "<polygon fill=\"black\" stroke=\"black\" points=\"1924.5,-583.299 1921,-573.299 1917.5,-583.299 1924.5,-583.299\"/>\r\n",
       "</g>\r\n",
       "<!-- 70 -->\r\n",
       "<g id=\"node71\" class=\"node\"><title>70</title>\r\n",
       "<path fill=\"#e58139\" fill-opacity=\"0.243137\" stroke=\"black\" d=\"M3520,-573C3520,-573 3422,-573 3422,-573 3416,-573 3410,-567 3410,-561 3410,-561 3410,-517 3410,-517 3410,-511 3416,-505 3422,-505 3422,-505 3520,-505 3520,-505 3526,-505 3532,-511 3532,-517 3532,-517 3532,-561 3532,-561 3532,-567 3526,-573 3520,-573\"/>\r\n",
       "<text text-anchor=\"start\" x=\"3435\" y=\"-557.8\" font-family=\"Helvetica,sans-Serif\" font-size=\"14.00\">hour ≤ 22.5</text>\r\n",
       "<text text-anchor=\"start\" x=\"3418\" y=\"-542.8\" font-family=\"Helvetica,sans-Serif\" font-size=\"14.00\">mse = 6236.566</text>\r\n",
       "<text text-anchor=\"start\" x=\"3419.5\" y=\"-527.8\" font-family=\"Helvetica,sans-Serif\" font-size=\"14.00\">samples = 1368</text>\r\n",
       "<text text-anchor=\"start\" x=\"3419.5\" y=\"-512.8\" font-family=\"Helvetica,sans-Serif\" font-size=\"14.00\">value = 132.152</text>\r\n",
       "</g>\r\n",
       "<!-- 28&#45;&gt;70 -->\r\n",
       "<g id=\"edge70\" class=\"edge\"><title>28&#45;&gt;70</title>\r\n",
       "<path fill=\"none\" stroke=\"black\" d=\"M1986.12,-637.715C2236.88,-621.213 3139,-561.848 3399.87,-544.681\"/>\r\n",
       "<polygon fill=\"black\" stroke=\"black\" points=\"3400.24,-548.164 3409.98,-544.015 3399.78,-541.18 3400.24,-548.164\"/>\r\n",
       "</g>\r\n",
       "<!-- 30 -->\r\n",
       "<g id=\"node31\" class=\"node\"><title>30</title>\r\n",
       "<path fill=\"#e58139\" fill-opacity=\"0.454902\" stroke=\"black\" d=\"M1974,-469C1974,-469 1868,-469 1868,-469 1862,-469 1856,-463 1856,-457 1856,-457 1856,-413 1856,-413 1856,-407 1862,-401 1868,-401 1868,-401 1974,-401 1974,-401 1980,-401 1986,-407 1986,-413 1986,-413 1986,-457 1986,-457 1986,-463 1980,-469 1974,-469\"/>\r\n",
       "<text text-anchor=\"start\" x=\"1889\" y=\"-453.8\" font-family=\"Helvetica,sans-Serif\" font-size=\"14.00\">hour ≤ 8.5</text>\r\n",
       "<text text-anchor=\"start\" x=\"1864\" y=\"-438.8\" font-family=\"Helvetica,sans-Serif\" font-size=\"14.00\">mse = 24562.538</text>\r\n",
       "<text text-anchor=\"start\" x=\"1869.5\" y=\"-423.8\" font-family=\"Helvetica,sans-Serif\" font-size=\"14.00\">samples = 4099</text>\r\n",
       "<text text-anchor=\"start\" x=\"1874\" y=\"-408.8\" font-family=\"Helvetica,sans-Serif\" font-size=\"14.00\">value = 243.95</text>\r\n",
       "</g>\r\n",
       "<!-- 29&#45;&gt;30 -->\r\n",
       "<g id=\"edge30\" class=\"edge\"><title>29&#45;&gt;30</title>\r\n",
       "<path fill=\"none\" stroke=\"black\" d=\"M1921,-504.884C1921,-496.778 1921,-487.982 1921,-479.472\"/>\r\n",
       "<polygon fill=\"black\" stroke=\"black\" points=\"1924.5,-479.299 1921,-469.299 1917.5,-479.299 1924.5,-479.299\"/>\r\n",
       "</g>\r\n",
       "<!-- 51 -->\r\n",
       "<g id=\"node52\" class=\"node\"><title>51</title>\r\n",
       "<path fill=\"#e58139\" fill-opacity=\"0.662745\" stroke=\"black\" d=\"M2552,-469C2552,-469 2446,-469 2446,-469 2440,-469 2434,-463 2434,-457 2434,-457 2434,-413 2434,-413 2434,-407 2440,-401 2446,-401 2446,-401 2552,-401 2552,-401 2558,-401 2564,-407 2564,-413 2564,-413 2564,-457 2564,-457 2564,-463 2558,-469 2552,-469\"/>\r\n",
       "<text text-anchor=\"start\" x=\"2463\" y=\"-453.8\" font-family=\"Helvetica,sans-Serif\" font-size=\"14.00\">hour ≤ 18.5</text>\r\n",
       "<text text-anchor=\"start\" x=\"2442\" y=\"-438.8\" font-family=\"Helvetica,sans-Serif\" font-size=\"14.00\">mse = 39022.862</text>\r\n",
       "<text text-anchor=\"start\" x=\"2447.5\" y=\"-423.8\" font-family=\"Helvetica,sans-Serif\" font-size=\"14.00\">samples = 2280</text>\r\n",
       "<text text-anchor=\"start\" x=\"2447.5\" y=\"-408.8\" font-family=\"Helvetica,sans-Serif\" font-size=\"14.00\">value = 351.959</text>\r\n",
       "</g>\r\n",
       "<!-- 29&#45;&gt;51 -->\r\n",
       "<g id=\"edge51\" class=\"edge\"><title>29&#45;&gt;51</title>\r\n",
       "<path fill=\"none\" stroke=\"black\" d=\"M1986.18,-526.498C2094.08,-507.456 2309.23,-469.488 2423.55,-449.315\"/>\r\n",
       "<polygon fill=\"black\" stroke=\"black\" points=\"2424.38,-452.723 2433.62,-447.539 2423.16,-445.83 2424.38,-452.723\"/>\r\n",
       "</g>\r\n",
       "<!-- 31 -->\r\n",
       "<g id=\"node32\" class=\"node\"><title>31</title>\r\n",
       "<path fill=\"#e58139\" fill-opacity=\"0.541176\" stroke=\"black\" d=\"M1532,-365C1532,-365 1426,-365 1426,-365 1420,-365 1414,-359 1414,-353 1414,-353 1414,-309 1414,-309 1414,-303 1420,-297 1426,-297 1426,-297 1532,-297 1532,-297 1538,-297 1544,-303 1544,-309 1544,-309 1544,-353 1544,-353 1544,-359 1538,-365 1532,-365\"/>\r\n",
       "<text text-anchor=\"start\" x=\"1426\" y=\"-349.8\" font-family=\"Helvetica,sans-Serif\" font-size=\"14.00\">workingday ≤ 0.5</text>\r\n",
       "<text text-anchor=\"start\" x=\"1422\" y=\"-334.8\" font-family=\"Helvetica,sans-Serif\" font-size=\"14.00\">mse = 45033.357</text>\r\n",
       "<text text-anchor=\"start\" x=\"1431.5\" y=\"-319.8\" font-family=\"Helvetica,sans-Serif\" font-size=\"14.00\">samples = 910</text>\r\n",
       "<text text-anchor=\"start\" x=\"1427.5\" y=\"-304.8\" font-family=\"Helvetica,sans-Serif\" font-size=\"14.00\">value = 287.943</text>\r\n",
       "</g>\r\n",
       "<!-- 30&#45;&gt;31 -->\r\n",
       "<g id=\"edge31\" class=\"edge\"><title>30&#45;&gt;31</title>\r\n",
       "<path fill=\"none\" stroke=\"black\" d=\"M1855.95,-403.999C1852.95,-402.929 1849.95,-401.922 1847,-401 1748.18,-370.169 1629.89,-350.994 1554.6,-340.905\"/>\r\n",
       "<polygon fill=\"black\" stroke=\"black\" points=\"1554.64,-337.38 1544.27,-339.541 1553.72,-344.32 1554.64,-337.38\"/>\r\n",
       "</g>\r\n",
       "<!-- 38 -->\r\n",
       "<g id=\"node39\" class=\"node\"><title>38</title>\r\n",
       "<path fill=\"#e58139\" fill-opacity=\"0.431373\" stroke=\"black\" d=\"M1974,-365C1974,-365 1868,-365 1868,-365 1862,-365 1856,-359 1856,-353 1856,-353 1856,-309 1856,-309 1856,-303 1862,-297 1868,-297 1868,-297 1974,-297 1974,-297 1980,-297 1986,-303 1986,-309 1986,-309 1986,-353 1986,-353 1986,-359 1980,-365 1974,-365\"/>\r\n",
       "<text text-anchor=\"start\" x=\"1868\" y=\"-349.8\" font-family=\"Helvetica,sans-Serif\" font-size=\"14.00\">workingday ≤ 0.5</text>\r\n",
       "<text text-anchor=\"start\" x=\"1864\" y=\"-334.8\" font-family=\"Helvetica,sans-Serif\" font-size=\"14.00\">mse = 18011.206</text>\r\n",
       "<text text-anchor=\"start\" x=\"1869.5\" y=\"-319.8\" font-family=\"Helvetica,sans-Serif\" font-size=\"14.00\">samples = 3189</text>\r\n",
       "<text text-anchor=\"start\" x=\"1869.5\" y=\"-304.8\" font-family=\"Helvetica,sans-Serif\" font-size=\"14.00\">value = 231.396</text>\r\n",
       "</g>\r\n",
       "<!-- 30&#45;&gt;38 -->\r\n",
       "<g id=\"edge38\" class=\"edge\"><title>30&#45;&gt;38</title>\r\n",
       "<path fill=\"none\" stroke=\"black\" d=\"M1921,-400.884C1921,-392.778 1921,-383.982 1921,-375.472\"/>\r\n",
       "<polygon fill=\"black\" stroke=\"black\" points=\"1924.5,-375.299 1921,-365.299 1917.5,-375.299 1924.5,-375.299\"/>\r\n",
       "</g>\r\n",
       "<!-- 32 -->\r\n",
       "<g id=\"node33\" class=\"node\"><title>32</title>\r\n",
       "<path fill=\"#e58139\" fill-opacity=\"0.141176\" stroke=\"black\" d=\"M1310,-261C1310,-261 1212,-261 1212,-261 1206,-261 1200,-255 1200,-249 1200,-249 1200,-205 1200,-205 1200,-199 1206,-193 1212,-193 1212,-193 1310,-193 1310,-193 1316,-193 1322,-199 1322,-205 1322,-205 1322,-249 1322,-249 1322,-255 1316,-261 1310,-261\"/>\r\n",
       "<text text-anchor=\"start\" x=\"1229\" y=\"-245.8\" font-family=\"Helvetica,sans-Serif\" font-size=\"14.00\">hour ≤ 7.5</text>\r\n",
       "<text text-anchor=\"start\" x=\"1208\" y=\"-230.8\" font-family=\"Helvetica,sans-Serif\" font-size=\"14.00\">mse = 5394.402</text>\r\n",
       "<text text-anchor=\"start\" x=\"1213.5\" y=\"-215.8\" font-family=\"Helvetica,sans-Serif\" font-size=\"14.00\">samples = 290</text>\r\n",
       "<text text-anchor=\"start\" x=\"1214\" y=\"-200.8\" font-family=\"Helvetica,sans-Serif\" font-size=\"14.00\">value = 79.762</text>\r\n",
       "</g>\r\n",
       "<!-- 31&#45;&gt;32 -->\r\n",
       "<g id=\"edge32\" class=\"edge\"><title>31&#45;&gt;32</title>\r\n",
       "<path fill=\"none\" stroke=\"black\" d=\"M1413.89,-299.535C1387.85,-287.352 1357.8,-273.293 1331.27,-260.879\"/>\r\n",
       "<polygon fill=\"black\" stroke=\"black\" points=\"1332.59,-257.631 1322.05,-256.563 1329.62,-263.971 1332.59,-257.631\"/>\r\n",
       "</g>\r\n",
       "<!-- 35 -->\r\n",
       "<g id=\"node36\" class=\"node\"><title>35</title>\r\n",
       "<path fill=\"#e58139\" fill-opacity=\"0.725490\" stroke=\"black\" d=\"M1528,-261C1528,-261 1430,-261 1430,-261 1424,-261 1418,-255 1418,-249 1418,-249 1418,-205 1418,-205 1418,-199 1424,-193 1430,-193 1430,-193 1528,-193 1528,-193 1534,-193 1540,-199 1540,-205 1540,-205 1540,-249 1540,-249 1540,-255 1534,-261 1528,-261\"/>\r\n",
       "<text text-anchor=\"start\" x=\"1447\" y=\"-245.8\" font-family=\"Helvetica,sans-Serif\" font-size=\"14.00\">hour ≤ 7.5</text>\r\n",
       "<text text-anchor=\"start\" x=\"1426\" y=\"-230.8\" font-family=\"Helvetica,sans-Serif\" font-size=\"14.00\">mse = 33820.71</text>\r\n",
       "<text text-anchor=\"start\" x=\"1431.5\" y=\"-215.8\" font-family=\"Helvetica,sans-Serif\" font-size=\"14.00\">samples = 620</text>\r\n",
       "<text text-anchor=\"start\" x=\"1427.5\" y=\"-200.8\" font-family=\"Helvetica,sans-Serif\" font-size=\"14.00\">value = 385.318</text>\r\n",
       "</g>\r\n",
       "<!-- 31&#45;&gt;35 -->\r\n",
       "<g id=\"edge35\" class=\"edge\"><title>31&#45;&gt;35</title>\r\n",
       "<path fill=\"none\" stroke=\"black\" d=\"M1479,-296.884C1479,-288.778 1479,-279.982 1479,-271.472\"/>\r\n",
       "<polygon fill=\"black\" stroke=\"black\" points=\"1482.5,-271.299 1479,-261.299 1475.5,-271.299 1482.5,-271.299\"/>\r\n",
       "</g>\r\n",
       "<!-- 33 -->\r\n",
       "<g id=\"node34\" class=\"node\"><title>33</title>\r\n",
       "<path fill=\"#e58139\" fill-opacity=\"0.082353\" stroke=\"black\" d=\"M1170,-149.5C1170,-149.5 1072,-149.5 1072,-149.5 1066,-149.5 1060,-143.5 1060,-137.5 1060,-137.5 1060,-108.5 1060,-108.5 1060,-102.5 1066,-96.5 1072,-96.5 1072,-96.5 1170,-96.5 1170,-96.5 1176,-96.5 1182,-102.5 1182,-108.5 1182,-108.5 1182,-137.5 1182,-137.5 1182,-143.5 1176,-149.5 1170,-149.5\"/>\r\n",
       "<text text-anchor=\"start\" x=\"1068\" y=\"-134.3\" font-family=\"Helvetica,sans-Serif\" font-size=\"14.00\">mse = 1891.286</text>\r\n",
       "<text text-anchor=\"start\" x=\"1073.5\" y=\"-119.3\" font-family=\"Helvetica,sans-Serif\" font-size=\"14.00\">samples = 145</text>\r\n",
       "<text text-anchor=\"start\" x=\"1074\" y=\"-104.3\" font-family=\"Helvetica,sans-Serif\" font-size=\"14.00\">value = 47.269</text>\r\n",
       "</g>\r\n",
       "<!-- 32&#45;&gt;33 -->\r\n",
       "<g id=\"edge33\" class=\"edge\"><title>32&#45;&gt;33</title>\r\n",
       "<path fill=\"none\" stroke=\"black\" d=\"M1215.55,-192.884C1199.09,-180.896 1180.57,-167.399 1164.3,-155.549\"/>\r\n",
       "<polygon fill=\"black\" stroke=\"black\" points=\"1166.17,-152.58 1156.03,-149.52 1162.05,-158.237 1166.17,-152.58\"/>\r\n",
       "</g>\r\n",
       "<!-- 34 -->\r\n",
       "<g id=\"node35\" class=\"node\"><title>34</title>\r\n",
       "<path fill=\"#e58139\" fill-opacity=\"0.203922\" stroke=\"black\" d=\"M1310,-149.5C1310,-149.5 1212,-149.5 1212,-149.5 1206,-149.5 1200,-143.5 1200,-137.5 1200,-137.5 1200,-108.5 1200,-108.5 1200,-102.5 1206,-96.5 1212,-96.5 1212,-96.5 1310,-96.5 1310,-96.5 1316,-96.5 1322,-102.5 1322,-108.5 1322,-108.5 1322,-137.5 1322,-137.5 1322,-143.5 1316,-149.5 1310,-149.5\"/>\r\n",
       "<text text-anchor=\"start\" x=\"1208\" y=\"-134.3\" font-family=\"Helvetica,sans-Serif\" font-size=\"14.00\">mse = 6785.914</text>\r\n",
       "<text text-anchor=\"start\" x=\"1213.5\" y=\"-119.3\" font-family=\"Helvetica,sans-Serif\" font-size=\"14.00\">samples = 145</text>\r\n",
       "<text text-anchor=\"start\" x=\"1209.5\" y=\"-104.3\" font-family=\"Helvetica,sans-Serif\" font-size=\"14.00\">value = 112.255</text>\r\n",
       "</g>\r\n",
       "<!-- 32&#45;&gt;34 -->\r\n",
       "<g id=\"edge34\" class=\"edge\"><title>32&#45;&gt;34</title>\r\n",
       "<path fill=\"none\" stroke=\"black\" d=\"M1261,-192.884C1261,-182.326 1261,-170.597 1261,-159.854\"/>\r\n",
       "<polygon fill=\"black\" stroke=\"black\" points=\"1264.5,-159.52 1261,-149.52 1257.5,-159.52 1264.5,-159.52\"/>\r\n",
       "</g>\r\n",
       "<!-- 36 -->\r\n",
       "<g id=\"node37\" class=\"node\"><title>36</title>\r\n",
       "<path fill=\"#e58139\" fill-opacity=\"0.545098\" stroke=\"black\" d=\"M1458,-149.5C1458,-149.5 1352,-149.5 1352,-149.5 1346,-149.5 1340,-143.5 1340,-137.5 1340,-137.5 1340,-108.5 1340,-108.5 1340,-102.5 1346,-96.5 1352,-96.5 1352,-96.5 1458,-96.5 1458,-96.5 1464,-96.5 1470,-102.5 1470,-108.5 1470,-108.5 1470,-137.5 1470,-137.5 1470,-143.5 1464,-149.5 1458,-149.5\"/>\r\n",
       "<text text-anchor=\"start\" x=\"1348\" y=\"-134.3\" font-family=\"Helvetica,sans-Serif\" font-size=\"14.00\">mse = 17353.156</text>\r\n",
       "<text text-anchor=\"start\" x=\"1357.5\" y=\"-119.3\" font-family=\"Helvetica,sans-Serif\" font-size=\"14.00\">samples = 310</text>\r\n",
       "<text text-anchor=\"start\" x=\"1358\" y=\"-104.3\" font-family=\"Helvetica,sans-Serif\" font-size=\"14.00\">value = 290.69</text>\r\n",
       "</g>\r\n",
       "<!-- 35&#45;&gt;36 -->\r\n",
       "<g id=\"edge36\" class=\"edge\"><title>35&#45;&gt;36</title>\r\n",
       "<path fill=\"none\" stroke=\"black\" d=\"M1454.97,-192.884C1446.84,-181.666 1437.74,-169.126 1429.56,-157.852\"/>\r\n",
       "<polygon fill=\"black\" stroke=\"black\" points=\"1432.22,-155.559 1423.51,-149.52 1426.55,-159.669 1432.22,-155.559\"/>\r\n",
       "</g>\r\n",
       "<!-- 37 -->\r\n",
       "<g id=\"node38\" class=\"node\"><title>37</title>\r\n",
       "<path fill=\"#e58139\" fill-opacity=\"0.905882\" stroke=\"black\" d=\"M1606,-149.5C1606,-149.5 1500,-149.5 1500,-149.5 1494,-149.5 1488,-143.5 1488,-137.5 1488,-137.5 1488,-108.5 1488,-108.5 1488,-102.5 1494,-96.5 1500,-96.5 1500,-96.5 1606,-96.5 1606,-96.5 1612,-96.5 1618,-102.5 1618,-108.5 1618,-108.5 1618,-137.5 1618,-137.5 1618,-143.5 1612,-149.5 1606,-149.5\"/>\r\n",
       "<text text-anchor=\"start\" x=\"1496\" y=\"-134.3\" font-family=\"Helvetica,sans-Serif\" font-size=\"14.00\">mse = 32379.568</text>\r\n",
       "<text text-anchor=\"start\" x=\"1505.5\" y=\"-119.3\" font-family=\"Helvetica,sans-Serif\" font-size=\"14.00\">samples = 310</text>\r\n",
       "<text text-anchor=\"start\" x=\"1501.5\" y=\"-104.3\" font-family=\"Helvetica,sans-Serif\" font-size=\"14.00\">value = 479.945</text>\r\n",
       "</g>\r\n",
       "<!-- 35&#45;&gt;37 -->\r\n",
       "<g id=\"edge37\" class=\"edge\"><title>35&#45;&gt;37</title>\r\n",
       "<path fill=\"none\" stroke=\"black\" d=\"M1503.03,-192.884C1511.16,-181.666 1520.26,-169.126 1528.44,-157.852\"/>\r\n",
       "<polygon fill=\"black\" stroke=\"black\" points=\"1531.45,-159.669 1534.49,-149.52 1525.78,-155.559 1531.45,-159.669\"/>\r\n",
       "</g>\r\n",
       "<!-- 39 -->\r\n",
       "<g id=\"node40\" class=\"node\"><title>39</title>\r\n",
       "<path fill=\"#e58139\" fill-opacity=\"0.611765\" stroke=\"black\" d=\"M1902,-261C1902,-261 1796,-261 1796,-261 1790,-261 1784,-255 1784,-249 1784,-249 1784,-205 1784,-205 1784,-199 1790,-193 1796,-193 1796,-193 1902,-193 1902,-193 1908,-193 1914,-199 1914,-205 1914,-205 1914,-249 1914,-249 1914,-255 1908,-261 1902,-261\"/>\r\n",
       "<text text-anchor=\"start\" x=\"1813\" y=\"-245.8\" font-family=\"Helvetica,sans-Serif\" font-size=\"14.00\">hour ≤ 10.5</text>\r\n",
       "<text text-anchor=\"start\" x=\"1792\" y=\"-230.8\" font-family=\"Helvetica,sans-Serif\" font-size=\"14.00\">mse = 26949.468</text>\r\n",
       "<text text-anchor=\"start\" x=\"1797.5\" y=\"-215.8\" font-family=\"Helvetica,sans-Serif\" font-size=\"14.00\">samples = 1015</text>\r\n",
       "<text text-anchor=\"start\" x=\"1802\" y=\"-200.8\" font-family=\"Helvetica,sans-Serif\" font-size=\"14.00\">value = 326.64</text>\r\n",
       "</g>\r\n",
       "<!-- 38&#45;&gt;39 -->\r\n",
       "<g id=\"edge39\" class=\"edge\"><title>38&#45;&gt;39</title>\r\n",
       "<path fill=\"none\" stroke=\"black\" d=\"M1897.62,-296.884C1891.46,-288.154 1884.74,-278.625 1878.3,-269.514\"/>\r\n",
       "<polygon fill=\"black\" stroke=\"black\" points=\"1881.13,-267.451 1872.51,-261.299 1875.41,-271.487 1881.13,-267.451\"/>\r\n",
       "</g>\r\n",
       "<!-- 46 -->\r\n",
       "<g id=\"node47\" class=\"node\"><title>46</title>\r\n",
       "<path fill=\"#e58139\" fill-opacity=\"0.349020\" stroke=\"black\" d=\"M2042,-261C2042,-261 1944,-261 1944,-261 1938,-261 1932,-255 1932,-249 1932,-249 1932,-205 1932,-205 1932,-199 1938,-193 1944,-193 1944,-193 2042,-193 2042,-193 2048,-193 2054,-199 2054,-205 2054,-205 2054,-249 2054,-249 2054,-255 2048,-261 2042,-261\"/>\r\n",
       "<text text-anchor=\"start\" x=\"1961\" y=\"-245.8\" font-family=\"Helvetica,sans-Serif\" font-size=\"14.00\">hour ≤ 9.5</text>\r\n",
       "<text text-anchor=\"start\" x=\"1940\" y=\"-230.8\" font-family=\"Helvetica,sans-Serif\" font-size=\"14.00\">mse = 7625.446</text>\r\n",
       "<text text-anchor=\"start\" x=\"1941.5\" y=\"-215.8\" font-family=\"Helvetica,sans-Serif\" font-size=\"14.00\">samples = 2174</text>\r\n",
       "<text text-anchor=\"start\" x=\"1941.5\" y=\"-200.8\" font-family=\"Helvetica,sans-Serif\" font-size=\"14.00\">value = 186.929</text>\r\n",
       "</g>\r\n",
       "<!-- 38&#45;&gt;46 -->\r\n",
       "<g id=\"edge46\" class=\"edge\"><title>38&#45;&gt;46</title>\r\n",
       "<path fill=\"none\" stroke=\"black\" d=\"M1944.38,-296.884C1950.54,-288.154 1957.26,-278.625 1963.7,-269.514\"/>\r\n",
       "<polygon fill=\"black\" stroke=\"black\" points=\"1966.59,-271.487 1969.49,-261.299 1960.87,-267.451 1966.59,-271.487\"/>\r\n",
       "</g>\r\n",
       "<!-- 40 -->\r\n",
       "<g id=\"node41\" class=\"node\"><title>40</title>\r\n",
       "<path fill=\"#e58139\" fill-opacity=\"0.411765\" stroke=\"black\" d=\"M1754,-157C1754,-157 1648,-157 1648,-157 1642,-157 1636,-151 1636,-145 1636,-145 1636,-101 1636,-101 1636,-95 1642,-89 1648,-89 1648,-89 1754,-89 1754,-89 1760,-89 1766,-95 1766,-101 1766,-101 1766,-145 1766,-145 1766,-151 1760,-157 1754,-157\"/>\r\n",
       "<text text-anchor=\"start\" x=\"1669\" y=\"-141.8\" font-family=\"Helvetica,sans-Serif\" font-size=\"14.00\">hour ≤ 9.5</text>\r\n",
       "<text text-anchor=\"start\" x=\"1644\" y=\"-126.8\" font-family=\"Helvetica,sans-Serif\" font-size=\"14.00\">mse = 12970.951</text>\r\n",
       "<text text-anchor=\"start\" x=\"1653.5\" y=\"-111.8\" font-family=\"Helvetica,sans-Serif\" font-size=\"14.00\">samples = 290</text>\r\n",
       "<text text-anchor=\"start\" x=\"1649.5\" y=\"-96.8\" font-family=\"Helvetica,sans-Serif\" font-size=\"14.00\">value = 220.866</text>\r\n",
       "</g>\r\n",
       "<!-- 39&#45;&gt;40 -->\r\n",
       "<g id=\"edge40\" class=\"edge\"><title>39&#45;&gt;40</title>\r\n",
       "<path fill=\"none\" stroke=\"black\" d=\"M1800.95,-192.884C1787.05,-183.304 1771.75,-172.761 1757.39,-162.864\"/>\r\n",
       "<polygon fill=\"black\" stroke=\"black\" points=\"1759.28,-159.918 1749.06,-157.125 1755.31,-165.681 1759.28,-159.918\"/>\r\n",
       "</g>\r\n",
       "<!-- 43 -->\r\n",
       "<g id=\"node44\" class=\"node\"><title>43</title>\r\n",
       "<path fill=\"#e58139\" fill-opacity=\"0.694118\" stroke=\"black\" d=\"M1902,-157C1902,-157 1796,-157 1796,-157 1790,-157 1784,-151 1784,-145 1784,-145 1784,-101 1784,-101 1784,-95 1790,-89 1796,-89 1796,-89 1902,-89 1902,-89 1908,-89 1914,-95 1914,-101 1914,-101 1914,-145 1914,-145 1914,-151 1908,-157 1902,-157\"/>\r\n",
       "<text text-anchor=\"start\" x=\"1813\" y=\"-141.8\" font-family=\"Helvetica,sans-Serif\" font-size=\"14.00\">hour ≤ 11.5</text>\r\n",
       "<text text-anchor=\"start\" x=\"1792\" y=\"-126.8\" font-family=\"Helvetica,sans-Serif\" font-size=\"14.00\">mse = 26275.413</text>\r\n",
       "<text text-anchor=\"start\" x=\"1801.5\" y=\"-111.8\" font-family=\"Helvetica,sans-Serif\" font-size=\"14.00\">samples = 725</text>\r\n",
       "<text text-anchor=\"start\" x=\"1802\" y=\"-96.8\" font-family=\"Helvetica,sans-Serif\" font-size=\"14.00\">value = 368.95</text>\r\n",
       "</g>\r\n",
       "<!-- 39&#45;&gt;43 -->\r\n",
       "<g id=\"edge43\" class=\"edge\"><title>39&#45;&gt;43</title>\r\n",
       "<path fill=\"none\" stroke=\"black\" d=\"M1849,-192.884C1849,-184.778 1849,-175.982 1849,-167.472\"/>\r\n",
       "<polygon fill=\"black\" stroke=\"black\" points=\"1852.5,-167.299 1849,-157.299 1845.5,-167.299 1852.5,-167.299\"/>\r\n",
       "</g>\r\n",
       "<!-- 41 -->\r\n",
       "<g id=\"node42\" class=\"node\"><title>41</title>\r\n",
       "<path fill=\"#e58139\" fill-opacity=\"0.329412\" stroke=\"black\" d=\"M1601,-53C1601,-53 1503,-53 1503,-53 1497,-53 1491,-47 1491,-41 1491,-41 1491,-12 1491,-12 1491,-6 1497,-0 1503,-0 1503,-0 1601,-0 1601,-0 1607,-0 1613,-6 1613,-12 1613,-12 1613,-41 1613,-41 1613,-47 1607,-53 1601,-53\"/>\r\n",
       "<text text-anchor=\"start\" x=\"1499\" y=\"-37.8\" font-family=\"Helvetica,sans-Serif\" font-size=\"14.00\">mse = 8027.891</text>\r\n",
       "<text text-anchor=\"start\" x=\"1504.5\" y=\"-22.8\" font-family=\"Helvetica,sans-Serif\" font-size=\"14.00\">samples = 145</text>\r\n",
       "<text text-anchor=\"start\" x=\"1500.5\" y=\"-7.8\" font-family=\"Helvetica,sans-Serif\" font-size=\"14.00\">value = 177.924</text>\r\n",
       "</g>\r\n",
       "<!-- 40&#45;&gt;41 -->\r\n",
       "<g id=\"edge41\" class=\"edge\"><title>40&#45;&gt;41</title>\r\n",
       "<path fill=\"none\" stroke=\"black\" d=\"M1648.89,-88.9485C1633.45,-79.1601 1616.61,-68.4756 1601.35,-58.8015\"/>\r\n",
       "<polygon fill=\"black\" stroke=\"black\" points=\"1602.9,-55.637 1592.58,-53.2367 1599.15,-61.5483 1602.9,-55.637\"/>\r\n",
       "</g>\r\n",
       "<!-- 42 -->\r\n",
       "<g id=\"node43\" class=\"node\"><title>42</title>\r\n",
       "<path fill=\"#e58139\" fill-opacity=\"0.494118\" stroke=\"black\" d=\"M1749,-53C1749,-53 1643,-53 1643,-53 1637,-53 1631,-47 1631,-41 1631,-41 1631,-12 1631,-12 1631,-6 1637,-0 1643,-0 1643,-0 1749,-0 1749,-0 1755,-0 1761,-6 1761,-12 1761,-12 1761,-41 1761,-41 1761,-47 1755,-53 1749,-53\"/>\r\n",
       "<text text-anchor=\"start\" x=\"1639\" y=\"-37.8\" font-family=\"Helvetica,sans-Serif\" font-size=\"14.00\">mse = 14226.087</text>\r\n",
       "<text text-anchor=\"start\" x=\"1648.5\" y=\"-22.8\" font-family=\"Helvetica,sans-Serif\" font-size=\"14.00\">samples = 145</text>\r\n",
       "<text text-anchor=\"start\" x=\"1644.5\" y=\"-7.8\" font-family=\"Helvetica,sans-Serif\" font-size=\"14.00\">value = 263.807</text>\r\n",
       "</g>\r\n",
       "<!-- 40&#45;&gt;42 -->\r\n",
       "<g id=\"edge42\" class=\"edge\"><title>40&#45;&gt;42</title>\r\n",
       "<path fill=\"none\" stroke=\"black\" d=\"M1699.25,-88.9485C1698.82,-80.7153 1698.35,-71.848 1697.9,-63.4814\"/>\r\n",
       "<polygon fill=\"black\" stroke=\"black\" points=\"1701.39,-63.0378 1697.36,-53.2367 1694.4,-63.4077 1701.39,-63.0378\"/>\r\n",
       "</g>\r\n",
       "<!-- 44 -->\r\n",
       "<g id=\"node45\" class=\"node\"><title>44</title>\r\n",
       "<path fill=\"#e58139\" fill-opacity=\"0.611765\" stroke=\"black\" d=\"M1897,-53C1897,-53 1791,-53 1791,-53 1785,-53 1779,-47 1779,-41 1779,-41 1779,-12 1779,-12 1779,-6 1785,-0 1791,-0 1791,-0 1897,-0 1897,-0 1903,-0 1909,-6 1909,-12 1909,-12 1909,-41 1909,-41 1909,-47 1903,-53 1897,-53\"/>\r\n",
       "<text text-anchor=\"start\" x=\"1787\" y=\"-37.8\" font-family=\"Helvetica,sans-Serif\" font-size=\"14.00\">mse = 21305.547</text>\r\n",
       "<text text-anchor=\"start\" x=\"1796.5\" y=\"-22.8\" font-family=\"Helvetica,sans-Serif\" font-size=\"14.00\">samples = 145</text>\r\n",
       "<text text-anchor=\"start\" x=\"1792.5\" y=\"-7.8\" font-family=\"Helvetica,sans-Serif\" font-size=\"14.00\">value = 325.386</text>\r\n",
       "</g>\r\n",
       "<!-- 43&#45;&gt;44 -->\r\n",
       "<g id=\"edge44\" class=\"edge\"><title>43&#45;&gt;44</title>\r\n",
       "<path fill=\"none\" stroke=\"black\" d=\"M1847.25,-88.9485C1846.82,-80.7153 1846.35,-71.848 1845.9,-63.4814\"/>\r\n",
       "<polygon fill=\"black\" stroke=\"black\" points=\"1849.39,-63.0378 1845.36,-53.2367 1842.4,-63.4077 1849.39,-63.0378\"/>\r\n",
       "</g>\r\n",
       "<!-- 45 -->\r\n",
       "<g id=\"node46\" class=\"node\"><title>45</title>\r\n",
       "<path fill=\"#e58139\" fill-opacity=\"0.713725\" stroke=\"black\" d=\"M2045,-53C2045,-53 1939,-53 1939,-53 1933,-53 1927,-47 1927,-41 1927,-41 1927,-12 1927,-12 1927,-6 1933,-0 1939,-0 1939,-0 2045,-0 2045,-0 2051,-0 2057,-6 2057,-12 2057,-12 2057,-41 2057,-41 2057,-47 2051,-53 2045,-53\"/>\r\n",
       "<text text-anchor=\"start\" x=\"1935\" y=\"-37.8\" font-family=\"Helvetica,sans-Serif\" font-size=\"14.00\">mse = 26924.806</text>\r\n",
       "<text text-anchor=\"start\" x=\"1944.5\" y=\"-22.8\" font-family=\"Helvetica,sans-Serif\" font-size=\"14.00\">samples = 580</text>\r\n",
       "<text text-anchor=\"start\" x=\"1940.5\" y=\"-7.8\" font-family=\"Helvetica,sans-Serif\" font-size=\"14.00\">value = 379.841</text>\r\n",
       "</g>\r\n",
       "<!-- 43&#45;&gt;45 -->\r\n",
       "<g id=\"edge45\" class=\"edge\"><title>43&#45;&gt;45</title>\r\n",
       "<path fill=\"none\" stroke=\"black\" d=\"M1899.01,-88.9485C1913.83,-79.1601 1929.99,-68.4756 1944.63,-58.8015\"/>\r\n",
       "<polygon fill=\"black\" stroke=\"black\" points=\"1946.64,-61.6701 1953.05,-53.2367 1942.78,-55.83 1946.64,-61.6701\"/>\r\n",
       "</g>\r\n",
       "<!-- 47 -->\r\n",
       "<g id=\"node48\" class=\"node\"><title>47</title>\r\n",
       "<path fill=\"#e58139\" fill-opacity=\"0.450980\" stroke=\"black\" d=\"M2042,-149.5C2042,-149.5 1944,-149.5 1944,-149.5 1938,-149.5 1932,-143.5 1932,-137.5 1932,-137.5 1932,-108.5 1932,-108.5 1932,-102.5 1938,-96.5 1944,-96.5 1944,-96.5 2042,-96.5 2042,-96.5 2048,-96.5 2054,-102.5 2054,-108.5 2054,-108.5 2054,-137.5 2054,-137.5 2054,-143.5 2048,-149.5 2042,-149.5\"/>\r\n",
       "<text text-anchor=\"start\" x=\"1940\" y=\"-134.3\" font-family=\"Helvetica,sans-Serif\" font-size=\"14.00\">mse = 7347.001</text>\r\n",
       "<text text-anchor=\"start\" x=\"1945.5\" y=\"-119.3\" font-family=\"Helvetica,sans-Serif\" font-size=\"14.00\">samples = 310</text>\r\n",
       "<text text-anchor=\"start\" x=\"1941.5\" y=\"-104.3\" font-family=\"Helvetica,sans-Serif\" font-size=\"14.00\">value = 242.294</text>\r\n",
       "</g>\r\n",
       "<!-- 46&#45;&gt;47 -->\r\n",
       "<g id=\"edge47\" class=\"edge\"><title>46&#45;&gt;47</title>\r\n",
       "<path fill=\"none\" stroke=\"black\" d=\"M1993,-192.884C1993,-182.326 1993,-170.597 1993,-159.854\"/>\r\n",
       "<polygon fill=\"black\" stroke=\"black\" points=\"1996.5,-159.52 1993,-149.52 1989.5,-159.52 1996.5,-159.52\"/>\r\n",
       "</g>\r\n",
       "<!-- 48 -->\r\n",
       "<g id=\"node49\" class=\"node\"><title>48</title>\r\n",
       "<path fill=\"#e58139\" fill-opacity=\"0.329412\" stroke=\"black\" d=\"M2182,-157C2182,-157 2084,-157 2084,-157 2078,-157 2072,-151 2072,-145 2072,-145 2072,-101 2072,-101 2072,-95 2078,-89 2084,-89 2084,-89 2182,-89 2182,-89 2188,-89 2194,-95 2194,-101 2194,-101 2194,-145 2194,-145 2194,-151 2188,-157 2182,-157\"/>\r\n",
       "<text text-anchor=\"start\" x=\"2097\" y=\"-141.8\" font-family=\"Helvetica,sans-Serif\" font-size=\"14.00\">hour ≤ 11.5</text>\r\n",
       "<text text-anchor=\"start\" x=\"2080\" y=\"-126.8\" font-family=\"Helvetica,sans-Serif\" font-size=\"14.00\">mse = 7077.191</text>\r\n",
       "<text text-anchor=\"start\" x=\"2081.5\" y=\"-111.8\" font-family=\"Helvetica,sans-Serif\" font-size=\"14.00\">samples = 1864</text>\r\n",
       "<text text-anchor=\"start\" x=\"2081.5\" y=\"-96.8\" font-family=\"Helvetica,sans-Serif\" font-size=\"14.00\">value = 177.721</text>\r\n",
       "</g>\r\n",
       "<!-- 46&#45;&gt;48 -->\r\n",
       "<g id=\"edge48\" class=\"edge\"><title>46&#45;&gt;48</title>\r\n",
       "<path fill=\"none\" stroke=\"black\" d=\"M2038.45,-192.884C2051.41,-183.442 2065.66,-173.064 2079.07,-163.292\"/>\r\n",
       "<polygon fill=\"black\" stroke=\"black\" points=\"2081.27,-166.017 2087.29,-157.299 2077.15,-160.359 2081.27,-166.017\"/>\r\n",
       "</g>\r\n",
       "<!-- 49 -->\r\n",
       "<g id=\"node50\" class=\"node\"><title>49</title>\r\n",
       "<path fill=\"#e58139\" fill-opacity=\"0.266667\" stroke=\"black\" d=\"M2185,-53C2185,-53 2087,-53 2087,-53 2081,-53 2075,-47 2075,-41 2075,-41 2075,-12 2075,-12 2075,-6 2081,-0 2087,-0 2087,-0 2185,-0 2185,-0 2191,-0 2197,-6 2197,-12 2197,-12 2197,-41 2197,-41 2197,-47 2191,-53 2185,-53\"/>\r\n",
       "<text text-anchor=\"start\" x=\"2083\" y=\"-37.8\" font-family=\"Helvetica,sans-Serif\" font-size=\"14.00\">mse = 4091.949</text>\r\n",
       "<text text-anchor=\"start\" x=\"2088.5\" y=\"-22.8\" font-family=\"Helvetica,sans-Serif\" font-size=\"14.00\">samples = 620</text>\r\n",
       "<text text-anchor=\"start\" x=\"2084.5\" y=\"-7.8\" font-family=\"Helvetica,sans-Serif\" font-size=\"14.00\">value = 145.308</text>\r\n",
       "</g>\r\n",
       "<!-- 48&#45;&gt;49 -->\r\n",
       "<g id=\"edge49\" class=\"edge\"><title>48&#45;&gt;49</title>\r\n",
       "<path fill=\"none\" stroke=\"black\" d=\"M2134.05,-88.9485C2134.31,-80.7153 2134.59,-71.848 2134.86,-63.4814\"/>\r\n",
       "<polygon fill=\"black\" stroke=\"black\" points=\"2138.36,-63.3428 2135.18,-53.2367 2131.37,-63.1206 2138.36,-63.3428\"/>\r\n",
       "</g>\r\n",
       "<!-- 50 -->\r\n",
       "<g id=\"node51\" class=\"node\"><title>50</title>\r\n",
       "<path fill=\"#e58139\" fill-opacity=\"0.360784\" stroke=\"black\" d=\"M2325,-53C2325,-53 2227,-53 2227,-53 2221,-53 2215,-47 2215,-41 2215,-41 2215,-12 2215,-12 2215,-6 2221,-0 2227,-0 2227,-0 2325,-0 2325,-0 2331,-0 2337,-6 2337,-12 2337,-12 2337,-41 2337,-41 2337,-47 2331,-53 2325,-53\"/>\r\n",
       "<text text-anchor=\"start\" x=\"2223\" y=\"-37.8\" font-family=\"Helvetica,sans-Serif\" font-size=\"14.00\">mse = 7780.439</text>\r\n",
       "<text text-anchor=\"start\" x=\"2224.5\" y=\"-22.8\" font-family=\"Helvetica,sans-Serif\" font-size=\"14.00\">samples = 1244</text>\r\n",
       "<text text-anchor=\"start\" x=\"2224.5\" y=\"-7.8\" font-family=\"Helvetica,sans-Serif\" font-size=\"14.00\">value = 193.875</text>\r\n",
       "</g>\r\n",
       "<!-- 48&#45;&gt;50 -->\r\n",
       "<g id=\"edge50\" class=\"edge\"><title>48&#45;&gt;50</title>\r\n",
       "<path fill=\"none\" stroke=\"black\" d=\"M2183.01,-88.9485C2197.83,-79.1601 2213.99,-68.4756 2228.63,-58.8015\"/>\r\n",
       "<polygon fill=\"black\" stroke=\"black\" points=\"2230.64,-61.6701 2237.05,-53.2367 2226.78,-55.83 2230.64,-61.6701\"/>\r\n",
       "</g>\r\n",
       "<!-- 52 -->\r\n",
       "<g id=\"node53\" class=\"node\"><title>52</title>\r\n",
       "<path fill=\"#e58139\" fill-opacity=\"0.764706\" stroke=\"black\" d=\"M2552,-365C2552,-365 2446,-365 2446,-365 2440,-365 2434,-359 2434,-353 2434,-353 2434,-309 2434,-309 2434,-303 2440,-297 2446,-297 2446,-297 2552,-297 2552,-297 2558,-297 2564,-303 2564,-309 2564,-309 2564,-353 2564,-353 2564,-359 2558,-365 2552,-365\"/>\r\n",
       "<text text-anchor=\"start\" x=\"2463\" y=\"-349.8\" font-family=\"Helvetica,sans-Serif\" font-size=\"14.00\">hour ≤ 16.5</text>\r\n",
       "<text text-anchor=\"start\" x=\"2442\" y=\"-334.8\" font-family=\"Helvetica,sans-Serif\" font-size=\"14.00\">mse = 43993.359</text>\r\n",
       "<text text-anchor=\"start\" x=\"2447.5\" y=\"-319.8\" font-family=\"Helvetica,sans-Serif\" font-size=\"14.00\">samples = 1368</text>\r\n",
       "<text text-anchor=\"start\" x=\"2447.5\" y=\"-304.8\" font-family=\"Helvetica,sans-Serif\" font-size=\"14.00\">value = 405.333</text>\r\n",
       "</g>\r\n",
       "<!-- 51&#45;&gt;52 -->\r\n",
       "<g id=\"edge52\" class=\"edge\"><title>51&#45;&gt;52</title>\r\n",
       "<path fill=\"none\" stroke=\"black\" d=\"M2499,-400.884C2499,-392.778 2499,-383.982 2499,-375.472\"/>\r\n",
       "<polygon fill=\"black\" stroke=\"black\" points=\"2502.5,-375.299 2499,-365.299 2495.5,-375.299 2502.5,-375.299\"/>\r\n",
       "</g>\r\n",
       "<!-- 63 -->\r\n",
       "<g id=\"node64\" class=\"node\"><title>63</title>\r\n",
       "<path fill=\"#e58139\" fill-opacity=\"0.509804\" stroke=\"black\" d=\"M2950,-365C2950,-365 2844,-365 2844,-365 2838,-365 2832,-359 2832,-353 2832,-353 2832,-309 2832,-309 2832,-303 2838,-297 2844,-297 2844,-297 2950,-297 2950,-297 2956,-297 2962,-303 2962,-309 2962,-309 2962,-353 2962,-353 2962,-359 2956,-365 2950,-365\"/>\r\n",
       "<text text-anchor=\"start\" x=\"2861\" y=\"-349.8\" font-family=\"Helvetica,sans-Serif\" font-size=\"14.00\">hour ≤ 19.5</text>\r\n",
       "<text text-anchor=\"start\" x=\"2840\" y=\"-334.8\" font-family=\"Helvetica,sans-Serif\" font-size=\"14.00\">mse = 20884.245</text>\r\n",
       "<text text-anchor=\"start\" x=\"2849.5\" y=\"-319.8\" font-family=\"Helvetica,sans-Serif\" font-size=\"14.00\">samples = 912</text>\r\n",
       "<text text-anchor=\"start\" x=\"2845.5\" y=\"-304.8\" font-family=\"Helvetica,sans-Serif\" font-size=\"14.00\">value = 271.898</text>\r\n",
       "</g>\r\n",
       "<!-- 51&#45;&gt;63 -->\r\n",
       "<g id=\"edge63\" class=\"edge\"><title>51&#45;&gt;63</title>\r\n",
       "<path fill=\"none\" stroke=\"black\" d=\"M2564.28,-417.271C2634.98,-399.151 2747.6,-370.289 2821.92,-351.242\"/>\r\n",
       "<polygon fill=\"black\" stroke=\"black\" points=\"2822.87,-354.611 2831.69,-348.738 2821.13,-347.83 2822.87,-354.611\"/>\r\n",
       "</g>\r\n",
       "<!-- 53 -->\r\n",
       "<g id=\"node54\" class=\"node\"><title>53</title>\r\n",
       "<path fill=\"#e58139\" fill-opacity=\"0.592157\" stroke=\"black\" d=\"M2478,-261C2478,-261 2372,-261 2372,-261 2366,-261 2360,-255 2360,-249 2360,-249 2360,-205 2360,-205 2360,-199 2366,-193 2372,-193 2372,-193 2478,-193 2478,-193 2484,-193 2490,-199 2490,-205 2490,-205 2490,-249 2490,-249 2490,-255 2484,-261 2478,-261\"/>\r\n",
       "<text text-anchor=\"start\" x=\"2372\" y=\"-245.8\" font-family=\"Helvetica,sans-Serif\" font-size=\"14.00\">workingday ≤ 0.5</text>\r\n",
       "<text text-anchor=\"start\" x=\"2368\" y=\"-230.8\" font-family=\"Helvetica,sans-Serif\" font-size=\"14.00\">mse = 21171.699</text>\r\n",
       "<text text-anchor=\"start\" x=\"2377.5\" y=\"-215.8\" font-family=\"Helvetica,sans-Serif\" font-size=\"14.00\">samples = 456</text>\r\n",
       "<text text-anchor=\"start\" x=\"2373.5\" y=\"-200.8\" font-family=\"Helvetica,sans-Serif\" font-size=\"14.00\">value = 316.373</text>\r\n",
       "</g>\r\n",
       "<!-- 52&#45;&gt;53 -->\r\n",
       "<g id=\"edge53\" class=\"edge\"><title>52&#45;&gt;53</title>\r\n",
       "<path fill=\"none\" stroke=\"black\" d=\"M2474.97,-296.884C2468.64,-288.154 2461.73,-278.625 2455.12,-269.514\"/>\r\n",
       "<polygon fill=\"black\" stroke=\"black\" points=\"2457.86,-267.338 2449.16,-261.299 2452.2,-271.449 2457.86,-267.338\"/>\r\n",
       "</g>\r\n",
       "<!-- 56 -->\r\n",
       "<g id=\"node57\" class=\"node\"><title>56</title>\r\n",
       "<path fill=\"#e58139\" fill-opacity=\"0.847059\" stroke=\"black\" d=\"M2626,-261C2626,-261 2520,-261 2520,-261 2514,-261 2508,-255 2508,-249 2508,-249 2508,-205 2508,-205 2508,-199 2514,-193 2520,-193 2520,-193 2626,-193 2626,-193 2632,-193 2638,-199 2638,-205 2638,-205 2638,-249 2638,-249 2638,-255 2632,-261 2626,-261\"/>\r\n",
       "<text text-anchor=\"start\" x=\"2520\" y=\"-245.8\" font-family=\"Helvetica,sans-Serif\" font-size=\"14.00\">workingday ≤ 0.5</text>\r\n",
       "<text text-anchor=\"start\" x=\"2516\" y=\"-230.8\" font-family=\"Helvetica,sans-Serif\" font-size=\"14.00\">mse = 49468.806</text>\r\n",
       "<text text-anchor=\"start\" x=\"2525.5\" y=\"-215.8\" font-family=\"Helvetica,sans-Serif\" font-size=\"14.00\">samples = 912</text>\r\n",
       "<text text-anchor=\"start\" x=\"2521.5\" y=\"-200.8\" font-family=\"Helvetica,sans-Serif\" font-size=\"14.00\">value = 449.812</text>\r\n",
       "</g>\r\n",
       "<!-- 52&#45;&gt;56 -->\r\n",
       "<g id=\"edge56\" class=\"edge\"><title>52&#45;&gt;56</title>\r\n",
       "<path fill=\"none\" stroke=\"black\" d=\"M2523.03,-296.884C2529.36,-288.154 2536.27,-278.625 2542.88,-269.514\"/>\r\n",
       "<polygon fill=\"black\" stroke=\"black\" points=\"2545.8,-271.449 2548.84,-261.299 2540.14,-267.338 2545.8,-271.449\"/>\r\n",
       "</g>\r\n",
       "<!-- 54 -->\r\n",
       "<g id=\"node55\" class=\"node\"><title>54</title>\r\n",
       "<path fill=\"#e58139\" fill-opacity=\"0.690196\" stroke=\"black\" d=\"M2330,-149.5C2330,-149.5 2224,-149.5 2224,-149.5 2218,-149.5 2212,-143.5 2212,-137.5 2212,-137.5 2212,-108.5 2212,-108.5 2212,-102.5 2218,-96.5 2224,-96.5 2224,-96.5 2330,-96.5 2330,-96.5 2336,-96.5 2342,-102.5 2342,-108.5 2342,-108.5 2342,-137.5 2342,-137.5 2342,-143.5 2336,-149.5 2330,-149.5\"/>\r\n",
       "<text text-anchor=\"start\" x=\"2220\" y=\"-134.3\" font-family=\"Helvetica,sans-Serif\" font-size=\"14.00\">mse = 26307.166</text>\r\n",
       "<text text-anchor=\"start\" x=\"2229.5\" y=\"-119.3\" font-family=\"Helvetica,sans-Serif\" font-size=\"14.00\">samples = 145</text>\r\n",
       "<text text-anchor=\"start\" x=\"2225.5\" y=\"-104.3\" font-family=\"Helvetica,sans-Serif\" font-size=\"14.00\">value = 367.648</text>\r\n",
       "</g>\r\n",
       "<!-- 53&#45;&gt;54 -->\r\n",
       "<g id=\"edge54\" class=\"edge\"><title>53&#45;&gt;54</title>\r\n",
       "<path fill=\"none\" stroke=\"black\" d=\"M2376.95,-192.884C2359.4,-180.786 2339.61,-167.151 2322.31,-155.224\"/>\r\n",
       "<polygon fill=\"black\" stroke=\"black\" points=\"2324.25,-152.313 2314.03,-149.52 2320.28,-158.077 2324.25,-152.313\"/>\r\n",
       "</g>\r\n",
       "<!-- 55 -->\r\n",
       "<g id=\"node56\" class=\"node\"><title>55</title>\r\n",
       "<path fill=\"#e58139\" fill-opacity=\"0.549020\" stroke=\"black\" d=\"M2478,-149.5C2478,-149.5 2372,-149.5 2372,-149.5 2366,-149.5 2360,-143.5 2360,-137.5 2360,-137.5 2360,-108.5 2360,-108.5 2360,-102.5 2366,-96.5 2372,-96.5 2372,-96.5 2478,-96.5 2478,-96.5 2484,-96.5 2490,-102.5 2490,-108.5 2490,-108.5 2490,-137.5 2490,-137.5 2490,-143.5 2484,-149.5 2478,-149.5\"/>\r\n",
       "<text text-anchor=\"start\" x=\"2368\" y=\"-134.3\" font-family=\"Helvetica,sans-Serif\" font-size=\"14.00\">mse = 16980.004</text>\r\n",
       "<text text-anchor=\"start\" x=\"2377.5\" y=\"-119.3\" font-family=\"Helvetica,sans-Serif\" font-size=\"14.00\">samples = 311</text>\r\n",
       "<text text-anchor=\"start\" x=\"2373.5\" y=\"-104.3\" font-family=\"Helvetica,sans-Serif\" font-size=\"14.00\">value = 292.466</text>\r\n",
       "</g>\r\n",
       "<!-- 53&#45;&gt;55 -->\r\n",
       "<g id=\"edge55\" class=\"edge\"><title>53&#45;&gt;55</title>\r\n",
       "<path fill=\"none\" stroke=\"black\" d=\"M2425,-192.884C2425,-182.326 2425,-170.597 2425,-159.854\"/>\r\n",
       "<polygon fill=\"black\" stroke=\"black\" points=\"2428.5,-159.52 2425,-149.52 2421.5,-159.52 2428.5,-159.52\"/>\r\n",
       "</g>\r\n",
       "<!-- 57 -->\r\n",
       "<g id=\"node58\" class=\"node\"><title>57</title>\r\n",
       "<path fill=\"#e58139\" fill-opacity=\"0.592157\" stroke=\"black\" d=\"M2626,-157C2626,-157 2520,-157 2520,-157 2514,-157 2508,-151 2508,-145 2508,-145 2508,-101 2508,-101 2508,-95 2514,-89 2520,-89 2520,-89 2626,-89 2626,-89 2632,-89 2638,-95 2638,-101 2638,-101 2638,-145 2638,-145 2638,-151 2632,-157 2626,-157\"/>\r\n",
       "<text text-anchor=\"start\" x=\"2537\" y=\"-141.8\" font-family=\"Helvetica,sans-Serif\" font-size=\"14.00\">hour ≤ 17.5</text>\r\n",
       "<text text-anchor=\"start\" x=\"2516\" y=\"-126.8\" font-family=\"Helvetica,sans-Serif\" font-size=\"14.00\">mse = 25679.284</text>\r\n",
       "<text text-anchor=\"start\" x=\"2525.5\" y=\"-111.8\" font-family=\"Helvetica,sans-Serif\" font-size=\"14.00\">samples = 290</text>\r\n",
       "<text text-anchor=\"start\" x=\"2521.5\" y=\"-96.8\" font-family=\"Helvetica,sans-Serif\" font-size=\"14.00\">value = 315.686</text>\r\n",
       "</g>\r\n",
       "<!-- 56&#45;&gt;57 -->\r\n",
       "<g id=\"edge57\" class=\"edge\"><title>56&#45;&gt;57</title>\r\n",
       "<path fill=\"none\" stroke=\"black\" d=\"M2573,-192.884C2573,-184.778 2573,-175.982 2573,-167.472\"/>\r\n",
       "<polygon fill=\"black\" stroke=\"black\" points=\"2576.5,-167.299 2573,-157.299 2569.5,-167.299 2576.5,-167.299\"/>\r\n",
       "</g>\r\n",
       "<!-- 60 -->\r\n",
       "<g id=\"node61\" class=\"node\"><title>60</title>\r\n",
       "<path fill=\"#e58139\" fill-opacity=\"0.968627\" stroke=\"black\" d=\"M2766,-157C2766,-157 2668,-157 2668,-157 2662,-157 2656,-151 2656,-145 2656,-145 2656,-101 2656,-101 2656,-95 2662,-89 2668,-89 2668,-89 2766,-89 2766,-89 2772,-89 2778,-95 2778,-101 2778,-101 2778,-145 2778,-145 2778,-151 2772,-157 2766,-157\"/>\r\n",
       "<text text-anchor=\"start\" x=\"2681\" y=\"-141.8\" font-family=\"Helvetica,sans-Serif\" font-size=\"14.00\">hour ≤ 17.5</text>\r\n",
       "<text text-anchor=\"start\" x=\"2664\" y=\"-126.8\" font-family=\"Helvetica,sans-Serif\" font-size=\"14.00\">mse = 48262.23</text>\r\n",
       "<text text-anchor=\"start\" x=\"2669.5\" y=\"-111.8\" font-family=\"Helvetica,sans-Serif\" font-size=\"14.00\">samples = 622</text>\r\n",
       "<text text-anchor=\"start\" x=\"2665.5\" y=\"-96.8\" font-family=\"Helvetica,sans-Serif\" font-size=\"14.00\">value = 512.347</text>\r\n",
       "</g>\r\n",
       "<!-- 56&#45;&gt;60 -->\r\n",
       "<g id=\"edge60\" class=\"edge\"><title>56&#45;&gt;60</title>\r\n",
       "<path fill=\"none\" stroke=\"black\" d=\"M2619.75,-192.884C2633.08,-183.442 2647.73,-173.064 2661.53,-163.292\"/>\r\n",
       "<polygon fill=\"black\" stroke=\"black\" points=\"2663.85,-165.936 2669.99,-157.299 2659.81,-160.223 2663.85,-165.936\"/>\r\n",
       "</g>\r\n",
       "<!-- 58 -->\r\n",
       "<g id=\"node59\" class=\"node\"><title>58</title>\r\n",
       "<path fill=\"#e58139\" fill-opacity=\"0.639216\" stroke=\"black\" d=\"M2476,-53C2476,-53 2370,-53 2370,-53 2364,-53 2358,-47 2358,-41 2358,-41 2358,-12 2358,-12 2358,-6 2364,-0 2370,-0 2370,-0 2476,-0 2476,-0 2482,-0 2488,-6 2488,-12 2488,-12 2488,-41 2488,-41 2488,-47 2482,-53 2476,-53\"/>\r\n",
       "<text text-anchor=\"start\" x=\"2366\" y=\"-37.8\" font-family=\"Helvetica,sans-Serif\" font-size=\"14.00\">mse = 27485.902</text>\r\n",
       "<text text-anchor=\"start\" x=\"2375.5\" y=\"-22.8\" font-family=\"Helvetica,sans-Serif\" font-size=\"14.00\">samples = 145</text>\r\n",
       "<text text-anchor=\"start\" x=\"2371.5\" y=\"-7.8\" font-family=\"Helvetica,sans-Serif\" font-size=\"14.00\">value = 339.124</text>\r\n",
       "</g>\r\n",
       "<!-- 57&#45;&gt;58 -->\r\n",
       "<g id=\"edge58\" class=\"edge\"><title>57&#45;&gt;58</title>\r\n",
       "<path fill=\"none\" stroke=\"black\" d=\"M2520.54,-88.9485C2505,-79.1601 2488.04,-68.4756 2472.68,-58.8015\"/>\r\n",
       "<polygon fill=\"black\" stroke=\"black\" points=\"2474.18,-55.6058 2463.85,-53.2367 2470.45,-61.5285 2474.18,-55.6058\"/>\r\n",
       "</g>\r\n",
       "<!-- 59 -->\r\n",
       "<g id=\"node60\" class=\"node\"><title>59</title>\r\n",
       "<path fill=\"#e58139\" fill-opacity=\"0.549020\" stroke=\"black\" d=\"M2624,-53C2624,-53 2518,-53 2518,-53 2512,-53 2506,-47 2506,-41 2506,-41 2506,-12 2506,-12 2506,-6 2512,-0 2518,-0 2518,-0 2624,-0 2624,-0 2630,-0 2636,-6 2636,-12 2636,-12 2636,-41 2636,-41 2636,-47 2630,-53 2624,-53\"/>\r\n",
       "<text text-anchor=\"start\" x=\"2514\" y=\"-37.8\" font-family=\"Helvetica,sans-Serif\" font-size=\"14.00\">mse = 22773.994</text>\r\n",
       "<text text-anchor=\"start\" x=\"2523.5\" y=\"-22.8\" font-family=\"Helvetica,sans-Serif\" font-size=\"14.00\">samples = 145</text>\r\n",
       "<text text-anchor=\"start\" x=\"2519.5\" y=\"-7.8\" font-family=\"Helvetica,sans-Serif\" font-size=\"14.00\">value = 292.248</text>\r\n",
       "</g>\r\n",
       "<!-- 57&#45;&gt;59 -->\r\n",
       "<g id=\"edge59\" class=\"edge\"><title>57&#45;&gt;59</title>\r\n",
       "<path fill=\"none\" stroke=\"black\" d=\"M2572.3,-88.9485C2572.13,-80.7153 2571.94,-71.848 2571.76,-63.4814\"/>\r\n",
       "<polygon fill=\"black\" stroke=\"black\" points=\"2575.26,-63.1604 2571.54,-53.2367 2568.26,-63.3086 2575.26,-63.1604\"/>\r\n",
       "</g>\r\n",
       "<!-- 61 -->\r\n",
       "<g id=\"node62\" class=\"node\"><title>61</title>\r\n",
       "<path fill=\"#e58139\" stroke=\"black\" d=\"M2772,-53C2772,-53 2666,-53 2666,-53 2660,-53 2654,-47 2654,-41 2654,-41 2654,-12 2654,-12 2654,-6 2660,-0 2666,-0 2666,-0 2772,-0 2772,-0 2778,-0 2784,-6 2784,-12 2784,-12 2784,-41 2784,-41 2784,-47 2778,-53 2772,-53\"/>\r\n",
       "<text text-anchor=\"start\" x=\"2662\" y=\"-37.8\" font-family=\"Helvetica,sans-Serif\" font-size=\"14.00\">mse = 48957.143</text>\r\n",
       "<text text-anchor=\"start\" x=\"2671.5\" y=\"-22.8\" font-family=\"Helvetica,sans-Serif\" font-size=\"14.00\">samples = 311</text>\r\n",
       "<text text-anchor=\"start\" x=\"2667.5\" y=\"-7.8\" font-family=\"Helvetica,sans-Serif\" font-size=\"14.00\">value = 529.209</text>\r\n",
       "</g>\r\n",
       "<!-- 60&#45;&gt;61 -->\r\n",
       "<g id=\"edge61\" class=\"edge\"><title>60&#45;&gt;61</title>\r\n",
       "<path fill=\"none\" stroke=\"black\" d=\"M2717.7,-88.9485C2717.87,-80.7153 2718.06,-71.848 2718.24,-63.4814\"/>\r\n",
       "<polygon fill=\"black\" stroke=\"black\" points=\"2721.74,-63.3086 2718.46,-53.2367 2714.74,-63.1604 2721.74,-63.3086\"/>\r\n",
       "</g>\r\n",
       "<!-- 62 -->\r\n",
       "<g id=\"node63\" class=\"node\"><title>62</title>\r\n",
       "<path fill=\"#e58139\" fill-opacity=\"0.937255\" stroke=\"black\" d=\"M2920,-53C2920,-53 2814,-53 2814,-53 2808,-53 2802,-47 2802,-41 2802,-41 2802,-12 2802,-12 2802,-6 2808,-0 2814,-0 2814,-0 2920,-0 2920,-0 2926,-0 2932,-6 2932,-12 2932,-12 2932,-41 2932,-41 2932,-47 2926,-53 2920,-53\"/>\r\n",
       "<text text-anchor=\"start\" x=\"2810\" y=\"-37.8\" font-family=\"Helvetica,sans-Serif\" font-size=\"14.00\">mse = 46998.681</text>\r\n",
       "<text text-anchor=\"start\" x=\"2819.5\" y=\"-22.8\" font-family=\"Helvetica,sans-Serif\" font-size=\"14.00\">samples = 311</text>\r\n",
       "<text text-anchor=\"start\" x=\"2815.5\" y=\"-7.8\" font-family=\"Helvetica,sans-Serif\" font-size=\"14.00\">value = 495.486</text>\r\n",
       "</g>\r\n",
       "<!-- 60&#45;&gt;62 -->\r\n",
       "<g id=\"edge62\" class=\"edge\"><title>60&#45;&gt;62</title>\r\n",
       "<path fill=\"none\" stroke=\"black\" d=\"M2769.46,-88.9485C2785,-79.1601 2801.96,-68.4756 2817.32,-58.8015\"/>\r\n",
       "<polygon fill=\"black\" stroke=\"black\" points=\"2819.55,-61.5285 2826.15,-53.2367 2815.82,-55.6058 2819.55,-61.5285\"/>\r\n",
       "</g>\r\n",
       "<!-- 64 -->\r\n",
       "<g id=\"node65\" class=\"node\"><title>64</title>\r\n",
       "<path fill=\"#e58139\" fill-opacity=\"0.592157\" stroke=\"black\" d=\"M2950,-261C2950,-261 2844,-261 2844,-261 2838,-261 2832,-255 2832,-249 2832,-249 2832,-205 2832,-205 2832,-199 2838,-193 2844,-193 2844,-193 2950,-193 2950,-193 2956,-193 2962,-199 2962,-205 2962,-205 2962,-249 2962,-249 2962,-255 2956,-261 2950,-261\"/>\r\n",
       "<text text-anchor=\"start\" x=\"2844\" y=\"-245.8\" font-family=\"Helvetica,sans-Serif\" font-size=\"14.00\">workingday ≤ 0.5</text>\r\n",
       "<text text-anchor=\"start\" x=\"2840\" y=\"-230.8\" font-family=\"Helvetica,sans-Serif\" font-size=\"14.00\">mse = 24482.824</text>\r\n",
       "<text text-anchor=\"start\" x=\"2849.5\" y=\"-215.8\" font-family=\"Helvetica,sans-Serif\" font-size=\"14.00\">samples = 456</text>\r\n",
       "<text text-anchor=\"start\" x=\"2845.5\" y=\"-200.8\" font-family=\"Helvetica,sans-Serif\" font-size=\"14.00\">value = 315.279</text>\r\n",
       "</g>\r\n",
       "<!-- 63&#45;&gt;64 -->\r\n",
       "<g id=\"edge64\" class=\"edge\"><title>63&#45;&gt;64</title>\r\n",
       "<path fill=\"none\" stroke=\"black\" d=\"M2897,-296.884C2897,-288.778 2897,-279.982 2897,-271.472\"/>\r\n",
       "<polygon fill=\"black\" stroke=\"black\" points=\"2900.5,-271.299 2897,-261.299 2893.5,-271.299 2900.5,-271.299\"/>\r\n",
       "</g>\r\n",
       "<!-- 67 -->\r\n",
       "<g id=\"node68\" class=\"node\"><title>67</title>\r\n",
       "<path fill=\"#e58139\" fill-opacity=\"0.427451\" stroke=\"black\" d=\"M3170,-261C3170,-261 3064,-261 3064,-261 3058,-261 3052,-255 3052,-249 3052,-249 3052,-205 3052,-205 3052,-199 3058,-193 3064,-193 3064,-193 3170,-193 3170,-193 3176,-193 3182,-199 3182,-205 3182,-205 3182,-249 3182,-249 3182,-255 3176,-261 3170,-261\"/>\r\n",
       "<text text-anchor=\"start\" x=\"3064\" y=\"-245.8\" font-family=\"Helvetica,sans-Serif\" font-size=\"14.00\">workingday ≤ 0.5</text>\r\n",
       "<text text-anchor=\"start\" x=\"3060\" y=\"-230.8\" font-family=\"Helvetica,sans-Serif\" font-size=\"14.00\">mse = 13521.934</text>\r\n",
       "<text text-anchor=\"start\" x=\"3069.5\" y=\"-215.8\" font-family=\"Helvetica,sans-Serif\" font-size=\"14.00\">samples = 456</text>\r\n",
       "<text text-anchor=\"start\" x=\"3065.5\" y=\"-200.8\" font-family=\"Helvetica,sans-Serif\" font-size=\"14.00\">value = 228.518</text>\r\n",
       "</g>\r\n",
       "<!-- 63&#45;&gt;67 -->\r\n",
       "<g id=\"edge67\" class=\"edge\"><title>63&#45;&gt;67</title>\r\n",
       "<path fill=\"none\" stroke=\"black\" d=\"M2962.11,-299.811C2987.39,-288.092 3016.48,-274.604 3042.58,-262.505\"/>\r\n",
       "<polygon fill=\"black\" stroke=\"black\" points=\"3044.07,-265.67 3051.67,-258.288 3041.13,-259.319 3044.07,-265.67\"/>\r\n",
       "</g>\r\n",
       "<!-- 65 -->\r\n",
       "<g id=\"node66\" class=\"node\"><title>65</title>\r\n",
       "<path fill=\"#e58139\" fill-opacity=\"0.450980\" stroke=\"black\" d=\"M2914,-149.5C2914,-149.5 2808,-149.5 2808,-149.5 2802,-149.5 2796,-143.5 2796,-137.5 2796,-137.5 2796,-108.5 2796,-108.5 2796,-102.5 2802,-96.5 2808,-96.5 2808,-96.5 2914,-96.5 2914,-96.5 2920,-96.5 2926,-102.5 2926,-108.5 2926,-108.5 2926,-137.5 2926,-137.5 2926,-143.5 2920,-149.5 2914,-149.5\"/>\r\n",
       "<text text-anchor=\"start\" x=\"2804\" y=\"-134.3\" font-family=\"Helvetica,sans-Serif\" font-size=\"14.00\">mse = 15939.302</text>\r\n",
       "<text text-anchor=\"start\" x=\"2813.5\" y=\"-119.3\" font-family=\"Helvetica,sans-Serif\" font-size=\"14.00\">samples = 145</text>\r\n",
       "<text text-anchor=\"start\" x=\"2809.5\" y=\"-104.3\" font-family=\"Helvetica,sans-Serif\" font-size=\"14.00\">value = 242.345</text>\r\n",
       "</g>\r\n",
       "<!-- 64&#45;&gt;65 -->\r\n",
       "<g id=\"edge65\" class=\"edge\"><title>64&#45;&gt;65</title>\r\n",
       "<path fill=\"none\" stroke=\"black\" d=\"M2885.31,-192.884C2881.51,-182.106 2877.27,-170.108 2873.42,-159.184\"/>\r\n",
       "<polygon fill=\"black\" stroke=\"black\" points=\"2876.64,-157.785 2870.01,-149.52 2870.03,-160.115 2876.64,-157.785\"/>\r\n",
       "</g>\r\n",
       "<!-- 66 -->\r\n",
       "<g id=\"node67\" class=\"node\"><title>66</title>\r\n",
       "<path fill=\"#e58139\" fill-opacity=\"0.654902\" stroke=\"black\" d=\"M3062,-149.5C3062,-149.5 2956,-149.5 2956,-149.5 2950,-149.5 2944,-143.5 2944,-137.5 2944,-137.5 2944,-108.5 2944,-108.5 2944,-102.5 2950,-96.5 2956,-96.5 2956,-96.5 3062,-96.5 3062,-96.5 3068,-96.5 3074,-102.5 3074,-108.5 3074,-108.5 3074,-137.5 3074,-137.5 3074,-143.5 3068,-149.5 3062,-149.5\"/>\r\n",
       "<text text-anchor=\"start\" x=\"2952\" y=\"-134.3\" font-family=\"Helvetica,sans-Serif\" font-size=\"14.00\">mse = 24829.766</text>\r\n",
       "<text text-anchor=\"start\" x=\"2961.5\" y=\"-119.3\" font-family=\"Helvetica,sans-Serif\" font-size=\"14.00\">samples = 311</text>\r\n",
       "<text text-anchor=\"start\" x=\"2957.5\" y=\"-104.3\" font-family=\"Helvetica,sans-Serif\" font-size=\"14.00\">value = 349.283</text>\r\n",
       "</g>\r\n",
       "<!-- 64&#45;&gt;66 -->\r\n",
       "<g id=\"edge66\" class=\"edge\"><title>64&#45;&gt;66</title>\r\n",
       "<path fill=\"none\" stroke=\"black\" d=\"M2933.36,-192.884C2946.16,-181.226 2960.53,-168.141 2973.28,-156.532\"/>\r\n",
       "<polygon fill=\"black\" stroke=\"black\" points=\"2975.94,-158.841 2980.98,-149.52 2971.23,-153.666 2975.94,-158.841\"/>\r\n",
       "</g>\r\n",
       "<!-- 68 -->\r\n",
       "<g id=\"node69\" class=\"node\"><title>68</title>\r\n",
       "<path fill=\"#e58139\" fill-opacity=\"0.341176\" stroke=\"black\" d=\"M3202,-149.5C3202,-149.5 3104,-149.5 3104,-149.5 3098,-149.5 3092,-143.5 3092,-137.5 3092,-137.5 3092,-108.5 3092,-108.5 3092,-102.5 3098,-96.5 3104,-96.5 3104,-96.5 3202,-96.5 3202,-96.5 3208,-96.5 3214,-102.5 3214,-108.5 3214,-108.5 3214,-137.5 3214,-137.5 3214,-143.5 3208,-149.5 3202,-149.5\"/>\r\n",
       "<text text-anchor=\"start\" x=\"3100\" y=\"-134.3\" font-family=\"Helvetica,sans-Serif\" font-size=\"14.00\">mse = 9967.397</text>\r\n",
       "<text text-anchor=\"start\" x=\"3105.5\" y=\"-119.3\" font-family=\"Helvetica,sans-Serif\" font-size=\"14.00\">samples = 145</text>\r\n",
       "<text text-anchor=\"start\" x=\"3101.5\" y=\"-104.3\" font-family=\"Helvetica,sans-Serif\" font-size=\"14.00\">value = 183.807</text>\r\n",
       "</g>\r\n",
       "<!-- 67&#45;&gt;68 -->\r\n",
       "<g id=\"edge68\" class=\"edge\"><title>67&#45;&gt;68</title>\r\n",
       "<path fill=\"none\" stroke=\"black\" d=\"M3128.69,-192.884C3132.49,-182.106 3136.73,-170.108 3140.58,-159.184\"/>\r\n",
       "<polygon fill=\"black\" stroke=\"black\" points=\"3143.97,-160.115 3143.99,-149.52 3137.36,-157.785 3143.97,-160.115\"/>\r\n",
       "</g>\r\n",
       "<!-- 69 -->\r\n",
       "<g id=\"node70\" class=\"node\"><title>69</title>\r\n",
       "<path fill=\"#e58139\" fill-opacity=\"0.466667\" stroke=\"black\" d=\"M3350,-149.5C3350,-149.5 3244,-149.5 3244,-149.5 3238,-149.5 3232,-143.5 3232,-137.5 3232,-137.5 3232,-108.5 3232,-108.5 3232,-102.5 3238,-96.5 3244,-96.5 3244,-96.5 3350,-96.5 3350,-96.5 3356,-96.5 3362,-102.5 3362,-108.5 3362,-108.5 3362,-137.5 3362,-137.5 3362,-143.5 3356,-149.5 3350,-149.5\"/>\r\n",
       "<text text-anchor=\"start\" x=\"3240\" y=\"-134.3\" font-family=\"Helvetica,sans-Serif\" font-size=\"14.00\">mse = 13812.617</text>\r\n",
       "<text text-anchor=\"start\" x=\"3249.5\" y=\"-119.3\" font-family=\"Helvetica,sans-Serif\" font-size=\"14.00\">samples = 311</text>\r\n",
       "<text text-anchor=\"start\" x=\"3245.5\" y=\"-104.3\" font-family=\"Helvetica,sans-Serif\" font-size=\"14.00\">value = 249.363</text>\r\n",
       "</g>\r\n",
       "<!-- 67&#45;&gt;69 -->\r\n",
       "<g id=\"edge69\" class=\"edge\"><title>67&#45;&gt;69</title>\r\n",
       "<path fill=\"none\" stroke=\"black\" d=\"M3175.44,-192.884C3197.18,-180.566 3221.73,-166.655 3243.04,-154.575\"/>\r\n",
       "<polygon fill=\"black\" stroke=\"black\" points=\"3244.99,-157.495 3251.96,-149.52 3241.54,-151.405 3244.99,-157.495\"/>\r\n",
       "</g>\r\n",
       "<!-- 71 -->\r\n",
       "<g id=\"node72\" class=\"node\"><title>71</title>\r\n",
       "<path fill=\"#e58139\" fill-opacity=\"0.282353\" stroke=\"black\" d=\"M3520,-469C3520,-469 3422,-469 3422,-469 3416,-469 3410,-463 3410,-457 3410,-457 3410,-413 3410,-413 3410,-407 3416,-401 3422,-401 3422,-401 3520,-401 3520,-401 3526,-401 3532,-407 3532,-413 3532,-413 3532,-457 3532,-457 3532,-463 3526,-469 3520,-469\"/>\r\n",
       "<text text-anchor=\"start\" x=\"3435\" y=\"-453.8\" font-family=\"Helvetica,sans-Serif\" font-size=\"14.00\">hour ≤ 21.5</text>\r\n",
       "<text text-anchor=\"start\" x=\"3418\" y=\"-438.8\" font-family=\"Helvetica,sans-Serif\" font-size=\"14.00\">mse = 6660.694</text>\r\n",
       "<text text-anchor=\"start\" x=\"3423.5\" y=\"-423.8\" font-family=\"Helvetica,sans-Serif\" font-size=\"14.00\">samples = 912</text>\r\n",
       "<text text-anchor=\"start\" x=\"3419.5\" y=\"-408.8\" font-family=\"Helvetica,sans-Serif\" font-size=\"14.00\">value = 153.474</text>\r\n",
       "</g>\r\n",
       "<!-- 70&#45;&gt;71 -->\r\n",
       "<g id=\"edge71\" class=\"edge\"><title>70&#45;&gt;71</title>\r\n",
       "<path fill=\"none\" stroke=\"black\" d=\"M3471,-504.884C3471,-496.778 3471,-487.982 3471,-479.472\"/>\r\n",
       "<polygon fill=\"black\" stroke=\"black\" points=\"3474.5,-479.299 3471,-469.299 3467.5,-479.299 3474.5,-479.299\"/>\r\n",
       "</g>\r\n",
       "<!-- 78 -->\r\n",
       "<g id=\"node79\" class=\"node\"><title>78</title>\r\n",
       "<path fill=\"#e58139\" fill-opacity=\"0.160784\" stroke=\"black\" d=\"M3730,-469C3730,-469 3632,-469 3632,-469 3626,-469 3620,-463 3620,-457 3620,-457 3620,-413 3620,-413 3620,-407 3626,-401 3632,-401 3632,-401 3730,-401 3730,-401 3736,-401 3742,-407 3742,-413 3742,-413 3742,-457 3742,-457 3742,-463 3736,-469 3730,-469\"/>\r\n",
       "<text text-anchor=\"start\" x=\"3628\" y=\"-453.8\" font-family=\"Helvetica,sans-Serif\" font-size=\"14.00\">workingday ≤ 0.5</text>\r\n",
       "<text text-anchor=\"start\" x=\"3628\" y=\"-438.8\" font-family=\"Helvetica,sans-Serif\" font-size=\"14.00\">mse = 2660.636</text>\r\n",
       "<text text-anchor=\"start\" x=\"3633.5\" y=\"-423.8\" font-family=\"Helvetica,sans-Serif\" font-size=\"14.00\">samples = 456</text>\r\n",
       "<text text-anchor=\"start\" x=\"3634\" y=\"-408.8\" font-family=\"Helvetica,sans-Serif\" font-size=\"14.00\">value = 89.509</text>\r\n",
       "</g>\r\n",
       "<!-- 70&#45;&gt;78 -->\r\n",
       "<g id=\"edge78\" class=\"edge\"><title>70&#45;&gt;78</title>\r\n",
       "<path fill=\"none\" stroke=\"black\" d=\"M3532.02,-508.36C3556.61,-496.416 3585.13,-482.564 3610.6,-470.197\"/>\r\n",
       "<polygon fill=\"black\" stroke=\"black\" points=\"3612.36,-473.231 3619.83,-465.714 3609.3,-466.934 3612.36,-473.231\"/>\r\n",
       "</g>\r\n",
       "<!-- 72 -->\r\n",
       "<g id=\"node73\" class=\"node\"><title>72</title>\r\n",
       "<path fill=\"#e58139\" fill-opacity=\"0.321569\" stroke=\"black\" d=\"M3450,-365C3450,-365 3352,-365 3352,-365 3346,-365 3340,-359 3340,-353 3340,-353 3340,-309 3340,-309 3340,-303 3346,-297 3352,-297 3352,-297 3450,-297 3450,-297 3456,-297 3462,-303 3462,-309 3462,-309 3462,-353 3462,-353 3462,-359 3456,-365 3450,-365\"/>\r\n",
       "<text text-anchor=\"start\" x=\"3348\" y=\"-349.8\" font-family=\"Helvetica,sans-Serif\" font-size=\"14.00\">workingday ≤ 0.5</text>\r\n",
       "<text text-anchor=\"start\" x=\"3348\" y=\"-334.8\" font-family=\"Helvetica,sans-Serif\" font-size=\"14.00\">mse = 7662.058</text>\r\n",
       "<text text-anchor=\"start\" x=\"3353.5\" y=\"-319.8\" font-family=\"Helvetica,sans-Serif\" font-size=\"14.00\">samples = 456</text>\r\n",
       "<text text-anchor=\"start\" x=\"3349.5\" y=\"-304.8\" font-family=\"Helvetica,sans-Serif\" font-size=\"14.00\">value = 173.371</text>\r\n",
       "</g>\r\n",
       "<!-- 71&#45;&gt;72 -->\r\n",
       "<g id=\"edge72\" class=\"edge\"><title>71&#45;&gt;72</title>\r\n",
       "<path fill=\"none\" stroke=\"black\" d=\"M3448.27,-400.884C3442.34,-392.243 3435.88,-382.819 3429.68,-373.793\"/>\r\n",
       "<polygon fill=\"black\" stroke=\"black\" points=\"3432.4,-371.564 3423.85,-365.299 3426.63,-375.525 3432.4,-371.564\"/>\r\n",
       "</g>\r\n",
       "<!-- 75 -->\r\n",
       "<g id=\"node76\" class=\"node\"><title>75</title>\r\n",
       "<path fill=\"#e58139\" fill-opacity=\"0.247059\" stroke=\"black\" d=\"M3590,-365C3590,-365 3492,-365 3492,-365 3486,-365 3480,-359 3480,-353 3480,-353 3480,-309 3480,-309 3480,-303 3486,-297 3492,-297 3492,-297 3590,-297 3590,-297 3596,-297 3602,-303 3602,-309 3602,-309 3602,-353 3602,-353 3602,-359 3596,-365 3590,-365\"/>\r\n",
       "<text text-anchor=\"start\" x=\"3488\" y=\"-349.8\" font-family=\"Helvetica,sans-Serif\" font-size=\"14.00\">workingday ≤ 0.5</text>\r\n",
       "<text text-anchor=\"start\" x=\"3488\" y=\"-334.8\" font-family=\"Helvetica,sans-Serif\" font-size=\"14.00\">mse = 4867.556</text>\r\n",
       "<text text-anchor=\"start\" x=\"3493.5\" y=\"-319.8\" font-family=\"Helvetica,sans-Serif\" font-size=\"14.00\">samples = 456</text>\r\n",
       "<text text-anchor=\"start\" x=\"3489.5\" y=\"-304.8\" font-family=\"Helvetica,sans-Serif\" font-size=\"14.00\">value = 133.577</text>\r\n",
       "</g>\r\n",
       "<!-- 71&#45;&gt;75 -->\r\n",
       "<g id=\"edge75\" class=\"edge\"><title>71&#45;&gt;75</title>\r\n",
       "<path fill=\"none\" stroke=\"black\" d=\"M3493.73,-400.884C3499.66,-392.243 3506.12,-382.819 3512.32,-373.793\"/>\r\n",
       "<polygon fill=\"black\" stroke=\"black\" points=\"3515.37,-375.525 3518.15,-365.299 3509.6,-371.564 3515.37,-375.525\"/>\r\n",
       "</g>\r\n",
       "<!-- 73 -->\r\n",
       "<g id=\"node74\" class=\"node\"><title>73</title>\r\n",
       "<path fill=\"#e58139\" fill-opacity=\"0.274510\" stroke=\"black\" d=\"M3310,-253.5C3310,-253.5 3212,-253.5 3212,-253.5 3206,-253.5 3200,-247.5 3200,-241.5 3200,-241.5 3200,-212.5 3200,-212.5 3200,-206.5 3206,-200.5 3212,-200.5 3212,-200.5 3310,-200.5 3310,-200.5 3316,-200.5 3322,-206.5 3322,-212.5 3322,-212.5 3322,-241.5 3322,-241.5 3322,-247.5 3316,-253.5 3310,-253.5\"/>\r\n",
       "<text text-anchor=\"start\" x=\"3208\" y=\"-238.3\" font-family=\"Helvetica,sans-Serif\" font-size=\"14.00\">mse = 7615.076</text>\r\n",
       "<text text-anchor=\"start\" x=\"3213.5\" y=\"-223.3\" font-family=\"Helvetica,sans-Serif\" font-size=\"14.00\">samples = 145</text>\r\n",
       "<text text-anchor=\"start\" x=\"3209.5\" y=\"-208.3\" font-family=\"Helvetica,sans-Serif\" font-size=\"14.00\">value = 148.738</text>\r\n",
       "</g>\r\n",
       "<!-- 72&#45;&gt;73 -->\r\n",
       "<g id=\"edge73\" class=\"edge\"><title>72&#45;&gt;73</title>\r\n",
       "<path fill=\"none\" stroke=\"black\" d=\"M3355.55,-296.884C3339.09,-284.896 3320.57,-271.399 3304.3,-259.549\"/>\r\n",
       "<polygon fill=\"black\" stroke=\"black\" points=\"3306.17,-256.58 3296.03,-253.52 3302.05,-262.237 3306.17,-256.58\"/>\r\n",
       "</g>\r\n",
       "<!-- 74 -->\r\n",
       "<g id=\"node75\" class=\"node\"><title>74</title>\r\n",
       "<path fill=\"#e58139\" fill-opacity=\"0.345098\" stroke=\"black\" d=\"M3450,-253.5C3450,-253.5 3352,-253.5 3352,-253.5 3346,-253.5 3340,-247.5 3340,-241.5 3340,-241.5 3340,-212.5 3340,-212.5 3340,-206.5 3346,-200.5 3352,-200.5 3352,-200.5 3450,-200.5 3450,-200.5 3456,-200.5 3462,-206.5 3462,-212.5 3462,-212.5 3462,-241.5 3462,-241.5 3462,-247.5 3456,-253.5 3450,-253.5\"/>\r\n",
       "<text text-anchor=\"start\" x=\"3348\" y=\"-238.3\" font-family=\"Helvetica,sans-Serif\" font-size=\"14.00\">mse = 7269.166</text>\r\n",
       "<text text-anchor=\"start\" x=\"3353.5\" y=\"-223.3\" font-family=\"Helvetica,sans-Serif\" font-size=\"14.00\">samples = 311</text>\r\n",
       "<text text-anchor=\"start\" x=\"3349.5\" y=\"-208.3\" font-family=\"Helvetica,sans-Serif\" font-size=\"14.00\">value = 184.855</text>\r\n",
       "</g>\r\n",
       "<!-- 72&#45;&gt;74 -->\r\n",
       "<g id=\"edge74\" class=\"edge\"><title>72&#45;&gt;74</title>\r\n",
       "<path fill=\"none\" stroke=\"black\" d=\"M3401,-296.884C3401,-286.326 3401,-274.597 3401,-263.854\"/>\r\n",
       "<polygon fill=\"black\" stroke=\"black\" points=\"3404.5,-263.52 3401,-253.52 3397.5,-263.52 3404.5,-263.52\"/>\r\n",
       "</g>\r\n",
       "<!-- 76 -->\r\n",
       "<g id=\"node77\" class=\"node\"><title>76</title>\r\n",
       "<path fill=\"#e58139\" fill-opacity=\"0.227451\" stroke=\"black\" d=\"M3590,-253.5C3590,-253.5 3492,-253.5 3492,-253.5 3486,-253.5 3480,-247.5 3480,-241.5 3480,-241.5 3480,-212.5 3480,-212.5 3480,-206.5 3486,-200.5 3492,-200.5 3492,-200.5 3590,-200.5 3590,-200.5 3596,-200.5 3602,-206.5 3602,-212.5 3602,-212.5 3602,-241.5 3602,-241.5 3602,-247.5 3596,-253.5 3590,-253.5\"/>\r\n",
       "<text text-anchor=\"start\" x=\"3488\" y=\"-238.3\" font-family=\"Helvetica,sans-Serif\" font-size=\"14.00\">mse = 5643.994</text>\r\n",
       "<text text-anchor=\"start\" x=\"3493.5\" y=\"-223.3\" font-family=\"Helvetica,sans-Serif\" font-size=\"14.00\">samples = 145</text>\r\n",
       "<text text-anchor=\"start\" x=\"3489.5\" y=\"-208.3\" font-family=\"Helvetica,sans-Serif\" font-size=\"14.00\">value = 123.352</text>\r\n",
       "</g>\r\n",
       "<!-- 75&#45;&gt;76 -->\r\n",
       "<g id=\"edge76\" class=\"edge\"><title>75&#45;&gt;76</title>\r\n",
       "<path fill=\"none\" stroke=\"black\" d=\"M3541,-296.884C3541,-286.326 3541,-274.597 3541,-263.854\"/>\r\n",
       "<polygon fill=\"black\" stroke=\"black\" points=\"3544.5,-263.52 3541,-253.52 3537.5,-263.52 3544.5,-263.52\"/>\r\n",
       "</g>\r\n",
       "<!-- 77 -->\r\n",
       "<g id=\"node78\" class=\"node\"><title>77</title>\r\n",
       "<path fill=\"#e58139\" fill-opacity=\"0.254902\" stroke=\"black\" d=\"M3730,-253.5C3730,-253.5 3632,-253.5 3632,-253.5 3626,-253.5 3620,-247.5 3620,-241.5 3620,-241.5 3620,-212.5 3620,-212.5 3620,-206.5 3626,-200.5 3632,-200.5 3632,-200.5 3730,-200.5 3730,-200.5 3736,-200.5 3742,-206.5 3742,-212.5 3742,-212.5 3742,-241.5 3742,-241.5 3742,-247.5 3736,-253.5 3730,-253.5\"/>\r\n",
       "<text text-anchor=\"start\" x=\"3628\" y=\"-238.3\" font-family=\"Helvetica,sans-Serif\" font-size=\"14.00\">mse = 4434.078</text>\r\n",
       "<text text-anchor=\"start\" x=\"3633.5\" y=\"-223.3\" font-family=\"Helvetica,sans-Serif\" font-size=\"14.00\">samples = 311</text>\r\n",
       "<text text-anchor=\"start\" x=\"3629.5\" y=\"-208.3\" font-family=\"Helvetica,sans-Serif\" font-size=\"14.00\">value = 138.344</text>\r\n",
       "</g>\r\n",
       "<!-- 75&#45;&gt;77 -->\r\n",
       "<g id=\"edge77\" class=\"edge\"><title>75&#45;&gt;77</title>\r\n",
       "<path fill=\"none\" stroke=\"black\" d=\"M3586.45,-296.884C3602.91,-284.896 3621.43,-271.399 3637.7,-259.549\"/>\r\n",
       "<polygon fill=\"black\" stroke=\"black\" points=\"3639.95,-262.237 3645.97,-253.52 3635.83,-256.58 3639.95,-262.237\"/>\r\n",
       "</g>\r\n",
       "<!-- 79 -->\r\n",
       "<g id=\"node80\" class=\"node\"><title>79</title>\r\n",
       "<path fill=\"#e58139\" fill-opacity=\"0.164706\" stroke=\"black\" d=\"M3730,-357.5C3730,-357.5 3632,-357.5 3632,-357.5 3626,-357.5 3620,-351.5 3620,-345.5 3620,-345.5 3620,-316.5 3620,-316.5 3620,-310.5 3626,-304.5 3632,-304.5 3632,-304.5 3730,-304.5 3730,-304.5 3736,-304.5 3742,-310.5 3742,-316.5 3742,-316.5 3742,-345.5 3742,-345.5 3742,-351.5 3736,-357.5 3730,-357.5\"/>\r\n",
       "<text text-anchor=\"start\" x=\"3628\" y=\"-342.3\" font-family=\"Helvetica,sans-Serif\" font-size=\"14.00\">mse = 3081.039</text>\r\n",
       "<text text-anchor=\"start\" x=\"3633.5\" y=\"-327.3\" font-family=\"Helvetica,sans-Serif\" font-size=\"14.00\">samples = 145</text>\r\n",
       "<text text-anchor=\"start\" x=\"3634\" y=\"-312.3\" font-family=\"Helvetica,sans-Serif\" font-size=\"14.00\">value = 90.607</text>\r\n",
       "</g>\r\n",
       "<!-- 78&#45;&gt;79 -->\r\n",
       "<g id=\"edge79\" class=\"edge\"><title>78&#45;&gt;79</title>\r\n",
       "<path fill=\"none\" stroke=\"black\" d=\"M3681,-400.884C3681,-390.326 3681,-378.597 3681,-367.854\"/>\r\n",
       "<polygon fill=\"black\" stroke=\"black\" points=\"3684.5,-367.52 3681,-357.52 3677.5,-367.52 3684.5,-367.52\"/>\r\n",
       "</g>\r\n",
       "<!-- 80 -->\r\n",
       "<g id=\"node81\" class=\"node\"><title>80</title>\r\n",
       "<path fill=\"#e58139\" fill-opacity=\"0.160784\" stroke=\"black\" d=\"M3870,-357.5C3870,-357.5 3772,-357.5 3772,-357.5 3766,-357.5 3760,-351.5 3760,-345.5 3760,-345.5 3760,-316.5 3760,-316.5 3760,-310.5 3766,-304.5 3772,-304.5 3772,-304.5 3870,-304.5 3870,-304.5 3876,-304.5 3882,-310.5 3882,-316.5 3882,-316.5 3882,-345.5 3882,-345.5 3882,-351.5 3876,-357.5 3870,-357.5\"/>\r\n",
       "<text text-anchor=\"start\" x=\"3768\" y=\"-342.3\" font-family=\"Helvetica,sans-Serif\" font-size=\"14.00\">mse = 2463.804</text>\r\n",
       "<text text-anchor=\"start\" x=\"3773.5\" y=\"-327.3\" font-family=\"Helvetica,sans-Serif\" font-size=\"14.00\">samples = 311</text>\r\n",
       "<text text-anchor=\"start\" x=\"3774\" y=\"-312.3\" font-family=\"Helvetica,sans-Serif\" font-size=\"14.00\">value = 88.997</text>\r\n",
       "</g>\r\n",
       "<!-- 78&#45;&gt;80 -->\r\n",
       "<g id=\"edge80\" class=\"edge\"><title>78&#45;&gt;80</title>\r\n",
       "<path fill=\"none\" stroke=\"black\" d=\"M3726.45,-400.884C3742.91,-388.896 3761.43,-375.399 3777.7,-363.549\"/>\r\n",
       "<polygon fill=\"black\" stroke=\"black\" points=\"3779.95,-366.237 3785.97,-357.52 3775.83,-360.58 3779.95,-366.237\"/>\r\n",
       "</g>\r\n",
       "</g>\r\n",
       "</svg>\r\n"
      ],
      "text/plain": [
       "<graphviz.files.Source at 0x1bfd07a18d0>"
      ]
     },
     "execution_count": 75,
     "metadata": {},
     "output_type": "execute_result"
    }
   ],
   "source": [
    "\n",
    "# create a Graphviz file\n",
    "import graphviz \n",
    "from sklearn.tree import export_graphviz\n",
    "a= export_graphviz(treereg, out_file=None , feature_names=feature_cols,filled=True, rounded=True,special_characters=True)\n",
    "graph = graphviz.Source(a)  \n",
    "graph"
   ]
  }
 ],
 "metadata": {
  "kernelspec": {
   "display_name": "Python 3",
   "language": "python",
   "name": "python3"
  },
  "language_info": {
   "codemirror_mode": {
    "name": "ipython",
    "version": 3
   },
   "file_extension": ".py",
   "mimetype": "text/x-python",
   "name": "python",
   "nbconvert_exporter": "python",
   "pygments_lexer": "ipython3",
   "version": "3.6.5"
  }
 },
 "nbformat": 4,
 "nbformat_minor": 1
}
