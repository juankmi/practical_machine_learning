{
 "cells": [
  {
   "cell_type": "markdown",
   "metadata": {},
   "source": [
    "# Exercise 15\n",
    "\n",
    "# Fraud Detection"
   ]
  },
  {
   "cell_type": "markdown",
   "metadata": {},
   "source": [
    "## Introduction\n",
    "\n",
    "- Fraud Detection Dataset from Microsoft Azure: [data](http://gallery.cortanaintelligence.com/Experiment/8e9fe4e03b8b4c65b9ca947c72b8e463)\n",
    "\n",
    "Fraud detection is one of the earliest industrial applications of data mining and machine learning. Fraud detection is typically handled as a binary classification problem, but the class population is unbalanced because instances of fraud are usually very rare compared to the overall volume of transactions. Moreover, when fraudulent transactions are discovered, the business typically takes measures to block the accounts from transacting to prevent further losses. "
   ]
  },
  {
   "cell_type": "code",
   "execution_count": 1,
   "metadata": {},
   "outputs": [],
   "source": [
    "%matplotlib inline\n",
    "import pandas as pd\n",
    "import numpy as np\n",
    "from sklearn.model_selection import cross_val_score\n",
    "from sklearn.linear_model import LogisticRegression\n",
    "from sklearn.tree import DecisionTreeClassifier\n",
    "from sklearn import metrics"
   ]
  },
  {
   "cell_type": "code",
   "execution_count": 2,
   "metadata": {},
   "outputs": [
    {
     "data": {
      "text/html": [
       "<div>\n",
       "<style scoped>\n",
       "    .dataframe tbody tr th:only-of-type {\n",
       "        vertical-align: middle;\n",
       "    }\n",
       "\n",
       "    .dataframe tbody tr th {\n",
       "        vertical-align: top;\n",
       "    }\n",
       "\n",
       "    .dataframe thead th {\n",
       "        text-align: right;\n",
       "    }\n",
       "</style>\n",
       "<table border=\"1\" class=\"dataframe\">\n",
       "  <thead>\n",
       "    <tr style=\"text-align: right;\">\n",
       "      <th></th>\n",
       "      <th>accountAge</th>\n",
       "      <th>digitalItemCount</th>\n",
       "      <th>sumPurchaseCount1Day</th>\n",
       "      <th>sumPurchaseAmount1Day</th>\n",
       "      <th>sumPurchaseAmount30Day</th>\n",
       "      <th>paymentBillingPostalCode - LogOddsForClass_0</th>\n",
       "      <th>accountPostalCode - LogOddsForClass_0</th>\n",
       "      <th>paymentBillingState - LogOddsForClass_0</th>\n",
       "      <th>accountState - LogOddsForClass_0</th>\n",
       "      <th>paymentInstrumentAgeInAccount</th>\n",
       "      <th>ipState - LogOddsForClass_0</th>\n",
       "      <th>transactionAmount</th>\n",
       "      <th>transactionAmountUSD</th>\n",
       "      <th>ipPostalCode - LogOddsForClass_0</th>\n",
       "      <th>localHour - LogOddsForClass_0</th>\n",
       "      <th>Label</th>\n",
       "    </tr>\n",
       "  </thead>\n",
       "  <tbody>\n",
       "    <tr>\n",
       "      <th>0</th>\n",
       "      <td>2000</td>\n",
       "      <td>0</td>\n",
       "      <td>0</td>\n",
       "      <td>0.00</td>\n",
       "      <td>720.25</td>\n",
       "      <td>5.064533</td>\n",
       "      <td>0.421214</td>\n",
       "      <td>1.312186</td>\n",
       "      <td>0.566395</td>\n",
       "      <td>3279.574306</td>\n",
       "      <td>1.218157</td>\n",
       "      <td>599.00</td>\n",
       "      <td>626.164650</td>\n",
       "      <td>1.259543</td>\n",
       "      <td>4.745402</td>\n",
       "      <td>0</td>\n",
       "    </tr>\n",
       "    <tr>\n",
       "      <th>1</th>\n",
       "      <td>62</td>\n",
       "      <td>1</td>\n",
       "      <td>1</td>\n",
       "      <td>1185.44</td>\n",
       "      <td>2530.37</td>\n",
       "      <td>0.538996</td>\n",
       "      <td>0.481838</td>\n",
       "      <td>4.401370</td>\n",
       "      <td>4.500157</td>\n",
       "      <td>61.970139</td>\n",
       "      <td>4.035601</td>\n",
       "      <td>1185.44</td>\n",
       "      <td>1185.440000</td>\n",
       "      <td>3.981118</td>\n",
       "      <td>4.921349</td>\n",
       "      <td>0</td>\n",
       "    </tr>\n",
       "    <tr>\n",
       "      <th>2</th>\n",
       "      <td>2000</td>\n",
       "      <td>0</td>\n",
       "      <td>0</td>\n",
       "      <td>0.00</td>\n",
       "      <td>0.00</td>\n",
       "      <td>5.064533</td>\n",
       "      <td>5.096396</td>\n",
       "      <td>3.056357</td>\n",
       "      <td>3.155226</td>\n",
       "      <td>0.000000</td>\n",
       "      <td>3.314186</td>\n",
       "      <td>32.09</td>\n",
       "      <td>32.090000</td>\n",
       "      <td>5.008490</td>\n",
       "      <td>4.742303</td>\n",
       "      <td>0</td>\n",
       "    </tr>\n",
       "    <tr>\n",
       "      <th>3</th>\n",
       "      <td>1</td>\n",
       "      <td>1</td>\n",
       "      <td>0</td>\n",
       "      <td>0.00</td>\n",
       "      <td>0.00</td>\n",
       "      <td>5.064533</td>\n",
       "      <td>5.096396</td>\n",
       "      <td>3.331154</td>\n",
       "      <td>3.331239</td>\n",
       "      <td>0.000000</td>\n",
       "      <td>3.529398</td>\n",
       "      <td>133.28</td>\n",
       "      <td>132.729554</td>\n",
       "      <td>1.324925</td>\n",
       "      <td>4.745402</td>\n",
       "      <td>0</td>\n",
       "    </tr>\n",
       "    <tr>\n",
       "      <th>4</th>\n",
       "      <td>1</td>\n",
       "      <td>1</td>\n",
       "      <td>0</td>\n",
       "      <td>0.00</td>\n",
       "      <td>132.73</td>\n",
       "      <td>5.412885</td>\n",
       "      <td>0.342945</td>\n",
       "      <td>5.563677</td>\n",
       "      <td>4.086965</td>\n",
       "      <td>0.001389</td>\n",
       "      <td>3.529398</td>\n",
       "      <td>543.66</td>\n",
       "      <td>543.660000</td>\n",
       "      <td>2.693451</td>\n",
       "      <td>4.876771</td>\n",
       "      <td>0</td>\n",
       "    </tr>\n",
       "  </tbody>\n",
       "</table>\n",
       "</div>"
      ],
      "text/plain": [
       "   accountAge  digitalItemCount  sumPurchaseCount1Day  sumPurchaseAmount1Day  \\\n",
       "0        2000                 0                     0                   0.00   \n",
       "1          62                 1                     1                1185.44   \n",
       "2        2000                 0                     0                   0.00   \n",
       "3           1                 1                     0                   0.00   \n",
       "4           1                 1                     0                   0.00   \n",
       "\n",
       "   sumPurchaseAmount30Day  paymentBillingPostalCode - LogOddsForClass_0  \\\n",
       "0                  720.25                                      5.064533   \n",
       "1                 2530.37                                      0.538996   \n",
       "2                    0.00                                      5.064533   \n",
       "3                    0.00                                      5.064533   \n",
       "4                  132.73                                      5.412885   \n",
       "\n",
       "   accountPostalCode - LogOddsForClass_0  \\\n",
       "0                               0.421214   \n",
       "1                               0.481838   \n",
       "2                               5.096396   \n",
       "3                               5.096396   \n",
       "4                               0.342945   \n",
       "\n",
       "   paymentBillingState - LogOddsForClass_0  accountState - LogOddsForClass_0  \\\n",
       "0                                 1.312186                          0.566395   \n",
       "1                                 4.401370                          4.500157   \n",
       "2                                 3.056357                          3.155226   \n",
       "3                                 3.331154                          3.331239   \n",
       "4                                 5.563677                          4.086965   \n",
       "\n",
       "   paymentInstrumentAgeInAccount  ipState - LogOddsForClass_0  \\\n",
       "0                    3279.574306                     1.218157   \n",
       "1                      61.970139                     4.035601   \n",
       "2                       0.000000                     3.314186   \n",
       "3                       0.000000                     3.529398   \n",
       "4                       0.001389                     3.529398   \n",
       "\n",
       "   transactionAmount  transactionAmountUSD  ipPostalCode - LogOddsForClass_0  \\\n",
       "0             599.00            626.164650                          1.259543   \n",
       "1            1185.44           1185.440000                          3.981118   \n",
       "2              32.09             32.090000                          5.008490   \n",
       "3             133.28            132.729554                          1.324925   \n",
       "4             543.66            543.660000                          2.693451   \n",
       "\n",
       "   localHour - LogOddsForClass_0  Label  \n",
       "0                       4.745402      0  \n",
       "1                       4.921349      0  \n",
       "2                       4.742303      0  \n",
       "3                       4.745402      0  \n",
       "4                       4.876771      0  "
      ]
     },
     "execution_count": 2,
     "metadata": {},
     "output_type": "execute_result"
    }
   ],
   "source": [
    "import pandas as pd\n",
    "\n",
    "url = 'https://raw.githubusercontent.com/albahnsen/PracticalMachineLearningClass/master/datasets/15_fraud_detection.csv.zip'\n",
    "df = pd.read_csv(url, index_col=0)\n",
    "df.head()"
   ]
  },
  {
   "cell_type": "code",
   "execution_count": 3,
   "metadata": {},
   "outputs": [
    {
     "data": {
      "text/plain": [
       "((138721, 16), 797, 0.0057453449730033666)"
      ]
     },
     "execution_count": 3,
     "metadata": {},
     "output_type": "execute_result"
    }
   ],
   "source": [
    "df.shape, df.Label.sum(), df.Label.mean()"
   ]
  },
  {
   "cell_type": "code",
   "execution_count": 4,
   "metadata": {},
   "outputs": [
    {
     "data": {
      "text/plain": [
       "accountAge                                      0\n",
       "digitalItemCount                                0\n",
       "sumPurchaseCount1Day                            0\n",
       "sumPurchaseAmount1Day                           0\n",
       "sumPurchaseAmount30Day                          0\n",
       "paymentBillingPostalCode - LogOddsForClass_0    0\n",
       "accountPostalCode - LogOddsForClass_0           0\n",
       "paymentBillingState - LogOddsForClass_0         0\n",
       "accountState - LogOddsForClass_0                0\n",
       "paymentInstrumentAgeInAccount                   0\n",
       "ipState - LogOddsForClass_0                     0\n",
       "transactionAmount                               0\n",
       "transactionAmountUSD                            0\n",
       "ipPostalCode - LogOddsForClass_0                0\n",
       "localHour - LogOddsForClass_0                   0\n",
       "Label                                           0\n",
       "dtype: int64"
      ]
     },
     "execution_count": 4,
     "metadata": {},
     "output_type": "execute_result"
    }
   ],
   "source": [
    "df.isna().sum()"
   ]
  },
  {
   "cell_type": "markdown",
   "metadata": {},
   "source": [
    "# Exercise 15.1\n",
    "\n",
    "Estimate a Logistic Regression and a Decision Tree\n",
    "\n",
    "Evaluate using the following metrics:\n",
    "* Accuracy\n",
    "* F1-Score\n",
    "* F_Beta-Score (Beta=10)\n",
    "\n",
    "Comment about the results"
   ]
  },
  {
   "cell_type": "code",
   "execution_count": 5,
   "metadata": {},
   "outputs": [
    {
     "data": {
      "text/plain": [
       "DecisionTreeClassifier(class_weight=None, criterion='gini', max_depth=None,\n",
       "            max_features=None, max_leaf_nodes=None,\n",
       "            min_impurity_decrease=0.0, min_impurity_split=None,\n",
       "            min_samples_leaf=1, min_samples_split=2,\n",
       "            min_weight_fraction_leaf=0.0, presort=False, random_state=1,\n",
       "            splitter='best')"
      ]
     },
     "execution_count": 5,
     "metadata": {},
     "output_type": "execute_result"
    }
   ],
   "source": [
    "from sklearn.tree import DecisionTreeRegressor\n",
    "dt = DecisionTreeClassifier(random_state=1)\n",
    "dt"
   ]
  },
  {
   "cell_type": "code",
   "execution_count": 6,
   "metadata": {},
   "outputs": [],
   "source": [
    "X=df.drop(['Label'],axis=1)\n",
    "y=df['Label']\n",
    "from sklearn.model_selection import train_test_split\n",
    "X_train, X_test, y_train, y_test = train_test_split(X, y, test_size=0.33, random_state=42)"
   ]
  },
  {
   "cell_type": "code",
   "execution_count": 7,
   "metadata": {},
   "outputs": [
    {
     "data": {
      "text/plain": [
       "DecisionTreeClassifier(class_weight=None, criterion='gini', max_depth=None,\n",
       "            max_features=None, max_leaf_nodes=None,\n",
       "            min_impurity_decrease=0.0, min_impurity_split=None,\n",
       "            min_samples_leaf=1, min_samples_split=2,\n",
       "            min_weight_fraction_leaf=0.0, presort=False, random_state=1,\n",
       "            splitter='best')"
      ]
     },
     "execution_count": 7,
     "metadata": {},
     "output_type": "execute_result"
    }
   ],
   "source": [
    "dt.fit(X_train, y_train)"
   ]
  },
  {
   "cell_type": "code",
   "execution_count": 8,
   "metadata": {},
   "outputs": [
    {
     "data": {
      "text/plain": [
       "LogisticRegression(C=1.0, class_weight=None, dual=False, fit_intercept=True,\n",
       "          intercept_scaling=1, max_iter=100, multi_class='ovr', n_jobs=1,\n",
       "          penalty='l2', random_state=None, solver='liblinear', tol=0.0001,\n",
       "          verbose=0, warm_start=False)"
      ]
     },
     "execution_count": 8,
     "metadata": {},
     "output_type": "execute_result"
    }
   ],
   "source": [
    "from sklearn.linear_model import LogisticRegression\n",
    "logreg = LogisticRegression()#solver='liblinear',C=1e9)\n",
    "logreg.fit(X_train, y_train)"
   ]
  },
  {
   "cell_type": "code",
   "execution_count": 9,
   "metadata": {},
   "outputs": [],
   "source": [
    "predicted_dt=dt.predict(X_test)\n",
    "predicted_log=logreg.predict(X_test)"
   ]
  },
  {
   "cell_type": "markdown",
   "metadata": {},
   "source": [
    "___________________________________________________________________________\n",
    "\n",
    "Arbol de decisión "
   ]
  },
  {
   "cell_type": "code",
   "execution_count": 10,
   "metadata": {},
   "outputs": [
    {
     "name": "stdout",
     "output_type": "stream",
     "text": [
      "('F1:', 0.12457912457912457)\n",
      "('Accuracy:', 0.9886408318406221)\n",
      "('FBeta_Score:', 0.13433265034688524)\n"
     ]
    }
   ],
   "source": [
    "print(\"F1:\",metrics.f1_score(y_test,predicted_dt))\n",
    "print(\"Accuracy:\",metrics.accuracy_score(y_test,predicted_dt))\n",
    "print(\"FBeta_Score:\",metrics.fbeta_score(y_test, predicted_dt, average='binary', beta=10))"
   ]
  },
  {
   "cell_type": "markdown",
   "metadata": {},
   "source": [
    "__________________________________________________________________________________\n",
    "regresión"
   ]
  },
  {
   "cell_type": "code",
   "execution_count": 11,
   "metadata": {},
   "outputs": [
    {
     "name": "stdout",
     "output_type": "stream",
     "text": [
      "('F1:', 0.0)\n",
      "('Accuracy:', 0.993949058499716)\n",
      "('FBeta_Score:', 0.0)\n"
     ]
    }
   ],
   "source": [
    "print(\"F1:\",metrics.f1_score(y_test,predicted_log))\n",
    "print(\"Accuracy:\",metrics.accuracy_score(y_test,predicted_log))\n",
    "print(\"FBeta_Score:\",metrics.fbeta_score(y_test, predicted_log, average='binary', beta=10))"
   ]
  },
  {
   "cell_type": "markdown",
   "metadata": {},
   "source": [
    "Seguramente el Accuracy de la regresión es mayor porque la regresión debe tener problemas de cesgo ya que no se realizo ninguna prueba sobre las distribuciones."
   ]
  },
  {
   "cell_type": "markdown",
   "metadata": {},
   "source": [
    "# Exercise 15.2\n",
    "\n",
    "Under-sample the negative class using random-under-sampling\n",
    "\n",
    "Which is parameter for target_percentage did you choose?\n",
    "How the results change?\n",
    "\n",
    "**Only apply under-sampling to the training set, evaluate using the whole test set**"
   ]
  },
  {
   "cell_type": "code",
   "execution_count": 12,
   "metadata": {},
   "outputs": [],
   "source": [
    "def UnderSampling(X, y, target_percentage=0.5, seed=None):\n",
    " \n",
    "    n_samples = y.shape[0]\n",
    "    n_samples_0 = (y == 0).sum()\n",
    "    n_samples_1 = (y == 1).sum()\n",
    "\n",
    "    n_samples_0_new =  n_samples_1 / target_percentage - n_samples_1\n",
    "    n_samples_0_new_per = n_samples_0_new / n_samples_0\n",
    "\n",
    "    filter_ = y == 0\n",
    "\n",
    "    np.random.seed(seed)\n",
    "    rand_1 = np.random.binomial(n=1, p=n_samples_0_new_per, size=n_samples)\n",
    "    \n",
    "    filter_ = filter_ & rand_1\n",
    "    filter_ = filter_ | (y == 1)\n",
    "    filter_ = filter_.astype(bool)\n",
    "    \n",
    "    return X[filter_], y[filter_]"
   ]
  },
  {
   "cell_type": "code",
   "execution_count": 13,
   "metadata": {},
   "outputs": [
    {
     "name": "stdout",
     "output_type": "stream",
     "text": [
      "('Target percentage', 0.1)\n",
      "('y.shape = ', 5084L, 'y.mean() = ', 0.1026750590086546)\n",
      "('Target percentage', 0.2)\n",
      "('y.shape = ', 2557L, 'y.mean() = ', 0.2041454829878764)\n",
      "('Target percentage', 0.3)\n",
      "('y.shape = ', 1731L, 'y.mean() = ', 0.30155979202772965)\n",
      "('Target percentage', 0.4)\n",
      "('y.shape = ', 1295L, 'y.mean() = ', 0.40308880308880307)\n",
      "('Target percentage', 0.5)\n",
      "('y.shape = ', 1020L, 'y.mean() = ', 0.5117647058823529)\n"
     ]
    }
   ],
   "source": [
    "Metricas= pd.DataFrame(columns=[list(range(4))])\n",
    "i=0\n",
    "for target_percentage in [0.1, 0.2, 0.3, 0.4, 0.5]:\n",
    "    X_u, y_u = UnderSampling(X_train, y_train, target_percentage, 42)\n",
    "    print('Target percentage', target_percentage)\n",
    "    print('y.shape = ',y_u.shape[0], 'y.mean() = ', y_u.mean())\n",
    "   \n",
    "    logreg.fit(X_u, y_u)\n",
    "    dt.fit(X_u, y_u)\n",
    "    predicted_dt=dt.predict(X_test)\n",
    "    predicted_log=logreg.predict(X_test)\n",
    "    Metricas[i]=('Logistic','F1',target_percentage,metrics.f1_score(y_test,predicted_log))\n",
    "    i=i+1\n",
    "    Metricas[i]=('Logistic','Accuracy',target_percentage,metrics.accuracy_score(y_test,predicted_log))\n",
    "    i=i+1\n",
    "    Metricas[i]=('Logistic','FBeta_Score',target_percentage,metrics.fbeta_score(y_test, predicted_log, average='binary', beta=10))\n",
    "    i=i+1\n",
    "    Metricas[i]=('Tree','F1',target_percentage,metrics.f1_score(y_test,predicted_dt))\n",
    "    i=i+1\n",
    "    Metricas[i]=('Tree','Accuracy',target_percentage,metrics.f1_score(y_test,predicted_dt))\n",
    "    i=i+1\n",
    "    Metricas[i]=('Tree','FBeta_Score',target_percentage,metrics.fbeta_score(y_test, predicted_dt, average='binary', beta=10))\n",
    "    i=i+1    "
   ]
  },
  {
   "cell_type": "code",
   "execution_count": 14,
   "metadata": {},
   "outputs": [
    {
     "data": {
      "text/html": [
       "<div>\n",
       "<style scoped>\n",
       "    .dataframe tbody tr th:only-of-type {\n",
       "        vertical-align: middle;\n",
       "    }\n",
       "\n",
       "    .dataframe tbody tr th {\n",
       "        vertical-align: top;\n",
       "    }\n",
       "\n",
       "    .dataframe thead tr th {\n",
       "        text-align: left;\n",
       "    }\n",
       "</style>\n",
       "<table border=\"1\" class=\"dataframe\">\n",
       "  <thead>\n",
       "    <tr>\n",
       "      <th></th>\n",
       "      <th>0</th>\n",
       "      <th>1</th>\n",
       "      <th>2</th>\n",
       "      <th>3</th>\n",
       "      <th>4</th>\n",
       "      <th>5</th>\n",
       "      <th>6</th>\n",
       "      <th>7</th>\n",
       "      <th>8</th>\n",
       "      <th>9</th>\n",
       "      <th>...</th>\n",
       "      <th>20</th>\n",
       "      <th>21</th>\n",
       "      <th>22</th>\n",
       "      <th>23</th>\n",
       "      <th>24</th>\n",
       "      <th>25</th>\n",
       "      <th>26</th>\n",
       "      <th>27</th>\n",
       "      <th>28</th>\n",
       "      <th>29</th>\n",
       "    </tr>\n",
       "  </thead>\n",
       "  <tbody>\n",
       "    <tr>\n",
       "      <th>0</th>\n",
       "      <td>Logistic</td>\n",
       "      <td>Logistic</td>\n",
       "      <td>Logistic</td>\n",
       "      <td>Tree</td>\n",
       "      <td>Tree</td>\n",
       "      <td>Tree</td>\n",
       "      <td>Logistic</td>\n",
       "      <td>Logistic</td>\n",
       "      <td>Logistic</td>\n",
       "      <td>Tree</td>\n",
       "      <td>...</td>\n",
       "      <td>Logistic</td>\n",
       "      <td>Tree</td>\n",
       "      <td>Tree</td>\n",
       "      <td>Tree</td>\n",
       "      <td>Logistic</td>\n",
       "      <td>Logistic</td>\n",
       "      <td>Logistic</td>\n",
       "      <td>Tree</td>\n",
       "      <td>Tree</td>\n",
       "      <td>Tree</td>\n",
       "    </tr>\n",
       "    <tr>\n",
       "      <th>1</th>\n",
       "      <td>F1</td>\n",
       "      <td>Accuracy</td>\n",
       "      <td>FBeta_Score</td>\n",
       "      <td>F1</td>\n",
       "      <td>Accuracy</td>\n",
       "      <td>FBeta_Score</td>\n",
       "      <td>F1</td>\n",
       "      <td>Accuracy</td>\n",
       "      <td>FBeta_Score</td>\n",
       "      <td>F1</td>\n",
       "      <td>...</td>\n",
       "      <td>FBeta_Score</td>\n",
       "      <td>F1</td>\n",
       "      <td>Accuracy</td>\n",
       "      <td>FBeta_Score</td>\n",
       "      <td>F1</td>\n",
       "      <td>Accuracy</td>\n",
       "      <td>FBeta_Score</td>\n",
       "      <td>F1</td>\n",
       "      <td>Accuracy</td>\n",
       "      <td>FBeta_Score</td>\n",
       "    </tr>\n",
       "    <tr>\n",
       "      <th>2</th>\n",
       "      <td>0.1</td>\n",
       "      <td>0.1</td>\n",
       "      <td>0.1</td>\n",
       "      <td>0.1</td>\n",
       "      <td>0.1</td>\n",
       "      <td>0.1</td>\n",
       "      <td>0.2</td>\n",
       "      <td>0.2</td>\n",
       "      <td>0.2</td>\n",
       "      <td>0.2</td>\n",
       "      <td>...</td>\n",
       "      <td>0.4</td>\n",
       "      <td>0.4</td>\n",
       "      <td>0.4</td>\n",
       "      <td>0.4</td>\n",
       "      <td>0.5</td>\n",
       "      <td>0.5</td>\n",
       "      <td>0.5</td>\n",
       "      <td>0.5</td>\n",
       "      <td>0.5</td>\n",
       "      <td>0.5</td>\n",
       "    </tr>\n",
       "    <tr>\n",
       "      <th>3</th>\n",
       "      <td>0.0102564</td>\n",
       "      <td>0.991568</td>\n",
       "      <td>0.00731487</td>\n",
       "      <td>0.0501012</td>\n",
       "      <td>0.0501012</td>\n",
       "      <td>0.320717</td>\n",
       "      <td>0.0225179</td>\n",
       "      <td>0.979138</td>\n",
       "      <td>0.0393944</td>\n",
       "      <td>0.0396951</td>\n",
       "      <td>...</td>\n",
       "      <td>0.292477</td>\n",
       "      <td>0.0282039</td>\n",
       "      <td>0.0282039</td>\n",
       "      <td>0.438896</td>\n",
       "      <td>0.0196987</td>\n",
       "      <td>0.593429</td>\n",
       "      <td>0.408712</td>\n",
       "      <td>0.0225757</td>\n",
       "      <td>0.0225757</td>\n",
       "      <td>0.415162</td>\n",
       "    </tr>\n",
       "  </tbody>\n",
       "</table>\n",
       "<p>4 rows × 30 columns</p>\n",
       "</div>"
      ],
      "text/plain": [
       "          0         1            2          3          4            5   \\\n",
       "0   Logistic  Logistic     Logistic       Tree       Tree         Tree   \n",
       "1         F1  Accuracy  FBeta_Score         F1   Accuracy  FBeta_Score   \n",
       "2        0.1       0.1          0.1        0.1        0.1          0.1   \n",
       "3  0.0102564  0.991568   0.00731487  0.0501012  0.0501012     0.320717   \n",
       "\n",
       "          6         7            8          9      ...                20  \\\n",
       "0   Logistic  Logistic     Logistic       Tree     ...          Logistic   \n",
       "1         F1  Accuracy  FBeta_Score         F1     ...       FBeta_Score   \n",
       "2        0.2       0.2          0.2        0.2     ...               0.4   \n",
       "3  0.0225179  0.979138    0.0393944  0.0396951     ...          0.292477   \n",
       "\n",
       "          21         22           23         24        25           26  \\\n",
       "0       Tree       Tree         Tree   Logistic  Logistic     Logistic   \n",
       "1         F1   Accuracy  FBeta_Score         F1  Accuracy  FBeta_Score   \n",
       "2        0.4        0.4          0.4        0.5       0.5          0.5   \n",
       "3  0.0282039  0.0282039     0.438896  0.0196987  0.593429     0.408712   \n",
       "\n",
       "          27         28           29  \n",
       "0       Tree       Tree         Tree  \n",
       "1         F1   Accuracy  FBeta_Score  \n",
       "2        0.5        0.5          0.5  \n",
       "3  0.0225757  0.0225757     0.415162  \n",
       "\n",
       "[4 rows x 30 columns]"
      ]
     },
     "execution_count": 14,
     "metadata": {},
     "output_type": "execute_result"
    }
   ],
   "source": [
    "Metricas.head()"
   ]
  },
  {
   "cell_type": "code",
   "execution_count": 15,
   "metadata": {},
   "outputs": [],
   "source": [
    "MetricasT=Metricas.T"
   ]
  },
  {
   "cell_type": "code",
   "execution_count": 16,
   "metadata": {},
   "outputs": [
    {
     "data": {
      "text/html": [
       "<div>\n",
       "<style scoped>\n",
       "    .dataframe tbody tr th:only-of-type {\n",
       "        vertical-align: middle;\n",
       "    }\n",
       "\n",
       "    .dataframe tbody tr th {\n",
       "        vertical-align: top;\n",
       "    }\n",
       "\n",
       "    .dataframe thead th {\n",
       "        text-align: right;\n",
       "    }\n",
       "</style>\n",
       "<table border=\"1\" class=\"dataframe\">\n",
       "  <thead>\n",
       "    <tr style=\"text-align: right;\">\n",
       "      <th></th>\n",
       "      <th>Model</th>\n",
       "      <th>Metric</th>\n",
       "      <th>Target_Percentage</th>\n",
       "      <th>Metric_Value</th>\n",
       "    </tr>\n",
       "  </thead>\n",
       "  <tbody>\n",
       "    <tr>\n",
       "      <th>2</th>\n",
       "      <td>Logistic</td>\n",
       "      <td>FBeta_Score</td>\n",
       "      <td>0.1</td>\n",
       "      <td>0.00731487</td>\n",
       "    </tr>\n",
       "    <tr>\n",
       "      <th>8</th>\n",
       "      <td>Logistic</td>\n",
       "      <td>FBeta_Score</td>\n",
       "      <td>0.2</td>\n",
       "      <td>0.0393944</td>\n",
       "    </tr>\n",
       "    <tr>\n",
       "      <th>14</th>\n",
       "      <td>Logistic</td>\n",
       "      <td>FBeta_Score</td>\n",
       "      <td>0.3</td>\n",
       "      <td>0.187346</td>\n",
       "    </tr>\n",
       "    <tr>\n",
       "      <th>20</th>\n",
       "      <td>Logistic</td>\n",
       "      <td>FBeta_Score</td>\n",
       "      <td>0.4</td>\n",
       "      <td>0.292477</td>\n",
       "    </tr>\n",
       "    <tr>\n",
       "      <th>26</th>\n",
       "      <td>Logistic</td>\n",
       "      <td>FBeta_Score</td>\n",
       "      <td>0.5</td>\n",
       "      <td>0.408712</td>\n",
       "    </tr>\n",
       "    <tr>\n",
       "      <th>5</th>\n",
       "      <td>Tree</td>\n",
       "      <td>FBeta_Score</td>\n",
       "      <td>0.1</td>\n",
       "      <td>0.320717</td>\n",
       "    </tr>\n",
       "    <tr>\n",
       "      <th>11</th>\n",
       "      <td>Tree</td>\n",
       "      <td>FBeta_Score</td>\n",
       "      <td>0.2</td>\n",
       "      <td>0.407806</td>\n",
       "    </tr>\n",
       "    <tr>\n",
       "      <th>17</th>\n",
       "      <td>Tree</td>\n",
       "      <td>FBeta_Score</td>\n",
       "      <td>0.3</td>\n",
       "      <td>0.403046</td>\n",
       "    </tr>\n",
       "    <tr>\n",
       "      <th>23</th>\n",
       "      <td>Tree</td>\n",
       "      <td>FBeta_Score</td>\n",
       "      <td>0.4</td>\n",
       "      <td>0.438896</td>\n",
       "    </tr>\n",
       "    <tr>\n",
       "      <th>29</th>\n",
       "      <td>Tree</td>\n",
       "      <td>FBeta_Score</td>\n",
       "      <td>0.5</td>\n",
       "      <td>0.415162</td>\n",
       "    </tr>\n",
       "  </tbody>\n",
       "</table>\n",
       "</div>"
      ],
      "text/plain": [
       "       Model       Metric Target_Percentage Metric_Value\n",
       "2   Logistic  FBeta_Score               0.1   0.00731487\n",
       "8   Logistic  FBeta_Score               0.2    0.0393944\n",
       "14  Logistic  FBeta_Score               0.3     0.187346\n",
       "20  Logistic  FBeta_Score               0.4     0.292477\n",
       "26  Logistic  FBeta_Score               0.5     0.408712\n",
       "5       Tree  FBeta_Score               0.1     0.320717\n",
       "11      Tree  FBeta_Score               0.2     0.407806\n",
       "17      Tree  FBeta_Score               0.3     0.403046\n",
       "23      Tree  FBeta_Score               0.4     0.438896\n",
       "29      Tree  FBeta_Score               0.5     0.415162"
      ]
     },
     "execution_count": 16,
     "metadata": {},
     "output_type": "execute_result"
    }
   ],
   "source": [
    "MetricasT.columns = ['Model','Metric','Target_Percentage','Metric_Value']\n",
    "MetricasT[MetricasT['Metric'] == 'FBeta_Score'].sort_values(by=['Model', 'Target_Percentage'])\n"
   ]
  },
  {
   "cell_type": "markdown",
   "metadata": {},
   "source": [
    "El FBeta_Score para la regresión con un Target_percentage de 50% da más acertado sin embargo el arbol con Targer_percentage del 40% da mayor acierto"
   ]
  },
  {
   "cell_type": "markdown",
   "metadata": {},
   "source": [
    "# Exercise 15.3\n",
    "\n",
    "Same analysis using random-over-sampling"
   ]
  },
  {
   "cell_type": "code",
   "execution_count": 17,
   "metadata": {},
   "outputs": [],
   "source": [
    "import random\n",
    "def OverSampling(X, y, target_percentage=0.5, seed=None):\n",
    "    # Assuming minority class is the positive\n",
    "    n_samples = y.shape[0]\n",
    "    n_samples_0 = (y == 0).sum()\n",
    "    n_samples_1 = (y == 1).sum()\n",
    "\n",
    "    n_samples_1_new =  -target_percentage * n_samples_0 / (target_percentage- 1)\n",
    "\n",
    "    np.random.seed(seed)\n",
    "    filter_ = np.random.choice(X[y == 1].shape[0], int(n_samples_1_new))\n",
    "    # filter_ is within the positives, change to be of all\n",
    "    filter_ = np.nonzero(y == 1)[0][filter_]\n",
    "    \n",
    "    filter_ = np.concatenate((filter_, np.nonzero(y == 0)[0]), axis=0)\n",
    "    \n",
    "    return filter_"
   ]
  },
  {
   "cell_type": "code",
   "execution_count": 18,
   "metadata": {},
   "outputs": [
    {
     "name": "stdout",
     "output_type": "stream",
     "text": [
      "('Target percentage', 0.1)\n",
      "('y.shape = ', 102690L, 'y.mean() = ', 0.1)\n",
      "('Target percentage', 0.2)\n",
      "('y.shape = ', 115526L, 'y.mean() = ', 0.19999826878797847)\n",
      "('Target percentage', 0.3)\n",
      "('y.shape = ', 132030L, 'y.mean() = ', 0.3)\n",
      "('Target percentage', 0.4)\n",
      "('y.shape = ', 154035L, 'y.mean() = ', 0.4)\n",
      "('Target percentage', 0.5)\n",
      "('y.shape = ', 184842L, 'y.mean() = ', 0.5)\n"
     ]
    }
   ],
   "source": [
    "Metricas= pd.DataFrame(columns=[list(range(4))])\n",
    "i=0\n",
    "\n",
    "for target_percentage in [0.1, 0.2, 0.3, 0.4, 0.5]:\n",
    "    indx=OverSampling(X_train, y_train, target_percentage, 42)\n",
    "    X_u=X_train.iloc[indx,:]\n",
    "    y_u=y_train.iloc[indx]\n",
    "    print('Target percentage', target_percentage)\n",
    "    print('y.shape = ',y_u.shape[0], 'y.mean() = ', y_u.mean())\n",
    "\n",
    "    logreg.fit(X_u, y_u)\n",
    "    dt.fit(X_u, y_u)\n",
    "    predicted_dt=dt.predict(X_test)\n",
    "    predicted_log=logreg.predict(X_test)\n",
    "    Metricas[i]=('Logistic','F1',target_percentage,metrics.f1_score(y_test,predicted_log))\n",
    "    i=i+1\n",
    "    Metricas[i]=('Logistic','Accuracy',target_percentage,metrics.accuracy_score(y_test,predicted_log))\n",
    "    i=i+1\n",
    "    Metricas[i]=('Logistic','FBeta_Score',target_percentage,metrics.fbeta_score(y_test, predicted_log, average='binary', beta=10))\n",
    "    i=i+1\n",
    "    Metricas[i]=('Tree','F1',target_percentage,metrics.f1_score(y_test,predicted_dt))\n",
    "    i=i+1\n",
    "    Metricas[i]=('Tree','Accuracy',target_percentage,metrics.f1_score(y_test,predicted_dt))\n",
    "    i=i+1\n",
    "    Metricas[i]=('Tree','FBeta_Score',target_percentage,metrics.fbeta_score(y_test, predicted_dt, average='binary', beta=10))\n",
    "    i=i+1    "
   ]
  },
  {
   "cell_type": "code",
   "execution_count": 19,
   "metadata": {},
   "outputs": [],
   "source": [
    "MetricasT=Metricas.T"
   ]
  },
  {
   "cell_type": "code",
   "execution_count": 20,
   "metadata": {},
   "outputs": [
    {
     "data": {
      "text/html": [
       "<div>\n",
       "<style scoped>\n",
       "    .dataframe tbody tr th:only-of-type {\n",
       "        vertical-align: middle;\n",
       "    }\n",
       "\n",
       "    .dataframe tbody tr th {\n",
       "        vertical-align: top;\n",
       "    }\n",
       "\n",
       "    .dataframe thead th {\n",
       "        text-align: right;\n",
       "    }\n",
       "</style>\n",
       "<table border=\"1\" class=\"dataframe\">\n",
       "  <thead>\n",
       "    <tr style=\"text-align: right;\">\n",
       "      <th></th>\n",
       "      <th>Model</th>\n",
       "      <th>Metric</th>\n",
       "      <th>Target_Percentage</th>\n",
       "      <th>Metric_Value</th>\n",
       "    </tr>\n",
       "  </thead>\n",
       "  <tbody>\n",
       "    <tr>\n",
       "      <th>2</th>\n",
       "      <td>Logistic</td>\n",
       "      <td>FBeta_Score</td>\n",
       "      <td>0.1</td>\n",
       "      <td>0</td>\n",
       "    </tr>\n",
       "    <tr>\n",
       "      <th>8</th>\n",
       "      <td>Logistic</td>\n",
       "      <td>FBeta_Score</td>\n",
       "      <td>0.2</td>\n",
       "      <td>0.014567</td>\n",
       "    </tr>\n",
       "    <tr>\n",
       "      <th>14</th>\n",
       "      <td>Logistic</td>\n",
       "      <td>FBeta_Score</td>\n",
       "      <td>0.3</td>\n",
       "      <td>0.182861</td>\n",
       "    </tr>\n",
       "    <tr>\n",
       "      <th>20</th>\n",
       "      <td>Logistic</td>\n",
       "      <td>FBeta_Score</td>\n",
       "      <td>0.4</td>\n",
       "      <td>0.272652</td>\n",
       "    </tr>\n",
       "    <tr>\n",
       "      <th>26</th>\n",
       "      <td>Logistic</td>\n",
       "      <td>FBeta_Score</td>\n",
       "      <td>0.5</td>\n",
       "      <td>0.425112</td>\n",
       "    </tr>\n",
       "    <tr>\n",
       "      <th>5</th>\n",
       "      <td>Tree</td>\n",
       "      <td>FBeta_Score</td>\n",
       "      <td>0.1</td>\n",
       "      <td>0.134424</td>\n",
       "    </tr>\n",
       "    <tr>\n",
       "      <th>11</th>\n",
       "      <td>Tree</td>\n",
       "      <td>FBeta_Score</td>\n",
       "      <td>0.2</td>\n",
       "      <td>0.130923</td>\n",
       "    </tr>\n",
       "    <tr>\n",
       "      <th>17</th>\n",
       "      <td>Tree</td>\n",
       "      <td>FBeta_Score</td>\n",
       "      <td>0.3</td>\n",
       "      <td>0.141828</td>\n",
       "    </tr>\n",
       "    <tr>\n",
       "      <th>23</th>\n",
       "      <td>Tree</td>\n",
       "      <td>FBeta_Score</td>\n",
       "      <td>0.4</td>\n",
       "      <td>0.123703</td>\n",
       "    </tr>\n",
       "    <tr>\n",
       "      <th>29</th>\n",
       "      <td>Tree</td>\n",
       "      <td>FBeta_Score</td>\n",
       "      <td>0.5</td>\n",
       "      <td>0.123668</td>\n",
       "    </tr>\n",
       "  </tbody>\n",
       "</table>\n",
       "</div>"
      ],
      "text/plain": [
       "       Model       Metric Target_Percentage Metric_Value\n",
       "2   Logistic  FBeta_Score               0.1            0\n",
       "8   Logistic  FBeta_Score               0.2     0.014567\n",
       "14  Logistic  FBeta_Score               0.3     0.182861\n",
       "20  Logistic  FBeta_Score               0.4     0.272652\n",
       "26  Logistic  FBeta_Score               0.5     0.425112\n",
       "5       Tree  FBeta_Score               0.1     0.134424\n",
       "11      Tree  FBeta_Score               0.2     0.130923\n",
       "17      Tree  FBeta_Score               0.3     0.141828\n",
       "23      Tree  FBeta_Score               0.4     0.123703\n",
       "29      Tree  FBeta_Score               0.5     0.123668"
      ]
     },
     "execution_count": 20,
     "metadata": {},
     "output_type": "execute_result"
    }
   ],
   "source": [
    "MetricasT.columns = ['Model','Metric','Target_Percentage','Metric_Value']\n",
    "MetricasT[MetricasT['Metric'] == 'FBeta_Score'].sort_values(by=['Model', 'Target_Percentage'])"
   ]
  },
  {
   "cell_type": "markdown",
   "metadata": {},
   "source": [
    "Los resultados son significativamente inferiores a los obtenidos con under-sampling"
   ]
  },
  {
   "cell_type": "markdown",
   "metadata": {},
   "source": [
    "# Exercise 15.4 (3 points)\n",
    "\n",
    "Evaluate the results using SMOTE\n",
    "\n",
    "Which parameters did you choose?"
   ]
  },
  {
   "cell_type": "code",
   "execution_count": 25,
   "metadata": {},
   "outputs": [],
   "source": [
    "n_samples_0 = (y == 0).sum()\n",
    "n_samples_1 = (y == 1).sum()"
   ]
  },
  {
   "cell_type": "code",
   "execution_count": 26,
   "metadata": {},
   "outputs": [],
   "source": [
    "# Number of nearest neighbours to used to construct synthetic samples.\n",
    "\n",
    "from sklearn.neighbors import NearestNeighbors\n"
   ]
  },
  {
   "cell_type": "code",
   "execution_count": 27,
   "metadata": {},
   "outputs": [
    {
     "data": {
      "text/plain": [
       "137127"
      ]
     },
     "execution_count": 27,
     "metadata": {},
     "output_type": "execute_result"
    }
   ],
   "source": [
    "target_percentage = 0.5\n",
    "n_samples_1_new =  -target_percentage * n_samples_0 / (target_percentage- 1) - n_samples_1\n",
    "n_samples_1_new = int(n_samples_1_new)\n",
    "n_samples_1_new"
   ]
  },
  {
   "cell_type": "code",
   "execution_count": 28,
   "metadata": {},
   "outputs": [],
   "source": [
    "# A matrix to store the synthetic samples\n",
    "new = np.zeros((n_samples_1_new, X.shape[1]))"
   ]
  },
  {
   "cell_type": "code",
   "execution_count": 29,
   "metadata": {},
   "outputs": [],
   "source": [
    "# Select examples to use as base\n",
    "np.random.seed(34)\n",
    "sel_ = np.random.choice(y[y==1].shape[0], n_samples_1_new)"
   ]
  },
  {
   "cell_type": "code",
   "execution_count": 31,
   "metadata": {},
   "outputs": [],
   "source": [
    "# Number of neighbors\n",
    "k=2\n",
    "# Look for k-th nearest neighbours, excluding, of course, the point itself.\n",
    "nearest_neighbour_ = NearestNeighbors(n_neighbors=k + 1)\n",
    "nearest_neighbour_.fit(X[y==1])\n",
    "# Matrix with k-th nearest neighbours indexes for each minority element.\n",
    "nns = nearest_neighbour_.kneighbors(X[y==1], \n",
    "                                    return_distance=False)[:, 1:]\n",
    "\n",
    "# Select one random neighbor for each example to use as base\n",
    "nn__=[]\n",
    "np.random.seed(64)\n",
    "for i, sel in enumerate(sel_):\n",
    "    nn__.append(np.random.choice(nns[sel]))\n",
    "        \n",
    "np.random.seed(65)\n",
    "steps = np.random.uniform(size=n_samples_1_new)"
   ]
  },
  {
   "cell_type": "code",
   "execution_count": 37,
   "metadata": {},
   "outputs": [],
   "source": [
    "ind=X[y==1].index"
   ]
  },
  {
   "cell_type": "code",
   "execution_count": 44,
   "metadata": {},
   "outputs": [],
   "source": [
    "# For each selected examples create one synthetic case\n",
    "for i, sel in enumerate(sel_):\n",
    "    # Select neighbor\n",
    "    nn_ = nn__[i]\n",
    "    step = steps[i]\n",
    "    new[i, :] = (X.loc[sel,:] - step * X.loc[sel,:] - X.loc[ind[nn_]])\n",
    "    \n"
   ]
  },
  {
   "cell_type": "code",
   "execution_count": 45,
   "metadata": {
    "scrolled": false
   },
   "outputs": [
    {
     "data": {
      "text/plain": [
       "array([[ 1.56170990e+03, -2.00000000e+00, -1.00000000e+00, ...,\n",
       "        -3.84148541e+02, -3.17721991e-01, -1.03755866e+00],\n",
       "       [ 1.93619456e+03, -2.00000000e+00,  2.90579184e+00, ...,\n",
       "        -6.22501102e+02, -1.34567193e+00, -1.03794817e-01],\n",
       "       [ 1.42474945e+03,  4.25749445e-01,  0.00000000e+00, ...,\n",
       "         1.64393739e+00,  1.87947439e+00, -2.40302040e+00],\n",
       "       ...,\n",
       "       [ 1.16531336e+01, -9.06273084e-01,  0.00000000e+00, ...,\n",
       "        -2.67419203e+02, -4.67873865e+00, -4.42955630e+00],\n",
       "       [ 7.67953261e+02, -6.15523369e-01,  2.69133641e+00, ...,\n",
       "        -1.37894602e+02, -1.87798679e+00, -3.09685283e+00],\n",
       "       [ 1.91793252e+03, -2.00000000e+00,  0.00000000e+00, ...,\n",
       "         4.46437820e+02, -4.25615428e+00, -6.32057750e-02]])"
      ]
     },
     "execution_count": 45,
     "metadata": {},
     "output_type": "execute_result"
    }
   ],
   "source": [
    "new"
   ]
  },
  {
   "cell_type": "code",
   "execution_count": 47,
   "metadata": {},
   "outputs": [],
   "source": [
    "X = np.vstack((X, new))\n",
    "y = np.append(y, np.ones(n_samples_1_new))"
   ]
  },
  {
   "cell_type": "code",
   "execution_count": 52,
   "metadata": {},
   "outputs": [
    {
     "name": "stdout",
     "output_type": "stream",
     "text": [
      "('Target percentage', 0.25, 'k ', 5)\n",
      "('y.shape = ', 321025L, 'y.mean() = ', 0.5703636788412118)\n",
      "('Target percentage', 0.25, 'k ', 15)\n",
      "('y.shape = ', 321025L, 'y.mean() = ', 0.5703636788412118)\n",
      "('Target percentage', 0.5, 'k ', 5)\n",
      "('y.shape = ', 412975L, 'y.mean() = ', 0.6660233670319027)\n"
     ]
    },
    {
     "ename": "KeyboardInterrupt",
     "evalue": "",
     "output_type": "error",
     "traceback": [
      "\u001b[1;31m---------------------------------------------------------------------------\u001b[0m",
      "\u001b[1;31mKeyboardInterrupt\u001b[0m                         Traceback (most recent call last)",
      "\u001b[1;32m<ipython-input-52-49bea5822b3f>\u001b[0m in \u001b[0;36m<module>\u001b[1;34m()\u001b[0m\n\u001b[0;32m      1\u001b[0m \u001b[1;32mfor\u001b[0m \u001b[0mtarget_percentage\u001b[0m \u001b[1;32min\u001b[0m \u001b[1;33m[\u001b[0m\u001b[1;36m0.25\u001b[0m\u001b[1;33m,\u001b[0m \u001b[1;36m0.5\u001b[0m\u001b[1;33m]\u001b[0m\u001b[1;33m:\u001b[0m\u001b[1;33m\u001b[0m\u001b[0m\n\u001b[0;32m      2\u001b[0m     \u001b[1;32mfor\u001b[0m \u001b[0mk\u001b[0m \u001b[1;32min\u001b[0m \u001b[1;33m[\u001b[0m\u001b[1;36m5\u001b[0m\u001b[1;33m,\u001b[0m \u001b[1;36m15\u001b[0m\u001b[1;33m]\u001b[0m\u001b[1;33m:\u001b[0m\u001b[1;33m\u001b[0m\u001b[0m\n\u001b[1;32m----> 3\u001b[1;33m         \u001b[0mX_u\u001b[0m\u001b[1;33m,\u001b[0m \u001b[0my_u\u001b[0m \u001b[1;33m=\u001b[0m \u001b[0mSMOTE\u001b[0m\u001b[1;33m(\u001b[0m\u001b[0mX\u001b[0m\u001b[1;33m,\u001b[0m \u001b[0my\u001b[0m\u001b[1;33m,\u001b[0m \u001b[0mtarget_percentage\u001b[0m\u001b[1;33m,\u001b[0m \u001b[0mk\u001b[0m\u001b[1;33m,\u001b[0m \u001b[0mseed\u001b[0m\u001b[1;33m=\u001b[0m\u001b[1;36m3\u001b[0m\u001b[1;33m)\u001b[0m\u001b[1;33m\u001b[0m\u001b[0m\n\u001b[0m\u001b[0;32m      4\u001b[0m         \u001b[1;32mprint\u001b[0m\u001b[1;33m(\u001b[0m\u001b[1;34m'Target percentage'\u001b[0m\u001b[1;33m,\u001b[0m \u001b[0mtarget_percentage\u001b[0m\u001b[1;33m,\u001b[0m \u001b[1;34m'k '\u001b[0m\u001b[1;33m,\u001b[0m \u001b[0mk\u001b[0m\u001b[1;33m)\u001b[0m\u001b[1;33m\u001b[0m\u001b[0m\n\u001b[0;32m      5\u001b[0m         \u001b[1;32mprint\u001b[0m\u001b[1;33m(\u001b[0m\u001b[1;34m'y.shape = '\u001b[0m\u001b[1;33m,\u001b[0m\u001b[0my_u\u001b[0m\u001b[1;33m.\u001b[0m\u001b[0mshape\u001b[0m\u001b[1;33m[\u001b[0m\u001b[1;36m0\u001b[0m\u001b[1;33m]\u001b[0m\u001b[1;33m,\u001b[0m \u001b[1;34m'y.mean() = '\u001b[0m\u001b[1;33m,\u001b[0m \u001b[0my_u\u001b[0m\u001b[1;33m.\u001b[0m\u001b[0mmean\u001b[0m\u001b[1;33m(\u001b[0m\u001b[1;33m)\u001b[0m\u001b[1;33m)\u001b[0m\u001b[1;33m\u001b[0m\u001b[0m\n",
      "\u001b[1;32m<ipython-input-39-c827ab270e03>\u001b[0m in \u001b[0;36mSMOTE\u001b[1;34m(X, y, target_percentage, k, seed)\u001b[0m\n\u001b[0;32m     37\u001b[0m         \u001b[0mstep\u001b[0m \u001b[1;33m=\u001b[0m \u001b[0msteps\u001b[0m\u001b[1;33m[\u001b[0m\u001b[0mi\u001b[0m\u001b[1;33m]\u001b[0m\u001b[1;33m\u001b[0m\u001b[0m\n\u001b[0;32m     38\u001b[0m         \u001b[1;31m# Create new sample\u001b[0m\u001b[1;33m\u001b[0m\u001b[1;33m\u001b[0m\u001b[0m\n\u001b[1;32m---> 39\u001b[1;33m         \u001b[0mnew\u001b[0m\u001b[1;33m[\u001b[0m\u001b[0mi\u001b[0m\u001b[1;33m,\u001b[0m \u001b[1;33m:\u001b[0m\u001b[1;33m]\u001b[0m \u001b[1;33m=\u001b[0m \u001b[0mX\u001b[0m\u001b[1;33m[\u001b[0m\u001b[0my\u001b[0m\u001b[1;33m==\u001b[0m\u001b[1;36m1\u001b[0m\u001b[1;33m]\u001b[0m\u001b[1;33m[\u001b[0m\u001b[0msel\u001b[0m\u001b[1;33m]\u001b[0m \u001b[1;33m-\u001b[0m \u001b[0mstep\u001b[0m \u001b[1;33m*\u001b[0m \u001b[1;33m(\u001b[0m\u001b[0mX\u001b[0m\u001b[1;33m[\u001b[0m\u001b[0my\u001b[0m\u001b[1;33m==\u001b[0m\u001b[1;36m1\u001b[0m\u001b[1;33m]\u001b[0m\u001b[1;33m[\u001b[0m\u001b[0msel\u001b[0m\u001b[1;33m]\u001b[0m \u001b[1;33m-\u001b[0m \u001b[0mX\u001b[0m\u001b[1;33m[\u001b[0m\u001b[0my\u001b[0m\u001b[1;33m==\u001b[0m\u001b[1;36m1\u001b[0m\u001b[1;33m]\u001b[0m\u001b[1;33m[\u001b[0m\u001b[0mnn_\u001b[0m\u001b[1;33m]\u001b[0m\u001b[1;33m)\u001b[0m\u001b[1;33m\u001b[0m\u001b[0m\n\u001b[0m\u001b[0;32m     40\u001b[0m \u001b[1;33m\u001b[0m\u001b[0m\n\u001b[0;32m     41\u001b[0m     \u001b[0mX\u001b[0m \u001b[1;33m=\u001b[0m \u001b[0mnp\u001b[0m\u001b[1;33m.\u001b[0m\u001b[0mvstack\u001b[0m\u001b[1;33m(\u001b[0m\u001b[1;33m(\u001b[0m\u001b[0mX\u001b[0m\u001b[1;33m,\u001b[0m \u001b[0mnew\u001b[0m\u001b[1;33m)\u001b[0m\u001b[1;33m)\u001b[0m\u001b[1;33m\u001b[0m\u001b[0m\n",
      "\u001b[1;31mKeyboardInterrupt\u001b[0m: "
     ]
    }
   ],
   "source": [
    "for target_percentage in [0.25, 0.5]:\n",
    "    for k in [5, 15]:\n",
    "        X_u, y_u = SMOTE(X, y, target_percentage, k, seed=3)\n",
    "        print('Target percentage', target_percentage, 'k ', k)\n",
    "        print('y.shape = ',y_u.shape[0], 'y.mean() = ', y_u.mean())\n",
    "       "
   ]
  },
  {
   "cell_type": "markdown",
   "metadata": {},
   "source": [
    "# Exercise 15.5 (3 points)\n",
    "\n",
    "Evaluate the results using Adaptive Synthetic Sampling Approach for Imbalanced\n",
    "Learning (ADASYN)\n",
    "\n",
    "http://www.ele.uri.edu/faculty/he/PDFfiles/adasyn.pdf\n",
    "https://imbalanced-learn.readthedocs.io/en/stable/generated/imblearn.over_sampling.ADASYN.html#rf9172e970ca5-1"
   ]
  },
  {
   "cell_type": "code",
   "execution_count": 51,
   "metadata": {},
   "outputs": [
    {
     "name": "stdout",
     "output_type": "stream",
     "text": [
      "Resampled dataset shape Counter({0.0: 137924, 1.0: 137924})\n"
     ]
    }
   ],
   "source": [
    "from collections import Counter\n",
    "from sklearn.datasets import make_classification\n",
    "from imblearn.over_sampling import ADASYN\n",
    "\n",
    "ada = ADASYN(random_state=42)\n",
    "\n",
    "X_res, y_res = ada.fit_resample(X, y)\n",
    "print('Resampled dataset shape %s' % Counter(y_res))"
   ]
  },
  {
   "cell_type": "markdown",
   "metadata": {},
   "source": [
    "# Exercise 15.6 (3 points)\n",
    "\n",
    "Compare and comment about the results"
   ]
  },
  {
   "cell_type": "code",
   "execution_count": null,
   "metadata": {
    "collapsed": true
   },
   "outputs": [],
   "source": [
    "Los niveles de ajuste d elos modelos hechos con SMOTW y ADASYN son mas altos que los balanceos tradicion\n",
    "ales, sin embargo, las exigencias a nivel de procesamiento son mucho mayores por lo que habria que poner en una balanza ambos escenarios."
   ]
  }
 ],
 "metadata": {
  "kernelspec": {
   "display_name": "Python 2",
   "language": "python",
   "name": "python2"
  },
  "language_info": {
   "codemirror_mode": {
    "name": "ipython",
    "version": 2
   },
   "file_extension": ".py",
   "mimetype": "text/x-python",
   "name": "python",
   "nbconvert_exporter": "python",
   "pygments_lexer": "ipython2",
   "version": "2.7.15"
  }
 },
 "nbformat": 4,
 "nbformat_minor": 1
}
